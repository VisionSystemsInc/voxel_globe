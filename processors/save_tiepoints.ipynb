{
 "metadata": {
  "name": "",
  "signature": "sha256:dd6cea4ee9f4d2480a6c86ec61de386a589e58f426fa66d6ee7f63e611d13782"
 },
 "nbformat": 3,
 "nbformat_minor": 0,
 "worksheets": [
  {
   "cells": [
    {
     "cell_type": "code",
     "collapsed": false,
     "input": [
      "import meta.models\n",
      "from os import environ as env\n",
      "from os.path import join as path_join"
     ],
     "language": "python",
     "metadata": {},
     "outputs": [],
     "prompt_number": 2
    },
    {
     "cell_type": "code",
     "collapsed": false,
     "input": [
      "newestTiePoints = meta.models.TiePoint.objects.filter(newerVersion=None)"
     ],
     "language": "python",
     "metadata": {},
     "outputs": [],
     "prompt_number": 3
    },
    {
     "cell_type": "code",
     "collapsed": false,
     "input": [
      "newestTiePoints[0]"
     ],
     "language": "python",
     "metadata": {},
     "outputs": [
      {
       "metadata": {},
       "output_type": "pyout",
       "prompt_number": 4,
       "text": [
        "id: 1\n",
        "service: serviceinstance - tasks.add_sample_tie_point [3]\n",
        "name: S49 Camera:0 Frame:000\n",
        "objectId: 1971e7d6-eaea-437c-994f-6ff979eddab0\n",
        "newerVersion: None\n",
        "deleted: False\n",
        "point: POINT (3014.1439374684377981 1701.2275250550819692)\n",
        "image: image - Purdue Data Date:20100427161936 Sequence:04003 Camera:0 Frame:000[1]\n",
        "geoPoint: controlpoint - S49[36]"
       ]
      }
     ],
     "prompt_number": 4
    },
    {
     "cell_type": "code",
     "collapsed": false,
     "input": [
      "with open(path_join(env['VIP_DATABASE_DIR'], 'latest_tiepoints.txt'), 'w') as fid:\n",
      "  for tp in newestTiePoints:\n",
      "    print >>fid, '%s\\x00%s\\x00%s\\x00%s' % (tp.image.name, tp.geoPoint.name, tp.point[0], tp.point[1])"
     ],
     "language": "python",
     "metadata": {},
     "outputs": [],
     "prompt_number": 4
    },
    {
     "cell_type": "code",
     "collapsed": false,
     "input": [
      "with open(path_join(env['VIP_DATABASE_DIR'], 'latest_tiepoints.txt'), 'r') as fid:\n",
      "  lines = fid.readlines();\n",
      "lines = map(lambda x: x.split('\\x00'), lines)\n"
     ],
     "language": "python",
     "metadata": {},
     "outputs": [],
     "prompt_number": 6
    },
    {
     "cell_type": "code",
     "collapsed": false,
     "input": [
      "lines[0]"
     ],
     "language": "python",
     "metadata": {},
     "outputs": [
      {
       "metadata": {},
       "output_type": "pyout",
       "prompt_number": 7,
       "text": [
        "['Purdue Data Date:20100427161936 Sequence:04003 Camera:0 Frame:000',\n",
        " 'SGC30',\n",
        " '2575.0',\n",
        " '1890.0\\n']"
       ]
      }
     ],
     "prompt_number": 7
    },
    {
     "cell_type": "code",
     "collapsed": false,
     "input": [
      "for tp in lines:\n",
      "  img = meta.models.Image.objects.get(name=tp[0], newerVersion=None)\n",
      "  cp = meta.models.ControlPoint.objects.get(name=tp[1], newerVersion=None)\n",
      "  TP = meta.models.TiePoint.objects.get(geoPoint=cp, image=img, newerVersion=None)\n",
      "  print 'POINT(%s %s)' % (tp[2], tp[3].strip())  \n",
      "  TP.point = 'POINT(%s %s)' % (tp[2], tp[3].strip())\n",
      "  TP.update()\n",
      "\n"
     ],
     "language": "python",
     "metadata": {},
     "outputs": [
      {
       "output_type": "stream",
       "stream": "stdout",
       "text": [
        "POINT(2575.0 1890.0\n",
        ")\n",
        "POINT(3022.0 1723.0\n",
        ")\n",
        "POINT(2974.0 1784.0\n",
        ")"
       ]
      },
      {
       "output_type": "stream",
       "stream": "stdout",
       "text": [
        "\n",
        "POINT(2939.0 1755.0\n",
        ")\n",
        "POINT(2870.0 1741.0\n",
        ")"
       ]
      },
      {
       "output_type": "stream",
       "stream": "stdout",
       "text": [
        "\n",
        "POINT(2806.0 1768.0\n",
        ")\n",
        "POINT(2760.0 1826.0\n",
        ")\n",
        "POINT(2709.0 1845.0\n",
        ")"
       ]
      },
      {
       "output_type": "stream",
       "stream": "stdout",
       "text": [
        "\n",
        "POINT(2657.0 1754.0\n",
        ")\n",
        "POINT(2582.0 1736.0\n",
        ")\n",
        "POINT(2511.0 1812.0\n",
        ")"
       ]
      },
      {
       "output_type": "stream",
       "stream": "stdout",
       "text": [
        "\n",
        "POINT(2244.0 1673.0\n",
        ")\n",
        "POINT(2193.0 1724.0\n",
        ")\n",
        "POINT(2155.0 1685.0\n",
        ")\n",
        "POINT(2082.0 1663.0\n",
        ")"
       ]
      },
      {
       "output_type": "stream",
       "stream": "stdout",
       "text": [
        "\n",
        "POINT(2016.0 1683.0\n",
        ")\n",
        "POINT(1968.0 1734.0\n",
        ")\n",
        "POINT(1916.0 1745.0\n",
        ")\n",
        "POINT(1862.0 1647.0\n",
        ")"
       ]
      },
      {
       "output_type": "stream",
       "stream": "stdout",
       "text": [
        "\n",
        "POINT(1787.0 1621.0\n",
        ")\n",
        "POINT(1715.0 1687.0\n",
        ")\n",
        "POINT(2463.0 1768.0\n",
        ")"
       ]
      },
      {
       "output_type": "stream",
       "stream": "stdout",
       "text": [
        "\n",
        "POINT(2410.0 1824.0\n",
        ")\n",
        "POINT(2368.0 1786.0\n",
        ")\n",
        "POINT(2292.0 1767.0\n",
        ")"
       ]
      },
      {
       "output_type": "stream",
       "stream": "stdout",
       "text": [
        "\n",
        "POINT(2223.0 1787.0\n",
        ")\n",
        "POINT(2172.0 1840.0\n",
        ")\n",
        "POINT(2118.0 1853.0\n",
        ")"
       ]
      },
      {
       "output_type": "stream",
       "stream": "stdout",
       "text": [
        "\n",
        "POINT(2059.0 1757.0\n",
        ")\n",
        "POINT(1980.0 1733.0\n",
        ")\n",
        "POINT(1905.0 1800.0\n",
        ")"
       ]
      },
      {
       "output_type": "stream",
       "stream": "stdout",
       "text": [
        "\n",
        "POINT(2848.0 1510.0\n",
        ")\n",
        "POINT(2807.0 1568.0\n",
        ")\n",
        "POINT(2778.0 1537.0\n",
        ")"
       ]
      },
      {
       "output_type": "stream",
       "stream": "stdout",
       "text": [
        "\n",
        "POINT(2714.0 1522.0\n",
        ")\n",
        "POINT(2656.0 1548.0\n",
        ")\n",
        "POINT(2616.0 1605.0\n",
        ")"
       ]
      },
      {
       "output_type": "stream",
       "stream": "stdout",
       "text": [
        "\n",
        "POINT(2572.0 1622.0\n",
        ")\n",
        "POINT(2525.0 1531.0\n",
        ")\n",
        "POINT(2457.0 1511.0\n",
        ")\n",
        "POINT(2392.0 1586.0\n",
        ")"
       ]
      },
      {
       "output_type": "stream",
       "stream": "stdout",
       "text": [
        "\n",
        "POINT(2992.0 1526.0\n",
        ")\n",
        "POINT(2951.0 1587.0\n",
        ")\n",
        "POINT(2921.0 1558.0\n",
        ")"
       ]
      },
      {
       "output_type": "stream",
       "stream": "stdout",
       "text": [
        "\n",
        "POINT(2858.0 1544.0\n",
        ")\n",
        "POINT(2799.0 1571.0\n",
        ")\n",
        "POINT(2759.0 1630.0\n",
        ")"
       ]
      },
      {
       "output_type": "stream",
       "stream": "stdout",
       "text": [
        "\n",
        "POINT(2713.0 1647.0\n",
        ")\n",
        "POINT(2667.0 1557.0\n",
        ")\n",
        "POINT(2598.0 1539.0\n",
        ")\n",
        "POINT(2518.0 1945.0\n",
        ")"
       ]
      },
      {
       "output_type": "stream",
       "stream": "stdout",
       "text": [
        "\n",
        "POINT(2472.0 1910.0\n",
        ")\n",
        "POINT(2393.0 1892.0\n",
        ")\n",
        "POINT(2320.0 1913.0\n",
        ")"
       ]
      },
      {
       "output_type": "stream",
       "stream": "stdout",
       "text": [
        "\n",
        "POINT(2265.0 1967.0\n",
        ")\n",
        "POINT(2207.0 1980.0\n",
        ")\n",
        "POINT(2145.0 1885.0\n",
        ")\n",
        "POINT(2062.0 1860.0\n",
        ")"
       ]
      },
      {
       "output_type": "stream",
       "stream": "stdout",
       "text": [
        "\n",
        "POINT(1983.0 1929.0\n",
        ")\n",
        "POINT(2533.0 1615.0\n",
        ")\n"
       ]
      }
     ],
     "prompt_number": 8
    },
    {
     "cell_type": "code",
     "collapsed": false,
     "input": [
      "TP.point"
     ],
     "language": "python",
     "metadata": {},
     "outputs": [
      {
       "ename": "ValueError",
       "evalue": "String or unicode input unrecognized as WKT EWKT, and HEXEWKB.",
       "output_type": "pyerr",
       "traceback": [
        "\u001b[1;31m---------------------------------------------------------------------------\u001b[0m\n\u001b[1;31mValueError\u001b[0m                                Traceback (most recent call last)",
        "\u001b[1;32m<ipython-input-8-3521f7de7d46>\u001b[0m in \u001b[0;36m<module>\u001b[1;34m()\u001b[0m\n\u001b[1;32m----> 1\u001b[1;33m \u001b[0mTP\u001b[0m\u001b[1;33m.\u001b[0m\u001b[0mpoint\u001b[0m\u001b[1;33m\u001b[0m\u001b[0m\n\u001b[0m",
        "\u001b[1;32m/opt/users/andy/projects/ngap2/vip/external/bin_Linux_x86_64/lib/python2.7/site-packages/django/contrib/gis/db/models/proxy.pyc\u001b[0m in \u001b[0;36m__get__\u001b[1;34m(self, obj, type)\u001b[0m\n\u001b[0;32m     38\u001b[0m             \u001b[1;31m# Otherwise, a Geometry object is built using the field's contents,\u001b[0m\u001b[1;33m\u001b[0m\u001b[1;33m\u001b[0m\u001b[0m\n\u001b[0;32m     39\u001b[0m             \u001b[1;31m# and the model's corresponding attribute is set.\u001b[0m\u001b[1;33m\u001b[0m\u001b[1;33m\u001b[0m\u001b[0m\n\u001b[1;32m---> 40\u001b[1;33m             \u001b[0mgeom\u001b[0m \u001b[1;33m=\u001b[0m \u001b[0mself\u001b[0m\u001b[1;33m.\u001b[0m\u001b[0m_klass\u001b[0m\u001b[1;33m(\u001b[0m\u001b[0mgeom_value\u001b[0m\u001b[1;33m)\u001b[0m\u001b[1;33m\u001b[0m\u001b[0m\n\u001b[0m\u001b[0;32m     41\u001b[0m             \u001b[0msetattr\u001b[0m\u001b[1;33m(\u001b[0m\u001b[0mobj\u001b[0m\u001b[1;33m,\u001b[0m \u001b[0mself\u001b[0m\u001b[1;33m.\u001b[0m\u001b[0m_field\u001b[0m\u001b[1;33m.\u001b[0m\u001b[0mattname\u001b[0m\u001b[1;33m,\u001b[0m \u001b[0mgeom\u001b[0m\u001b[1;33m)\u001b[0m\u001b[1;33m\u001b[0m\u001b[0m\n\u001b[0;32m     42\u001b[0m         \u001b[1;32mreturn\u001b[0m \u001b[0mgeom\u001b[0m\u001b[1;33m\u001b[0m\u001b[0m\n",
        "\u001b[1;32m/opt/users/andy/projects/ngap2/vip/external/bin_Linux_x86_64/lib/python2.7/site-packages/django/contrib/gis/geos/geometry.pyc\u001b[0m in \u001b[0;36m__init__\u001b[1;34m(self, geo_input, srid)\u001b[0m\n\u001b[0;32m     77\u001b[0m                 \u001b[0mg\u001b[0m \u001b[1;33m=\u001b[0m \u001b[0mwkb_r\u001b[0m\u001b[1;33m(\u001b[0m\u001b[1;33m)\u001b[0m\u001b[1;33m.\u001b[0m\u001b[0mread\u001b[0m\u001b[1;33m(\u001b[0m\u001b[0mgdal\u001b[0m\u001b[1;33m.\u001b[0m\u001b[0mOGRGeometry\u001b[0m\u001b[1;33m(\u001b[0m\u001b[0mgeo_input\u001b[0m\u001b[1;33m)\u001b[0m\u001b[1;33m.\u001b[0m\u001b[0mwkb\u001b[0m\u001b[1;33m)\u001b[0m\u001b[1;33m\u001b[0m\u001b[0m\n\u001b[0;32m     78\u001b[0m             \u001b[1;32melse\u001b[0m\u001b[1;33m:\u001b[0m\u001b[1;33m\u001b[0m\u001b[0m\n\u001b[1;32m---> 79\u001b[1;33m                 \u001b[1;32mraise\u001b[0m \u001b[0mValueError\u001b[0m\u001b[1;33m(\u001b[0m\u001b[1;34m'String or unicode input unrecognized as WKT EWKT, and HEXEWKB.'\u001b[0m\u001b[1;33m)\u001b[0m\u001b[1;33m\u001b[0m\u001b[0m\n\u001b[0m\u001b[0;32m     80\u001b[0m         \u001b[1;32melif\u001b[0m \u001b[0misinstance\u001b[0m\u001b[1;33m(\u001b[0m\u001b[0mgeo_input\u001b[0m\u001b[1;33m,\u001b[0m \u001b[0mGEOM_PTR\u001b[0m\u001b[1;33m)\u001b[0m\u001b[1;33m:\u001b[0m\u001b[1;33m\u001b[0m\u001b[0m\n\u001b[0;32m     81\u001b[0m             \u001b[1;31m# When the input is a pointer to a geomtry (GEOM_PTR).\u001b[0m\u001b[1;33m\u001b[0m\u001b[1;33m\u001b[0m\u001b[0m\n",
        "\u001b[1;31mValueError\u001b[0m: String or unicode input unrecognized as WKT EWKT, and HEXEWKB."
       ]
      }
     ],
     "prompt_number": 8
    }
   ],
   "metadata": {}
  }
 ]
}