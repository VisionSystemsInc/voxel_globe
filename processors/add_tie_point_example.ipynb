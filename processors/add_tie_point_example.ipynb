{
 "metadata": {
  "name": "",
  "signature": "sha256:14a4c290812c6233535413db162a609e1b379506b49755e6d28a2b918d6bf17d"
 },
 "nbformat": 3,
 "nbformat_minor": 0,
 "worksheets": [
  {
   "cells": [
    {
     "cell_type": "code",
     "collapsed": false,
     "input": [
      "import tasks\n",
      "from django.contrib.gis.geos import *"
     ],
     "language": "python",
     "metadata": {},
     "outputs": [],
     "prompt_number": 5
    },
    {
     "cell_type": "code",
     "collapsed": false,
     "input": [
      "Point(1,2).geojson"
     ],
     "language": "python",
     "metadata": {},
     "outputs": [
      {
       "metadata": {},
       "output_type": "pyout",
       "prompt_number": 6,
       "text": [
        "u'{ \"type\": \"Point\", \"coordinates\": [ 1.0, 2.0 ] }'"
       ]
      }
     ],
     "prompt_number": 6
    },
    {
     "cell_type": "code",
     "collapsed": false,
     "input": [
      "t = tasks.addTiePoint.apply_async(kwargs={'point':'POINT(29 31)', 'geoPoint_id':1, 'image_id':5, 'name':\"Hiya\"})\n",
      "t.wait()\n",
      "t.result"
     ],
     "language": "python",
     "metadata": {},
     "outputs": [
      {
       "metadata": {},
       "output_type": "pyout",
       "prompt_number": 10,
       "text": [
        "80"
       ]
      }
     ],
     "prompt_number": 10
    },
    {
     "cell_type": "code",
     "collapsed": false,
     "input": [
      "''' This won't work until I properly embed celery into Django '''\n",
      "\n",
      "#import meta.models\n",
      "#reload(meta.models)\n",
      "#blah = meta.models.TiePoint.taskAddSync(kwargs={'point':'POINT(29 31)', 'geoPoint_id':1, 'image_id':5, 'name':\"Hiya\"})\n",
      "#blah.wait()\n",
      "#blah.result"
     ],
     "language": "python",
     "metadata": {},
     "outputs": []
    }
   ],
   "metadata": {}
  }
 ]
}