{
 "metadata": {
  "name": "",
  "signature": "sha256:f0ffb8162b747f081063b3c2fb7ecfce0eda023ecc76cc1791e8b6c361ecb20b"
 },
 "nbformat": 3,
 "nbformat_minor": 0,
 "worksheets": [
  {
   "cells": [
    {
     "cell_type": "code",
     "collapsed": false,
     "input": [
      "import tools.xml_dict\n",
      "from glob import glob\n",
      "import os\n",
      "import numpy as np"
     ],
     "language": "python",
     "metadata": {},
     "outputs": [],
     "prompt_number": 6
    },
    {
     "cell_type": "code",
     "collapsed": false,
     "input": [
      "fixed_transform_dir = '/opt/users/andy/projects/ngap2/purdue_experiments/sample1/cams_krt_geo_lvcs_transformed_lev_marq';\n",
      "output_file = '/opt/users/andy/projects/ngap2/vip/data/purdue_cameras_3.txt'\n",
      "fixed_transform_dir = '/homenis/andy/mnt/fileserver/projects/NGA_P2/AngelFirePurdueSBIR/Sample1_3_voxel_corrected/corr_cams_lev_0';\n",
      "output_file = '/opt/users/andy/projects/ngap2/vip/data/purdue_cameras_4.txt'\n",
      "\n",
      "scene_xml = '/opt/users/andy/projects/ngap2/purdue_experiments/sample1/scene.xml';\n",
      "files = glob('/opt/space/2010_purdue_angelfire/2010*-0400300*-00-VIS.jpg');\n",
      "files.sort();\n"
     ],
     "language": "python",
     "metadata": {},
     "outputs": [],
     "prompt_number": 7
    },
    {
     "cell_type": "code",
     "collapsed": false,
     "input": [
      "scene = tools.xml_dict.load_xml(scene_xml)"
     ],
     "language": "python",
     "metadata": {},
     "outputs": [],
     "prompt_number": 8
    },
    {
     "cell_type": "code",
     "collapsed": false,
     "input": [
      "scene['lvcs'].at['origin_lon'], scene['lvcs'].at['origin_lat'], scene['lvcs'].at['origin_elev']"
     ],
     "language": "python",
     "metadata": {},
     "outputs": [
      {
       "metadata": {},
       "output_type": "pyout",
       "prompt_number": 9,
       "text": [
        "('-86.914940', '40.422234', '140.000000')"
       ]
      }
     ],
     "prompt_number": 9
    },
    {
     "cell_type": "code",
     "collapsed": false,
     "input": [
      "georef = map(float, [scene['lvcs'].at['origin_lon'], scene['lvcs'].at['origin_lat'], scene['lvcs'].at['origin_elev']])\n",
      "outfid = open(output_file, 'w')\n",
      "for i in range(len(files)):\n",
      "    filebase = os.path.splitext(os.path.split(files[i])[-1])[0]\n",
      "    camera_filename = os.path.join(fixed_transform_dir, filebase+'_cam.txt')\n",
      "    with open(camera_filename, 'r') as fid:\n",
      "        krt = fid.readlines();\n",
      "    krt.pop(7);\n",
      "    krt.pop(3);\n",
      "    krt = map(lambda x: x.split(' '), krt)\n",
      "    krt = map(lambda x: map(float, x), krt)\n",
      "    krt = numpy.array(krt)\n",
      "    k = [krt[0,0], krt[1,1], krt[0,2], krt[1,2]];\n",
      "    \n",
      "    t = np.eye(4)\n",
      "    t[0:3, 0:3] = krt[3:6,:]\n",
      "    t[0:3,3] = krt[6,:]\n",
      "    print >>outfid,\"'%s'\" % os.path.split(files[i])[-1],',', georef,',',\n",
      "    print >>outfid,t.tolist(),',',\n",
      "    print >>outfid,k\n",
      "outfid.close()"
     ],
     "language": "python",
     "metadata": {},
     "outputs": [],
     "prompt_number": 10
    },
    {
     "cell_type": "code",
     "collapsed": false,
     "input": [],
     "language": "python",
     "metadata": {},
     "outputs": [],
     "prompt_number": 10
    },
    {
     "cell_type": "code",
     "collapsed": false,
     "input": [],
     "language": "python",
     "metadata": {},
     "outputs": [],
     "prompt_number": 10
    },
    {
     "cell_type": "code",
     "collapsed": false,
     "input": [],
     "language": "python",
     "metadata": {},
     "outputs": [],
     "prompt_number": 10
    }
   ],
   "metadata": {}
  }
 ]
}