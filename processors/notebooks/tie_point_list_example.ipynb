{
 "metadata": {
  "name": "",
  "signature": "sha256:b920b9904f8f57a09c4d55cb9161ff42542102a25ff7afc8e682d7d29a8f7747"
 },
 "nbformat": 3,
 "nbformat_minor": 0,
 "worksheets": [
  {
   "cells": [
    {
     "cell_type": "code",
     "collapsed": false,
     "input": [
      "import meta.models\n",
      "from django.core import serializers"
     ],
     "language": "python",
     "metadata": {},
     "outputs": [],
     "prompt_number": 3
    },
    {
     "cell_type": "code",
     "collapsed": false,
     "input": [
      "tiePoints = meta.models.TiePoint.objects.all()\n",
      "print len(tiePoints)\n",
      "tiePoints[0]"
     ],
     "language": "python",
     "metadata": {},
     "outputs": [
      {
       "output_type": "stream",
       "stream": "stdout",
       "text": [
        "1\n"
       ]
      },
      {
       "metadata": {},
       "output_type": "pyout",
       "prompt_number": 11,
       "text": [
        "id: 1\n",
        "service: serviceinstance - tasks.add_sample_data [1]\n",
        "name: Some point\n",
        "objectId: 41df578c-184e-4f9f-bbc3-b01726df8714\n",
        "newerVersion: None\n",
        "point: POINT (100.0000000000000000 101.0000000000000000)\n",
        "image: image - Oxford Codrington Library[1]\n",
        "geoPoint: controlpoint - Some geo point[1]"
       ]
      }
     ],
     "prompt_number": 11
    },
    {
     "cell_type": "code",
     "collapsed": false,
     "input": [
      "blah = meta.models.TiePoint.objects.filter(image_id=1)\n",
      "serializers.serialize('geojson', blah, fields=('name', 'point', 'geoPoint'))"
     ],
     "language": "python",
     "metadata": {},
     "outputs": [
      {
       "metadata": {},
       "output_type": "pyout",
       "prompt_number": 12,
       "text": [
        "'[{\"pk\": 1, \"model\": \"meta.tiepoint\", \"fields\": {\"geoPoint\": 1, \"name\": \"Some point\", \"point\": {\"type\": \"Point\", \"coordinates\": [100.0, 101.0]}}}]'"
       ]
      }
     ],
     "prompt_number": 12
    }
   ],
   "metadata": {}
  }
 ]
}