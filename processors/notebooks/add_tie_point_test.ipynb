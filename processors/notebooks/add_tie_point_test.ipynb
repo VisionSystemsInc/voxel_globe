{
 "metadata": {
  "name": "",
  "signature": "sha256:3f406448a3ceeeb064bb392900f5ae1b5ece4a318b2589a4649b43e2cc562022"
 },
 "nbformat": 3,
 "nbformat_minor": 0,
 "worksheets": [
  {
   "cells": [
    {
     "cell_type": "code",
     "collapsed": false,
     "input": [
      "''' Test program to load in a xml file from the vxl correspondance gui '''\n",
      "#import vip.tiepoint_app.tasks as tiepoint_tasks\n",
      "import vip.angelfire.tmp as af_tasks\n",
      "import os\n",
      "from os import environ as env\n",
      "import vip.tools.xml_dict"
     ],
     "language": "python",
     "metadata": {},
     "outputs": [],
     "prompt_number": 3
    },
    {
     "cell_type": "code",
     "collapsed": false,
     "input": [
      "import django; django.setup();\n",
      "\n",
      "x = vip.tools.xml_dict.load_xml(os.path.join(env['VIP_IMAGE_SERVER_ROOT'], 'Purdue_Sample9_all_meta.xml'))\n",
      "x['Correspondences']['Correspondence'][0]['CE'].find_at(fr__is='0')\n",
      "t=af_tasks.add_sample_tie_point.apply(args=(os.path.join(env['VIP_IMAGE_SERVER_ROOT'], 'Purdue_Sample9_all_meta.xml'),\n",
      "                                         os.path.join(env['VIP_IMAGE_SERVER_ROOT'], 'survey_pts_in_lvcs_selected.txt'),\n",
      "                                         0, \n",
      "                                         range(10)));\n",
      "if t.failed():\n",
      "    print t.traceback;\n",
      "    raise t.result;\n",
      "else:\n",
      "     print t.result   "
     ],
     "language": "python",
     "metadata": {},
     "outputs": [
      {
       "output_type": "stream",
       "stream": "stdout",
       "text": [
        "Traceback (most recent call last):\n",
        "  File \"D:\\vip\\external\\bin_Windows_NT_AMD64\\python\\lib\\site-packages\\celery-3.1.16-py2.7.egg\\celery\\app\\trace.py\", line 240, in trace_task\n",
        "    R = retval = fun(*args, **kwargs)\n",
        "  File \"D:\\vip\\processors\\vip\\angelfire\\tmp.py\", line 186, in add_sample_tie_point\n",
        "    cp = meta.models.ControlPoint.objects.get(name=cpn);\n",
        "  File \"D:\\vip\\external\\bin_Windows_NT_AMD64\\python\\lib\\site-packages\\django-1.7-py2.7.egg\\django\\db\\models\\manager.py\", line 92, in manager_method\n",
        "    return getattr(self.get_queryset(), name)(*args, **kwargs)\n",
        "  File \"D:\\vip\\external\\bin_Windows_NT_AMD64\\python\\lib\\site-packages\\django-1.7-py2.7.egg\\django\\db\\models\\query.py\", line 357, in get\n",
        "    self.model._meta.object_name)\n",
        "DoesNotExist: ControlPoint matching query does not exist.\n",
        "\n"
       ]
      },
      {
       "ename": "DoesNotExist",
       "evalue": "ControlPoint matching query does not exist.",
       "output_type": "pyerr",
       "traceback": [
        "\u001b[1;31m---------------------------------------------------------------------------\u001b[0m\n\u001b[1;31mDoesNotExist\u001b[0m                              Traceback (most recent call last)",
        "\u001b[1;32m<ipython-input-5-8fdfc61a0156>\u001b[0m in \u001b[0;36m<module>\u001b[1;34m()\u001b[0m\n\u001b[0;32m      9\u001b[0m \u001b[1;32mif\u001b[0m \u001b[0mt\u001b[0m\u001b[1;33m.\u001b[0m\u001b[0mfailed\u001b[0m\u001b[1;33m(\u001b[0m\u001b[1;33m)\u001b[0m\u001b[1;33m:\u001b[0m\u001b[1;33m\u001b[0m\u001b[0m\n\u001b[0;32m     10\u001b[0m     \u001b[1;32mprint\u001b[0m \u001b[0mt\u001b[0m\u001b[1;33m.\u001b[0m\u001b[0mtraceback\u001b[0m\u001b[1;33m;\u001b[0m\u001b[1;33m\u001b[0m\u001b[0m\n\u001b[1;32m---> 11\u001b[1;33m     \u001b[1;32mraise\u001b[0m \u001b[0mt\u001b[0m\u001b[1;33m.\u001b[0m\u001b[0mresult\u001b[0m\u001b[1;33m;\u001b[0m\u001b[1;33m\u001b[0m\u001b[0m\n\u001b[0m\u001b[0;32m     12\u001b[0m \u001b[1;32melse\u001b[0m\u001b[1;33m:\u001b[0m\u001b[1;33m\u001b[0m\u001b[0m\n\u001b[0;32m     13\u001b[0m      \u001b[1;32mprint\u001b[0m \u001b[0mt\u001b[0m\u001b[1;33m.\u001b[0m\u001b[0mresult\u001b[0m\u001b[1;33m\u001b[0m\u001b[0m\n",
        "\u001b[1;31mDoesNotExist\u001b[0m: ControlPoint matching query does not exist."
       ]
      }
     ],
     "prompt_number": 5
    },
    {
     "cell_type": "code",
     "collapsed": false,
     "input": [],
     "language": "python",
     "metadata": {},
     "outputs": []
    }
   ],
   "metadata": {}
  }
 ]
}