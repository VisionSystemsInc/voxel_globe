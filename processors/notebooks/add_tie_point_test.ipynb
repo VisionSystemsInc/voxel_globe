{
 "metadata": {
  "name": "",
  "signature": "sha256:70441da1b67f30d44877ae411b69883d95ac724e5fbd43693ef7f24f618f5074"
 },
 "nbformat": 3,
 "nbformat_minor": 0,
 "worksheets": [
  {
   "cells": [
    {
     "cell_type": "code",
     "collapsed": false,
     "input": [
      "''' Test program to load in a xml file from the vxl correspondance gui '''\n",
      "import tiepoint_tasks\n",
      "import os\n",
      "from os import environ as env"
     ],
     "language": "python",
     "metadata": {},
     "outputs": []
    },
    {
     "cell_type": "code",
     "collapsed": false,
     "input": [
      "import tools.xml_dict\n",
      "x = tools.xml_dict.load_xml(os.path.join(env['VIP_DATABASE_DIR'], 'Purdue_Sample9_all_meta.xml'))\n",
      "x['Correspondences']['Correspondence'][0]['CE'].find_at(fr__is='0')"
     ],
     "language": "python",
     "metadata": {},
     "outputs": []
    },
    {
     "cell_type": "code",
     "collapsed": false,
     "input": [
      "t=tiepoint_tasks.add_sample_tie_point.apply(args=(os.path.join(env['VIP_DATABASE_DIR'], 'Purdue_Sample9_all_meta.xml'),\n",
      "                                         os.path.join(env['VIP_DATABASE_DIR'], 'survey_pts_in_lvcs_selected.txt'),\n",
      "                                         0, \n",
      "                                         range(10)));\n",
      "if t.failed():\n",
      "    print t.traceback;\n",
      "    raise t.result;\n",
      "else:\n",
      "     print t.result   "
     ],
     "language": "python",
     "metadata": {},
     "outputs": []
    }
   ],
   "metadata": {}
  }
 ]
}