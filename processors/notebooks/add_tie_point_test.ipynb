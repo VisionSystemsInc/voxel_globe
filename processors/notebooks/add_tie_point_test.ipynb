{
 "metadata": {
  "name": "",
  "signature": "sha256:6fd606d3228d20568da597268a71f10bfd860b629d326577b095454782912f51"
 },
 "nbformat": 3,
 "nbformat_minor": 0,
 "worksheets": [
  {
   "cells": [
    {
     "cell_type": "code",
     "collapsed": false,
     "input": [
      "import tasks\n",
      "import os\n",
      "from os import environ as env"
     ],
     "language": "python",
     "metadata": {},
     "outputs": [],
     "prompt_number": 1
    },
    {
     "cell_type": "code",
     "collapsed": false,
     "input": [
      "import tools.xml_dict\n",
      "x = tools.xml_dict.load_xml(os.path.join(env['VIP_DATABASE_DIR'], 'Purdue_Sample9_all_meta.xml'))\n",
      "x['Correspondences']['Correspondence'][0]['CE'].find_at(fr__is='0')"
     ],
     "language": "python",
     "metadata": {},
     "outputs": [
      {
       "metadata": {},
       "output_type": "pyout",
       "prompt_number": 2,
       "text": [
        "[@: {'fr': '0', 'u': '3014.143937468438', 'v': '1701.227525055082'}]"
       ]
      }
     ],
     "prompt_number": 2
    },
    {
     "cell_type": "code",
     "collapsed": false,
     "input": [
      "reload(tasks)\n",
      "t=tasks.add_sample_tie_point.apply(args=(os.path.join(env['VIP_DATABASE_DIR'], 'Purdue_Sample9_all_meta.xml'),\n",
      "                                         os.path.join(env['VIP_DATABASE_DIR'], 'survey_pts_in_lvcs_selected.txt'),\n",
      "                                         0, \n",
      "                                         range(10)));\n",
      "if t.failed():\n",
      "    print t.traceback;\n",
      "    raise t.result;\n",
      "else:\n",
      "     print t.result   "
     ],
     "language": "python",
     "metadata": {},
     "outputs": [
      {
       "output_type": "stream",
       "stream": "stdout",
       "text": [
        "None\n"
       ]
      }
     ],
     "prompt_number": 4
    },
    {
     "cell_type": "code",
     "collapsed": false,
     "input": [],
     "language": "python",
     "metadata": {},
     "outputs": [],
     "prompt_number": 3
    },
    {
     "cell_type": "code",
     "collapsed": false,
     "input": [],
     "language": "python",
     "metadata": {},
     "outputs": [],
     "prompt_number": 3
    },
    {
     "cell_type": "code",
     "collapsed": false,
     "input": [],
     "language": "python",
     "metadata": {},
     "outputs": [],
     "prompt_number": 3
    },
    {
     "cell_type": "code",
     "collapsed": false,
     "input": [],
     "language": "python",
     "metadata": {},
     "outputs": [],
     "prompt_number": 3
    },
    {
     "cell_type": "code",
     "collapsed": false,
     "input": [],
     "language": "python",
     "metadata": {},
     "outputs": [],
     "prompt_number": 3
    },
    {
     "cell_type": "code",
     "collapsed": false,
     "input": [],
     "language": "python",
     "metadata": {},
     "outputs": [],
     "prompt_number": 3
    },
    {
     "cell_type": "code",
     "collapsed": false,
     "input": [],
     "language": "python",
     "metadata": {},
     "outputs": [],
     "prompt_number": 3
    }
   ],
   "metadata": {}
  }
 ]
}