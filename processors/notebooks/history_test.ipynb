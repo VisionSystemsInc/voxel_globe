{
 "metadata": {
  "name": "",
  "signature": "sha256:83506b7b87379d6a6b2daa2d7019d5231324125cb0c28952a97c096459e9e861"
 },
 "nbformat": 3,
 "nbformat_minor": 0,
 "worksheets": [
  {
   "cells": [
    {
     "cell_type": "code",
     "collapsed": false,
     "input": [
      "import meta.models"
     ],
     "language": "python",
     "metadata": {},
     "outputs": [],
     "prompt_number": 1
    },
    {
     "cell_type": "code",
     "collapsed": false,
     "input": [
      " img1 = meta.models.Image.objects.all()[1]\n",
      "\n",
      " cam1 = img1.camera\n",
      "\n",
      " cs1 = cam1.coordinateSystem\n",
      "\n",
      " ct1 = cs1.coordinatetransform_to_set.all()[0]"
     ],
     "language": "python",
     "metadata": {},
     "outputs": [],
     "prompt_number": 2
    },
    {
     "cell_type": "code",
     "collapsed": false,
     "input": [
      "ct1"
     ],
     "language": "python",
     "metadata": {},
     "outputs": [
      {
       "metadata": {},
       "output_type": "pyout",
       "prompt_number": 3,
       "text": [
        "id: 6\n",
        "service: serviceinstance - tasks.add_sample_images [2]\n",
        "name: 20100427161936-04003000-01-VIS 3_2\n",
        "objectId: 66e41a27-6a57-4682-97fc-5828a8a74021\n",
        "newerVersion: coordinatetransform - 20100427161936-04003000-01-VIS 3_2[186]\n",
        "coordinateSystem_from: coordinatesystem - 20100427161936-04003000-01-VIS 2[7]\n",
        "coordinateSystem_to: coordinatesystem - 20100427161936-04003000-01-VIS 3[8]\n",
        "transformType: "
       ]
      }
     ],
     "prompt_number": 3
    },
    {
     "cell_type": "code",
     "collapsed": false,
     "input": [
      "blah_sub = meta.models.CartesianTransform.objects.filter(objectId=ct1.objectId)\n",
      "blah_super = meta.models.CoordinateTransform.objects.filter(objectId=ct1.objectId)"
     ],
     "language": "python",
     "metadata": {},
     "outputs": [],
     "prompt_number": 4
    },
    {
     "cell_type": "code",
     "collapsed": false,
     "input": [
      "blah_sub"
     ],
     "language": "python",
     "metadata": {},
     "outputs": [
      {
       "metadata": {},
       "output_type": "pyout",
       "prompt_number": 5,
       "text": [
        "[id: 6\n",
        "service: serviceinstance - tasks.add_sample_images [2]\n",
        "name: 20100427161936-04003000-01-VIS 3_2\n",
        "objectId: 66e41a27-6a57-4682-97fc-5828a8a74021\n",
        "newerVersion: coordinatetransform - 20100427161936-04003000-01-VIS 3_2[186]\n",
        "coordinateSystem_from: coordinatesystem - 20100427161936-04003000-01-VIS 2[7]\n",
        "coordinateSystem_to: coordinatesystem - 20100427161936-04003000-01-VIS 3[8]\n",
        "transformType: \n",
        "coordinatetransform_ptr: coordinatetransform - 20100427161936-04003000-01-VIS 3_2[6]\n",
        "rodriguezX: POINT Z (1.0000000000000000 0.0000000000000000 0.0000000000000000)\n",
        "rodriguezY: POINT Z (0.0000000000000000 1.0000000000000000 0.0000000000000000)\n",
        "rodriguezZ: POINT Z (0.0000000000000000 0.0000000000000000 1.0000000000000000)\n",
        "translation: POINT Z (0.0000000000000000 0.0000000000000000 0.0000000000000000)\n",
        ", id: 186\n",
        "service: serviceinstance - tasks.add_sample_images [2]\n",
        "name: 20100427161936-04003000-01-VIS 3_2\n",
        "objectId: 66e41a27-6a57-4682-97fc-5828a8a74021\n",
        "newerVersion: None\n",
        "coordinateSystem_from: coordinatesystem - 20100427161936-04003000-01-VIS 2[7]\n",
        "coordinateSystem_to: coordinatesystem - 20100427161936-04003000-01-VIS 3[8]\n",
        "transformType: \n",
        "coordinatetransform_ptr: coordinatetransform - 20100427161936-04003000-01-VIS 3_2[186]\n",
        "rodriguezX: POINT Z (-1.0000000000000000 -0.0000000000000001 -0.0000000000000000)\n",
        "rodriguezY: POINT Z (0.0000000000000001 -0.9856066803612987 -0.1690546409513228)\n",
        "rodriguezZ: POINT Z (0.0000000000000000 -0.1690546409513228 0.9856066803612987)\n",
        "translation: POINT Z (0.0000000000000000 0.0000000000000000 0.0000000000000000)\n",
        "]"
       ]
      }
     ],
     "prompt_number": 5
    },
    {
     "cell_type": "code",
     "collapsed": false,
     "input": [
      "blah_super"
     ],
     "language": "python",
     "metadata": {},
     "outputs": [
      {
       "metadata": {},
       "output_type": "pyout",
       "prompt_number": 6,
       "text": [
        "[id: 6\n",
        "service: serviceinstance - tasks.add_sample_images [2]\n",
        "name: 20100427161936-04003000-01-VIS 3_2\n",
        "objectId: 66e41a27-6a57-4682-97fc-5828a8a74021\n",
        "newerVersion: coordinatetransform - 20100427161936-04003000-01-VIS 3_2[186]\n",
        "coordinateSystem_from: coordinatesystem - 20100427161936-04003000-01-VIS 2[7]\n",
        "coordinateSystem_to: coordinatesystem - 20100427161936-04003000-01-VIS 3[8]\n",
        "transformType: \n",
        ", id: 186\n",
        "service: serviceinstance - tasks.add_sample_images [2]\n",
        "name: 20100427161936-04003000-01-VIS 3_2\n",
        "objectId: 66e41a27-6a57-4682-97fc-5828a8a74021\n",
        "newerVersion: None\n",
        "coordinateSystem_from: coordinatesystem - 20100427161936-04003000-01-VIS 2[7]\n",
        "coordinateSystem_to: coordinatesystem - 20100427161936-04003000-01-VIS 3[8]\n",
        "transformType: \n",
        "]"
       ]
      }
     ],
     "prompt_number": 6
    },
    {
     "cell_type": "code",
     "collapsed": false,
     "input": [
      "blah_sub[1].history_set.all()"
     ],
     "language": "python",
     "metadata": {},
     "outputs": [
      {
       "metadata": {},
       "output_type": "pyout",
       "prompt_number": 7,
       "text": [
        "[id: 6\n",
        "service: serviceinstance - tasks.add_sample_images [2]\n",
        "name: 20100427161936-04003000-01-VIS 3_2\n",
        "objectId: 66e41a27-6a57-4682-97fc-5828a8a74021\n",
        "newerVersion: cartesiantransform - 20100427161936-04003000-01-VIS 3_2[186]\n",
        "coordinateSystem_from: coordinatesystem - 20100427161936-04003000-01-VIS 2[7]\n",
        "coordinateSystem_to: coordinatesystem - 20100427161936-04003000-01-VIS 3[8]\n",
        "transformType: \n",
        "]"
       ]
      }
     ],
     "prompt_number": 7
    },
    {
     "cell_type": "code",
     "collapsed": false,
     "input": [
      "blah_super[1].history(0)"
     ],
     "language": "python",
     "metadata": {},
     "outputs": [
      {
       "metadata": {},
       "output_type": "pyout",
       "prompt_number": 8,
       "text": [
        "id: 186\n",
        "service: serviceinstance - tasks.add_sample_images [2]\n",
        "name: 20100427161936-04003000-01-VIS 3_2\n",
        "objectId: 66e41a27-6a57-4682-97fc-5828a8a74021\n",
        "newerVersion: None\n",
        "coordinateSystem_from: coordinatesystem - 20100427161936-04003000-01-VIS 2[7]\n",
        "coordinateSystem_to: coordinatesystem - 20100427161936-04003000-01-VIS 3[8]\n",
        "transformType: \n",
        "coordinatetransform_ptr: coordinatetransform - 20100427161936-04003000-01-VIS 3_2[186]\n",
        "rodriguezX: POINT Z (-1.0000000000000000 -0.0000000000000001 -0.0000000000000000)\n",
        "rodriguezY: POINT Z (0.0000000000000001 -0.9856066803612987 -0.1690546409513228)\n",
        "rodriguezZ: POINT Z (0.0000000000000000 -0.1690546409513228 0.9856066803612987)\n",
        "translation: POINT Z (0.0000000000000000 0.0000000000000000 0.0000000000000000)"
       ]
      }
     ],
     "prompt_number": 8
    },
    {
     "cell_type": "code",
     "collapsed": false,
     "input": [
      "blah_sub[1].history(0)"
     ],
     "language": "python",
     "metadata": {},
     "outputs": [
      {
       "metadata": {},
       "output_type": "pyout",
       "prompt_number": 9,
       "text": [
        "id: 186\n",
        "service: serviceinstance - tasks.add_sample_images [2]\n",
        "name: 20100427161936-04003000-01-VIS 3_2\n",
        "objectId: 66e41a27-6a57-4682-97fc-5828a8a74021\n",
        "newerVersion: None\n",
        "coordinateSystem_from: coordinatesystem - 20100427161936-04003000-01-VIS 2[7]\n",
        "coordinateSystem_to: coordinatesystem - 20100427161936-04003000-01-VIS 3[8]\n",
        "transformType: \n",
        "coordinatetransform_ptr: coordinatetransform - 20100427161936-04003000-01-VIS 3_2[186]\n",
        "rodriguezX: POINT Z (-1.0000000000000000 -0.0000000000000001 -0.0000000000000000)\n",
        "rodriguezY: POINT Z (0.0000000000000001 -0.9856066803612987 -0.1690546409513228)\n",
        "rodriguezZ: POINT Z (0.0000000000000000 -0.1690546409513228 0.9856066803612987)\n",
        "translation: POINT Z (0.0000000000000000 0.0000000000000000 0.0000000000000000)"
       ]
      }
     ],
     "prompt_number": 9
    },
    {
     "cell_type": "code",
     "collapsed": false,
     "input": [],
     "language": "python",
     "metadata": {},
     "outputs": [],
     "prompt_number": 9
    }
   ],
   "metadata": {}
  }
 ]
}