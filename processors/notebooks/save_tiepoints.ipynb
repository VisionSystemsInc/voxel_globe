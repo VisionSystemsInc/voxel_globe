{
 "metadata": {
  "name": "",
  "signature": "sha256:89482de6c0388ac305ad8e449b63f7f8f5f0a288b7aed34bfd2ebcba0cfdb356"
 },
 "nbformat": 3,
 "nbformat_minor": 0,
 "worksheets": [
  {
   "cells": [
    {
     "cell_type": "code",
     "collapsed": false,
     "input": [
      "import django; django.setup(); del django\n",
      "import meta.models\n",
      "from os import environ as env\n",
      "from os.path import join as path_join"
     ],
     "language": "python",
     "metadata": {},
     "outputs": [],
     "prompt_number": 1
    },
    {
     "cell_type": "code",
     "collapsed": false,
     "input": [
      "newestTiePoints = meta.models.TiePoint.objects.filter(newerVersion=None)"
     ],
     "language": "python",
     "metadata": {},
     "outputs": [],
     "prompt_number": 2
    },
    {
     "cell_type": "code",
     "collapsed": false,
     "input": [
      "newestTiePoints[0]"
     ],
     "language": "python",
     "metadata": {},
     "outputs": [
      {
       "metadata": {},
       "output_type": "pyout",
       "prompt_number": 3,
       "text": [
        "id: 2\n",
        "service: serviceinstance - add_purdue_data.add_sample_tie_point [2]\n",
        "name: NA-08 Frame:033\n",
        "objectId: a2f0e07c-9c35-4fd5-89c1-f56f290c70e2\n",
        "newerVersion: None\n",
        "deleted: False\n",
        "point: POINT (1033.0000000000000000 224.0000000000000000)\n",
        "image: image - Arducopter Mission 2 Frame:0033[33]\n",
        "geoPoint: controlpoint - NA-08[4]"
       ]
      }
     ],
     "prompt_number": 3
    },
    {
     "cell_type": "code",
     "collapsed": false,
     "input": [
      "with open(path_join(env['VIP_DATABASE_DIR'], 'latest_tiepoints.txt'), 'w') as fid:\n",
      "  for tp in newestTiePoints:\n",
      "    print >>fid, '%s\\x00%s\\x00%s\\x00%s' % (tp.image.name, tp.geoPoint.name, tp.point[0], tp.point[1])"
     ],
     "language": "python",
     "metadata": {},
     "outputs": [],
     "prompt_number": 4
    },
    {
     "cell_type": "code",
     "collapsed": false,
     "input": [
      "with open(path_join(env['VIP_DATABASE_DIR'], 'latest_tiepoints.txt'), 'r') as fid:\n",
      "  lines = fid.readlines();\n",
      "lines = map(lambda x: x.split('\\x00'), lines)\n"
     ],
     "language": "python",
     "metadata": {},
     "outputs": [],
     "prompt_number": 5
    },
    {
     "cell_type": "code",
     "collapsed": false,
     "input": [
      "lines[0]"
     ],
     "language": "python",
     "metadata": {},
     "outputs": [
      {
       "metadata": {},
       "output_type": "pyout",
       "prompt_number": 6,
       "text": [
        "['Arducopter Mission 2 Frame:0033', 'NA-08', '1033.0', '224.0\\n']"
       ]
      }
     ],
     "prompt_number": 6
    },
    {
     "cell_type": "code",
     "collapsed": false,
     "input": [
      "for tp in lines:\n",
      "  img = meta.models.Image.objects.get(name=tp[0], newerVersion=None)\n",
      "  cp = meta.models.ControlPoint.objects.get(name=tp[1], newerVersion=None)\n",
      "  TP = meta.models.TiePoint.objects.get(geoPoint=cp, image=img, newerVersion=None)\n",
      "  print 'POINT(%s %s)' % (tp[2], tp[3].strip())  \n",
      "  TP.point = 'POINT(%s %s)' % (tp[2], tp[3].strip())\n",
      "  TP.update()\n",
      "\n"
     ],
     "language": "python",
     "metadata": {},
     "outputs": []
    },
    {
     "cell_type": "code",
     "collapsed": false,
     "input": [
      "TP.point"
     ],
     "language": "python",
     "metadata": {},
     "outputs": [
      {
       "metadata": {},
       "output_type": "pyout",
       "prompt_number": 8,
       "text": [
        "<Point object at 0xb4c5a90L>"
       ]
      }
     ],
     "prompt_number": 8
    },
    {
     "cell_type": "code",
     "collapsed": false,
     "input": [],
     "language": "python",
     "metadata": {},
     "outputs": []
    }
   ],
   "metadata": {}
  }
 ]
}