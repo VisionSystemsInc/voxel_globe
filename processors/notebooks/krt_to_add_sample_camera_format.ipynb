{
 "metadata": {
  "name": "",
  "signature": "sha256:3064de332678691cd16368ba12f2ab965cdbb10de0bdff15c94fbaf7e761db08"
 },
 "nbformat": 3,
 "nbformat_minor": 0,
 "worksheets": [
  {
   "cells": [
    {
     "cell_type": "code",
     "collapsed": false,
     "input": [
      "import vip.tools.xml_dict\n",
      "from glob import glob\n",
      "import os\n",
      "import numpy as np"
     ],
     "language": "python",
     "metadata": {},
     "outputs": [],
     "prompt_number": 1
    },
    {
     "cell_type": "code",
     "collapsed": false,
     "input": [
      "fixed_transform_dir = '/opt/users/andy/projects/ngap2/purdue_experiments/sample1/cams_krt_geo_lvcs_transformed_lev_marq';\n",
      "output_file = '/opt/users/andy/projects/ngap2/vip/data/purdue_cameras_3.txt'\n",
      "scene_xml = '/opt/users/andy/projects/ngap2/purdue_experiments/sample1/scene.xml';\n",
      "files = glob('/opt/space/2010_purdue_angelfire/2010*-0400300*-00-VIS.jpg');\n",
      "\n",
      "fixed_transform_dir = '/homenis/andy/mnt/fileserver/projects/NGA_P2/AngelFirePurdueSBIR/Sample1_3_voxel_corrected/corr_cams_lev_0';\n",
      "output_file = '/opt/users/andy/projects/ngap2/vip/data/purdue_cameras_4.txt'\n",
      "scene_xml = '/opt/users/andy/projects/ngap2/purdue_experiments/sample1/scene.xml';\n",
      "files = glob('/opt/space/2010_purdue_angelfire/2010*-0400300*-00-VIS.jpg');\n",
      "\n",
      "fixed_transform_dir = '/homenis/andy/mnt/fileserver/projects/NGA_P2/CannonRangeDistribution04072014/Mission2_TBS_Circle-2014-09-03/axisaligned/NVM_out/cams_krt_geo';\n",
      "output_file = '/opt/users/andy/projects/ngap2/vip/data/cannon_cameras_1.txt'\n",
      "scene_xml = '/homenis/andy/mnt/fileserver/projects/NGA_P2/CannonRangeDistribution04072014/Mission2_TBS_Circle-2014-09-03/axisaligned/NVM_out/scene_dummy_for_lvcs.xml';\n",
      "files = glob('/homenis/andy/mnt/fileserver/projects/NGA_P2/CannonRangeDistribution04072014/Mission2_TBS_Circle-2014-09-03/Mission2_TBS_Circle/images/*.jpg');\n",
      "\n",
      "files.sort();\n"
     ],
     "language": "python",
     "metadata": {},
     "outputs": [],
     "prompt_number": 2
    },
    {
     "cell_type": "code",
     "collapsed": false,
     "input": [
      "scene = vip.tools.xml_dict.load_xml(scene_xml)"
     ],
     "language": "python",
     "metadata": {},
     "outputs": [],
     "prompt_number": 3
    },
    {
     "cell_type": "code",
     "collapsed": false,
     "input": [
      "scene['lvcs'].at['origin_lon'], scene['lvcs'].at['origin_lat'], scene['lvcs'].at['origin_elev']"
     ],
     "language": "python",
     "metadata": {},
     "outputs": [
      {
       "metadata": {},
       "output_type": "pyout",
       "prompt_number": 4,
       "text": [
        "('-92.215197', '37.648858', '300.000000')"
       ]
      }
     ],
     "prompt_number": 4
    },
    {
     "cell_type": "code",
     "collapsed": false,
     "input": [
      "georef = map(float, [scene['lvcs'].at['origin_lon'], scene['lvcs'].at['origin_lat'], scene['lvcs'].at['origin_elev']])\n",
      "outfid = open(output_file, 'w')\n",
      "for i in range(len(files)):\n",
      "    filebase = os.path.splitext(os.path.split(files[i])[-1])[0]\n",
      "    camera_filename = os.path.join(fixed_transform_dir, filebase+'_cam.txt')\n",
      "    with open(camera_filename, 'r') as fid:\n",
      "        krt = fid.readlines();\n",
      "    krt.pop(7);\n",
      "    krt.pop(3);\n",
      "    krt = map(lambda x: x.split(' '), krt)\n",
      "    krt = map(lambda x: map(float, x), krt)\n",
      "    krt = numpy.array(krt)\n",
      "    k = [krt[0,0], krt[1,1], krt[0,2], krt[1,2]];\n",
      "    \n",
      "    t = np.eye(4)\n",
      "    t[0:3, 0:3] = krt[3:6,:]\n",
      "    t[0:3,3] = krt[6,:]\n",
      "    print >>outfid,\"'%s'\" % os.path.split(files[i])[-1],',', georef,',',\n",
      "    print >>outfid,t.tolist(),',',\n",
      "    print >>outfid,k\n",
      "outfid.close()"
     ],
     "language": "python",
     "metadata": {},
     "outputs": [],
     "prompt_number": 5
    },
    {
     "cell_type": "code",
     "collapsed": false,
     "input": [],
     "language": "python",
     "metadata": {},
     "outputs": [],
     "prompt_number": 10
    },
    {
     "cell_type": "code",
     "collapsed": false,
     "input": [],
     "language": "python",
     "metadata": {},
     "outputs": [],
     "prompt_number": 10
    },
    {
     "cell_type": "code",
     "collapsed": false,
     "input": [],
     "language": "python",
     "metadata": {},
     "outputs": [],
     "prompt_number": 10
    }
   ],
   "metadata": {}
  }
 ]
}