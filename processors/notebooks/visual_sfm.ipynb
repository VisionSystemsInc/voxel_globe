{
 "metadata": {
  "name": "",
  "signature": "sha256:a5eaab6c40d02d21a0ff4916895e62bb886ac15919b76e6edd8128d5db32cfd6"
 },
 "nbformat": 3,
 "nbformat_minor": 0,
 "worksheets": [
  {
   "cells": [
    {
     "cell_type": "code",
     "collapsed": false,
     "input": [
      "import visualsfm\n",
      "from glob import glob\n",
      "import arducopter\n",
      "import os\n",
      "import numpy"
     ],
     "language": "python",
     "metadata": {},
     "outputs": [],
     "prompt_number": 37
    },
    {
     "cell_type": "code",
     "collapsed": false,
     "input": [
      "reload(visualsfm)\n",
      "reload(arducopter)"
     ],
     "language": "python",
     "metadata": {},
     "outputs": [
      {
       "metadata": {},
       "output_type": "pyout",
       "prompt_number": 14,
       "text": [
        "<module 'arducopter' from 'D:\\vip\\processors\\arducopter.pyc'>"
       ]
      }
     ],
     "prompt_number": 14
    },
    {
     "cell_type": "code",
     "collapsed": false,
     "input": [
      "imgDir = r'd:\\visualsfm\\arducopter'\n",
      "outputCameraFile = os.path.join(imgDir, 'cannon_cameras_2.txt');\n",
      "origin = {'lat':37.648858, 'lon':-92.215197, 'h':300}\n",
      "imgs = glob(os.path.join(imgDir, '1fps*.jpg'))\n",
      "#imgs = imgs[::10]\n",
      "imgs.sort()"
     ],
     "language": "python",
     "metadata": {},
     "outputs": [],
     "prompt_number": 15
    },
    {
     "cell_type": "code",
     "collapsed": false,
     "input": [
      "visualsfm.generateMatchPoints(imgs, r'd:\\visualsfm\\arducopter\\match.nvm')"
     ],
     "language": "python",
     "metadata": {},
     "outputs": [],
     "prompt_number": 16
    },
    {
     "cell_type": "code",
     "collapsed": false,
     "input": [
      "data = arducopter.loadAdjTaggedMetadata(r'd:\\visualsfm\\arducopter\\2014-03-20 13-22-44_adj_tagged_images.txt');"
     ],
     "language": "python",
     "metadata": {},
     "outputs": [],
     "prompt_number": 17
    },
    {
     "cell_type": "code",
     "collapsed": false,
     "input": [
      "#visualsfm.writeGpsFile(data, r'd:\\visualsfm\\arducopter\\mission2.gps')\n",
      "#visualsfm.writeGcpFileEcef(data, r'd:\\visualsfm\\arducopter\\match.nvm.gcp')\n",
      "visualsfm.writeGcpFileEnu(data, r'd:\\visualsfm\\arducopter\\match.nvm.gcp', lat_origin=origin['lat'], lon_origin=origin['lon'], h_origin=origin['h'])"
     ],
     "language": "python",
     "metadata": {},
     "outputs": [],
     "prompt_number": 18
    },
    {
     "cell_type": "raw",
     "metadata": {},
     "source": [
      "visualsfm.runSparse(r'd:\\visualsfm\\arducopter\\match.nvm', r'd:\\visualsfm\\arducopter\\sparse.nvm', gcp=True, shared=True)"
     ]
    },
    {
     "cell_type": "code",
     "collapsed": false,
     "input": [],
     "language": "python",
     "metadata": {},
     "outputs": [],
     "prompt_number": 19
    },
    {
     "cell_type": "code",
     "collapsed": false,
     "input": [
      "cams = visualsfm.readNvm(r'd:\\visualsfm\\arducopter\\sparse.nvm')\n",
      "cams.sort(key=lambda x:x.name)"
     ],
     "language": "python",
     "metadata": {},
     "outputs": [],
     "prompt_number": 27
    },
    {
     "cell_type": "code",
     "collapsed": false,
     "input": [
      "x = 0;\n",
      "cams[x]"
     ],
     "language": "python",
     "metadata": {},
     "outputs": [
      {
       "metadata": {},
       "output_type": "pyout",
       "prompt_number": 30,
       "text": [
        "Filename: 1fps_image_0001.jpg\n",
        "FocalLength: 2480.659912\n",
        "R: [ 0.19863837  0.62916323 -0.71374296  0.23509023]\n",
        "T: [-48.67853055 -58.68391174  41.26566376]\n",
        "rd: [ 0.00265567  0.        ]"
       ]
      }
     ],
     "prompt_number": 30
    },
    {
     "cell_type": "code",
     "collapsed": false,
     "input": [
      "from PIL import Image\n",
      "img = Image.open(imgs[x])\n",
      "(width,height) = img.size;\n",
      "img.close();\n",
      "(k,r,t) = cams[x].krt(width, height)\n",
      "(k,r,t)"
     ],
     "language": "python",
     "metadata": {},
     "outputs": [
      {
       "metadata": {},
       "output_type": "pyout",
       "prompt_number": 31,
       "text": [
        "(array([[  2.48065991e+03,   0.00000000e+00,   2.04800000e+03],\n",
        "        [  0.00000000e+00,   2.48065991e+03,   1.08000000e+03],\n",
        "        [  0.00000000e+00,   0.00000000e+00,   1.00000000e+00]]),\n",
        " array([[-0.12939287, -0.99151753,  0.01226678],\n",
        "        [-0.80472578,  0.09777244, -0.5855399 ],\n",
        "        [ 0.57937372, -0.08563608, -0.81055077]]),\n",
        " array([[-64.9909788 ],\n",
        "        [ -9.2725064 ],\n",
        "        [ 56.62551668]]))"
       ]
      }
     ],
     "prompt_number": 31
    },
    {
     "cell_type": "code",
     "collapsed": false,
     "input": [
      "import numpy as np\n",
      "print np.linalg.norm(r), np.linalg.det(r)\n",
      "print r.transpose() - np.linalg.inv(r)\n",
      "print np.linalg.cond(r)"
     ],
     "language": "python",
     "metadata": {},
     "outputs": [
      {
       "output_type": "stream",
       "stream": "stdout",
       "text": [
        "1.73205080757 1.0\n",
        "[[  2.77555756e-17  -1.11022302e-16  -1.11022302e-16]\n",
        " [  0.00000000e+00   5.55111512e-17  -2.77555756e-17]\n",
        " [  3.46944695e-18   0.00000000e+00   1.11022302e-16]]\n",
        "1.0\n"
       ]
      }
     ],
     "prompt_number": 32
    },
    {
     "cell_type": "code",
     "collapsed": false,
     "input": [
      "cams[x].to_text_file_format(origin, cams[x].name, width, height)"
     ],
     "language": "python",
     "metadata": {},
     "outputs": [
      {
       "metadata": {},
       "output_type": "pyout",
       "prompt_number": 33,
       "text": [
        "\"'1fps_image_0001.jpg', [-92.215197, 37.648858, 300], [[-0.12939286829228483, -0.9915175296954857, 0.012266782041637558, -64.99097879715737], [-0.8047257751185797, 0.09777243767116314, -0.5855399023906396, -9.272506398050407], [0.579373724373911, -0.08563608315657681, -0.8105507687780594, 56.62551668114091], [0.0, 0.0, 0.0, 1.0]], [2480.6599121099998, 2480.6599121099998, 2048.0, 1080.0]\""
       ]
      }
     ],
     "prompt_number": 33
    },
    {
     "cell_type": "code",
     "collapsed": false,
     "input": [
      "with open(outputCameraFile, 'w') as fid:\n",
      "  for cam in cams:\n",
      "    print >>fid,cam.to_text_file_format(origin, cam.name, width, height)"
     ],
     "language": "python",
     "metadata": {},
     "outputs": [],
     "prompt_number": 34
    },
    {
     "cell_type": "raw",
     "metadata": {},
     "source": [
      "import numpy as np\n",
      "r_krt=np.array([[-0.892711, 0.447562, 0.0524946],[0.381813, 0.813105, -0.439406],[-0.239345, -0.37222, -0.896753]])\n",
      "t_world = cams[0].translation_xyz.copy()\n",
      "t_world.shape=(3,1)\n",
      "t_world"
     ]
    },
    {
     "cell_type": "code",
     "collapsed": false,
     "input": [
      "cams[0].name"
     ],
     "language": "python",
     "metadata": {},
     "outputs": [
      {
       "metadata": {},
       "output_type": "pyout",
       "prompt_number": 35,
       "text": [
        "'1fps_image_0001.jpg'"
       ]
      }
     ],
     "prompt_number": 35
    },
    {
     "cell_type": "code",
     "collapsed": false,
     "input": [
      "camDir = r'D:\\visualsfm\\arducopter\\cams_krt_geo';\n",
      "krts = numpy.zeros((7,3,len(cams)));\n",
      "for i in range(len(cams)):\n",
      "    filebase = os.path.splitext(cams[i].name)[0]\n",
      "    camera_filename = os.path.join(camDir, filebase+'_cam.txt')\n",
      "    with open(camera_filename, 'r') as fid:\n",
      "        krt = fid.readlines();\n",
      "    krt.pop(7);\n",
      "    krt.pop(3);\n",
      "    krt = map(lambda x: x.split(' '), krt)\n",
      "    krt = map(lambda x: map(float, x), krt)\n",
      "    krts[:,:,i] = krt\n",
      "    "
     ],
     "language": "python",
     "metadata": {},
     "outputs": [],
     "prompt_number": 44
    },
    {
     "cell_type": "code",
     "collapsed": false,
     "input": [
      "vxl_translations = numpy.zeros((3,1,len(cams)))\n",
      "for x in range(len(cams)):\n",
      "    r = krts[3:6,:,x];\n",
      "    t = krts[6:,:,x].transpose();\n",
      "    vxl_translations[:,:,x] = -r.transpose().dot(t)\n",
      "d=2\n",
      "vxl_d = vxl_translations[d,0,:];\n",
      "sfm_d = map(lambda x:x.translation_xyz[d], cams)\n",
      "import pylab\n",
      "pylab.plot(zip(vxl_d, sfm_d))\n",
      "pylab.show()"
     ],
     "language": "python",
     "metadata": {},
     "outputs": [],
     "prompt_number": 95
    },
    {
     "cell_type": "code",
     "collapsed": false,
     "input": [
      "pylab.plot(vxl_d-sfm_d)\n",
      "pylab.show()"
     ],
     "language": "python",
     "metadata": {},
     "outputs": [],
     "prompt_number": 96
    },
    {
     "cell_type": "code",
     "collapsed": false,
     "input": [
      "print vxl_d.max()\n",
      "print max(sfm_d)"
     ],
     "language": "python",
     "metadata": {},
     "outputs": [
      {
       "output_type": "stream",
       "stream": "stdout",
       "text": [
        "69.7388507281\n",
        "100.582987666\n"
       ]
      }
     ],
     "prompt_number": 101
    },
    {
     "cell_type": "code",
     "collapsed": false,
     "input": [],
     "language": "python",
     "metadata": {},
     "outputs": []
    },
    {
     "cell_type": "code",
     "collapsed": false,
     "input": [],
     "language": "python",
     "metadata": {},
     "outputs": []
    },
    {
     "cell_type": "raw",
     "metadata": {},
     "source": [
      "from socket import *"
     ]
    },
    {
     "cell_type": "raw",
     "metadata": {},
     "source": [
      "s = socket(AF_INET, SOCK_STREAM)"
     ]
    },
    {
     "cell_type": "raw",
     "metadata": {},
     "source": [
      "s.connect(('192.168.1.10', 9999))"
     ]
    },
    {
     "cell_type": "raw",
     "metadata": {},
     "source": [
      "s.send('33045 d:\\\\visualsfm\\\\arducopter\\\\result.nvm\\n')"
     ]
    },
    {
     "cell_type": "raw",
     "metadata": {},
     "source": [
      "s.send('33500 d:\\\\visualsfm\\\\arducopter\\\\mission2.gps\\n')"
     ]
    },
    {
     "cell_type": "raw",
     "metadata": {},
     "source": [
      "s.send('33489 d:\\\\visualsfm\\\\arducopter\\\\mission2.gps\\n')"
     ]
    },
    {
     "cell_type": "raw",
     "metadata": {},
     "source": [
      "%restart"
     ]
    }
   ],
   "metadata": {}
  }
 ]
}