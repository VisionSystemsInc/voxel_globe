{
 "metadata": {
  "name": "",
  "signature": "sha256:b97b0165c0501e8000665bc6712939771526ce328660bc7aaba6de4ef296178b"
 },
 "nbformat": 3,
 "nbformat_minor": 0,
 "worksheets": [
  {
   "cells": [
    {
     "cell_type": "code",
     "collapsed": false,
     "input": [
      "import tiepoint_tasks\n",
      "import meta.models\n",
      "import django; django.setup(); del django"
     ],
     "language": "python",
     "metadata": {},
     "outputs": [],
     "prompt_number": 3
    },
    {
     "cell_type": "code",
     "collapsed": false,
     "input": [
      "tp = meta.models.TiePoint.objects.get(id=1);\n",
      "tp2 = tiepoint_tasks.updateTiePoint.apply((1, '109', '50000'));\n",
      "#t = tasks.addTiePoint.apply_async(kwargs={'point':'POINT(29 31)', 'geoPoint_id':1, 'image_id':5, 'name':\"Hiya\"})\n",
      "print tp.id\n",
      "print tp2.id"
     ],
     "language": "python",
     "metadata": {},
     "outputs": [
      {
       "output_type": "stream",
       "stream": "stdout",
       "text": [
        "1\n",
        "10\n"
       ]
      }
     ],
     "prompt_number": 7
    },
    {
     "cell_type": "code",
     "collapsed": false,
     "input": [
      "meta.models.TiePoint.objects.get(id=tp2.id)"
     ],
     "language": "python",
     "metadata": {},
     "outputs": [
      {
       "metadata": {},
       "output_type": "pyout",
       "prompt_number": 9,
       "text": [
        "id: 10\n",
        "service: serviceinstance - add_purdue_data.add_sample_tie_point [2]\n",
        "name: NA-08 Frame:041\n",
        "objectId: f19b686d-c6f8-4a63-9bd7-0cccd2f40367\n",
        "newerVersion: None\n",
        "deleted: False\n",
        "point: POINT (1242.0000000000000000 621.0000000000000000)\n",
        "image: image - Arducopter Mission 2 Frame:0041[41]\n",
        "geoPoint: controlpoint - NA-08[4]"
       ]
      }
     ],
     "prompt_number": 9
    }
   ],
   "metadata": {}
  }
 ]
}