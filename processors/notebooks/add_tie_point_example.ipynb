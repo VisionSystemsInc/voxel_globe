{
 "metadata": {
  "name": "",
  "signature": "sha256:da8b2bf8336c12a28296ba28a1ae954f570d7621060b39f66eae42196f5ae132"
 },
 "nbformat": 3,
 "nbformat_minor": 0,
 "worksheets": [
  {
   "cells": [
    {
     "cell_type": "code",
     "collapsed": false,
     "input": [
      "import tiepoint_tasks as tasks\n",
      "from django.contrib.gis.geos import *"
     ],
     "language": "python",
     "metadata": {},
     "outputs": [],
     "prompt_number": 8
    },
    {
     "cell_type": "code",
     "collapsed": false,
     "input": [
      "Point(1,2).geojson"
     ],
     "language": "python",
     "metadata": {},
     "outputs": [
      {
       "metadata": {},
       "output_type": "pyout",
       "prompt_number": 9,
       "text": [
        "u'{ \"type\": \"Point\", \"coordinates\": [ 1.0, 2.0 ] }'"
       ]
      }
     ],
     "prompt_number": 9
    },
    {
     "cell_type": "code",
     "collapsed": false,
     "input": [
      "t = tasks.addTiePoint.apply_async(kwargs={'point':'POINT(29 31)', 'geoPoint_id':1, 'image_id':5, 'name':\"Hiya\"})\n",
      "t.wait()\n",
      "print t.status, t.result"
     ],
     "language": "python",
     "metadata": {},
     "outputs": [
      {
       "output_type": "stream",
       "stream": "stdout",
       "text": [
        "SUCCESS 1219\n"
       ]
      }
     ],
     "prompt_number": 10
    },
    {
     "cell_type": "code",
     "collapsed": false,
     "input": [
      "''' This won't work until I properly embed celery into Django. Hopefully... \n",
      "    It has something to do with the same object being in memory twice, so they aren't instances\n",
      "    of each other, but I hope when I integrat django, there be only one copy in shared memory, \n",
      "    and inheritance will be restored.'''\n",
      "\n",
      "#import meta.models\n",
      "##reload(meta.models)\n",
      "#blah = meta.models.TiePoint.taskAddSync(kwargs={'point':'POINT(29 31)', 'geoPoint_id':1, 'image_id':5, 'name':\"Hiya\"})\n",
      "#blah.wait()\n",
      "#blah.result\n",
      "None"
     ],
     "language": "python",
     "metadata": {},
     "outputs": [],
     "prompt_number": 15
    },
    {
     "cell_type": "code",
     "collapsed": false,
     "input": [
      "import django;\n",
      "django.setup();\n",
      "import meta.models\n",
      "tps = meta.models.TiePoint.objects.filter(name='Hiya')\n",
      "print tps"
     ],
     "language": "python",
     "metadata": {},
     "outputs": [
      {
       "output_type": "stream",
       "stream": "stdout",
       "text": [
        "[id: 1218\n",
        "service: serviceinstance - tiepoint_tasks.addTiePoint [7]\n",
        "name: Hiya\n",
        "objectId: 2a6a2556-56f6-4771-8013-b4c7cde2ca39\n",
        "newerVersion: None\n",
        "deleted: False\n",
        "point: POINT (29.0000000000000000 31.0000000000000000)\n",
        "image: image - Arducopter Mission 2 Frame:0005[5]\n",
        "geoPoint: controlpoint - NA-03[1]\n",
        ", id: 1219\n",
        "service: serviceinstance - tiepoint_tasks.addTiePoint [8]\n",
        "name: Hiya\n",
        "objectId: deec7698-88fe-41db-a9d3-7b846ac7b341\n",
        "newerVersion: None\n",
        "deleted: False\n",
        "point: POINT (29.0000000000000000 31.0000000000000000)\n",
        "image: image - Arducopter Mission 2 Frame:0005[5]\n",
        "geoPoint: controlpoint - NA-03[1]\n",
        "]\n"
       ]
      }
     ],
     "prompt_number": 20
    },
    {
     "cell_type": "code",
     "collapsed": false,
     "input": [],
     "language": "python",
     "metadata": {},
     "outputs": []
    }
   ],
   "metadata": {}
  }
 ]
}