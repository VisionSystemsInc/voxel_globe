{
 "metadata": {
  "name": "",
  "signature": "sha256:a7db8bbe3c06d9d5364a60260605161aa2e59b61121633332825d768ac688d6c"
 },
 "nbformat": 3,
 "nbformat_minor": 0,
 "worksheets": [
  {
   "cells": [
    {
     "cell_type": "code",
     "collapsed": false,
     "input": [
      "import meta.models\n",
      "import django\n",
      "django.setup()"
     ],
     "language": "python",
     "metadata": {},
     "outputs": [],
     "prompt_number": 1
    },
    {
     "cell_type": "code",
     "collapsed": false,
     "input": [
      "gcs = meta.models.GeoreferenceCoordinateSystem.objects\n",
      "objectId = gcs.get(id=1).objectId;\n",
      "hist = gcs.filter(objectId=objectId)"
     ],
     "language": "python",
     "metadata": {},
     "outputs": [],
     "prompt_number": 2
    },
    {
     "cell_type": "code",
     "collapsed": false,
     "input": [
      "h = hist[1]\n",
      "h_id = h.id\n",
      "setattr(h, '__update_save', False)\n",
      "h.location='SRID=4326;POINT(-95 37 300)'\n",
      "h.location='SRID=3084;POINT(-95 37 300)'\n",
      "h.location='SRID=7428;POINT(-95 37 300)'\n",
      "h.save()\n",
      "print h.location.srid, h.location"
     ],
     "language": "python",
     "metadata": {},
     "outputs": [
      {
       "output_type": "stream",
       "stream": "stdout",
       "text": [
        "7428 POINT Z (-95.0000000000000000 37.0000000000000000 300.0000000000000000)\n"
       ]
      }
     ],
     "prompt_number": 4
    },
    {
     "cell_type": "code",
     "collapsed": false,
     "input": [
      "h2 = gcs.get(id=h_id)\n",
      "print h2.location.srid, h2.location"
     ],
     "language": "python",
     "metadata": {},
     "outputs": [
      {
       "output_type": "stream",
       "stream": "stdout",
       "text": [
        "4326 POINT Z (-95.0000000000000000 37.0000000000000000 269.3550987243652300)\n"
       ]
      }
     ],
     "prompt_number": 5
    },
    {
     "cell_type": "code",
     "collapsed": false,
     "input": [],
     "language": "python",
     "metadata": {},
     "outputs": [],
     "prompt_number": 37
    },
    {
     "cell_type": "code",
     "collapsed": false,
     "input": [
      "import django.contrib.gis.geos\n",
      "print django.contrib.gis.geos.GEOSGeometry('POINT(1 2 3)', srid=4).srid\n",
      "print django.contrib.gis.geos.GEOSGeometry('SRID=4300;POINT(1 2 3)').srid"
     ],
     "language": "python",
     "metadata": {},
     "outputs": [
      {
       "output_type": "stream",
       "stream": "stdout",
       "text": [
        "4\n",
        "4300\n"
       ]
      }
     ],
     "prompt_number": 6
    },
    {
     "cell_type": "code",
     "collapsed": false,
     "input": [],
     "language": "python",
     "metadata": {},
     "outputs": []
    }
   ],
   "metadata": {}
  }
 ]
}