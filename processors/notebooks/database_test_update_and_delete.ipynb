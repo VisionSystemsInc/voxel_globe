{
 "metadata": {
  "name": "",
  "signature": "sha256:1c5e4a8ff032c7cbe9b387f8cee491bc0a9a69624f7a930345c35e526124ec2c"
 },
 "nbformat": 3,
 "nbformat_minor": 0,
 "worksheets": [
  {
   "cells": [
    {
     "cell_type": "code",
     "collapsed": false,
     "input": [
      "import meta.models\n",
      "import time"
     ],
     "language": "python",
     "metadata": {},
     "outputs": [],
     "prompt_number": 1
    },
    {
     "cell_type": "code",
     "collapsed": false,
     "input": [
      "meta.models.Image.objects.all()"
     ],
     "language": "python",
     "metadata": {
      "slideshow": {
       "slide_type": "-"
      }
     },
     "outputs": [
      {
       "metadata": {},
       "output_type": "pyout",
       "prompt_number": 2,
       "text": [
        "[id: 1\n",
        "service: serviceinstance - tasks.add_sample_data [1]\n",
        "name: Oxford Codrington Library\n",
        "objectId: 94c936ed-1e7b-487e-a41b-6ae3ef6dc343\n",
        "newerVersion: None\n",
        "fileFormat: zoom\n",
        "pixelFormat: b\n",
        "imageWidth: 999\n",
        "imageHeight: 749\n",
        "numberColorBands: 3\n",
        "imageURL: http://localhost:80/static/meta/images/camelot-UK_2012OxfordUniversity-42\n",
        "]"
       ]
      }
     ],
     "prompt_number": 2
    },
    {
     "cell_type": "code",
     "collapsed": false,
     "input": [
      "meta.models.ImageCollection.objects.all()"
     ],
     "language": "python",
     "metadata": {},
     "outputs": [
      {
       "metadata": {},
       "output_type": "pyout",
       "prompt_number": 3,
       "text": [
        "[id: 1\n",
        "service: serviceinstance - tasks.add_sample_data [1]\n",
        "name: Oxford Libraries\n",
        "objectId: d8a83f22-9230-495d-91e0-9ca5cc642b96\n",
        "newerVersion: None\n",
        "images\n",
        "  Oxford Codrington Library[1]\n",
        "]"
       ]
      }
     ],
     "prompt_number": 3
    },
    {
     "cell_type": "code",
     "collapsed": false,
     "input": [
      "print meta.models.ImageCollection.objects.all()[0].__repr__(3)"
     ],
     "language": "python",
     "metadata": {},
     "outputs": [
      {
       "output_type": "stream",
       "stream": "stdout",
       "text": [
        "id: 1\n",
        "service:\n",
        "    id: 1\n",
        "    workflow: None\n",
        "    inputs: [null, null]\n",
        "    outputs: [1, 1, 1]\n",
        "    user: NAY\n",
        "    entryTime: 2014-08-07 00:18:32.650803+00:00\n",
        "    finishTime: 2014-08-07 00:18:32.698505+00:00\n",
        "    status: Success\n",
        "    serviceName: tasks.add_sample_data\n",
        "name: Oxford Libraries\n",
        "objectId: d8a83f22-9230-495d-91e0-9ca5cc642b96\n",
        "newerVersion: None\n",
        "images\n",
        " Oxford Codrington Library[1]\n",
        "  id: 1\n",
        "  service:\n",
        "      id: 1\n",
        "      workflow: None\n",
        "      inputs: [null, null]\n",
        "      outputs: [1, 1, 1]\n",
        "      user: NAY\n",
        "      entryTime: 2014-08-07 00:18:32.650803+00:00\n",
        "      finishTime: 2014-08-07 00:18:32.698505+00:00\n",
        "      status: Success\n",
        "      serviceName: tasks.add_sample_data\n",
        "  name: Oxford Codrington Library\n",
        "  objectId: 94c936ed-1e7b-487e-a41b-6ae3ef6dc343\n",
        "  newerVersion: None\n",
        "  fileFormat: zoom\n",
        "  pixelFormat: b\n",
        "  imageWidth: 999\n",
        "  imageHeight: 749\n",
        "  numberColorBands: 3\n",
        "  imageURL: http://localhost:80/static/meta/images/camelot-UK_2012OxfordUniversity-42\n",
        "\n"
       ]
      }
     ],
     "prompt_number": 4
    },
    {
     "cell_type": "code",
     "collapsed": false,
     "input": [
      "tp1 = meta.models.ImageTiePoint.objects.get(id=1);\n",
      "tp1.update(x=27);\n",
      "print \"It's \", hasattr(tp1, '__update_save')\n",
      "tp1.update(x=37, _auto_save=False);\n",
      "print \"It's \", hasattr(tp1, '__update_save')\n",
      "tp1.y=90;\n",
      "tp1.save()\n",
      "tp1 = meta.models.ImageTiePoint.objects.get(id=1);\n",
      "tp1.update(x=47);\n",
      "print \"It's \", hasattr(tp1, '__update_save')\n"
     ],
     "language": "python",
     "metadata": {},
     "outputs": [
      {
       "output_type": "stream",
       "stream": "stdout",
       "text": [
        "newest is Some point[1]\n",
        "It's  False\n",
        "It's  False\n",
        "newest is Some point[56]\n",
        "newest is"
       ]
      },
      {
       "output_type": "stream",
       "stream": "stdout",
       "text": [
        " Some point[57]\n",
        "It's  False\n"
       ]
      }
     ],
     "prompt_number": 5
    },
    {
     "cell_type": "code",
     "collapsed": false,
     "input": [
      "tp1._findNewest()"
     ],
     "language": "python",
     "metadata": {},
     "outputs": [
      {
       "metadata": {},
       "output_type": "pyout",
       "prompt_number": 6,
       "text": [
        "id: 58\n",
        "service: serviceinstance - tasks.add_sample_data [1]\n",
        "name: Some point\n",
        "objectId: 0c7c788d-a1b9-445e-bd2a-a8ff8f7aa16e\n",
        "newerVersion: None\n",
        "x: 47.0\n",
        "y: 100.0\n",
        "image: image - Oxford Codrington Library[1]\n",
        "geoPoint: geotiepoint - Some geo point[1]"
       ]
      }
     ],
     "prompt_number": 6
    },
    {
     "cell_type": "code",
     "collapsed": false,
     "input": [
      "print meta.models.ImageTiePoint.objects.get(id=1).__repr__(4)"
     ],
     "language": "python",
     "metadata": {},
     "outputs": [
      {
       "output_type": "stream",
       "stream": "stdout",
       "text": [
        "id: 1\n",
        "service:\n",
        "    id: 1\n",
        "    workflow: None\n",
        "    inputs: [null, null]\n",
        "    outputs: [1, 1, 1]\n",
        "    user: NAY\n",
        "    entryTime: 2014-08-07 00:18:32.650803+00:00\n",
        "    finishTime: 2014-08-07 00:18:32.698505+00:00\n",
        "    status: Success\n",
        "    serviceName: tasks.add_sample_data\n",
        "name: Some point\n",
        "objectId: 0c7c788d-a1b9-445e-bd2a-a8ff8f7aa16e\n",
        "newerVersion:\n",
        "    id: 56\n",
        "    service:\n",
        "        id: 1\n",
        "        workflow: None\n",
        "        inputs: [null, null]\n",
        "        outputs: [1, 1, 1]\n",
        "        user: NAY\n",
        "        entryTime: 2014-08-07 00:18:32.650803+00:00\n",
        "        finishTime: 2014-08-07 00:18:32.698505+00:00\n",
        "        status: Success\n",
        "        serviceName: tasks.add_sample_data\n",
        "    name: Some point\n",
        "    objectId: 0c7c788d-a1b9-445e-bd2a-a8ff8f7aa16e\n",
        "    newerVersion:\n",
        "        id: 57\n",
        "        service:\n",
        "            id: 1\n",
        "            workflow: None\n",
        "            inputs: [null, null]\n",
        "            outputs: [1, 1, 1]\n",
        "            user: NAY\n",
        "            entryTime: 2014-08-07 00:18:32.650803+00:00\n",
        "            finishTime: 2014-08-07 00:18:32.698505+00:00\n",
        "            status: Success\n",
        "            serviceName: tasks.add_sample_data\n",
        "        name: Some point\n",
        "        objectId: 0c7c788d-a1b9-445e-bd2a-a8ff8f7aa16e\n",
        "        newerVersion:\n",
        "            id: 58\n",
        "            service:\n",
        "                id: 1\n",
        "                workflow: None\n",
        "                inputs: [null, null]\n",
        "                outputs: [1, 1, 1]\n",
        "                user: NAY\n",
        "                entryTime: 2014-08-07 00:18:32.650803+00:00\n",
        "                finishTime: 2014-08-07 00:18:32.698505+00:00\n",
        "                status: Success\n",
        "                serviceName: tasks.add_sample_data\n",
        "            name: Some point\n",
        "            objectId: 0c7c788d-a1b9-445e-bd2a-a8ff8f7aa16e\n",
        "            newerVersion: None\n",
        "            x: 47.0\n",
        "            y: 100.0\n",
        "            image:\n",
        "                id: 1\n",
        "                service: serviceinstance - tasks.add_sample_data [1]\n",
        "                name: Oxford Codrington Library\n",
        "                objectId: 94c936ed-1e7b-487e-a41b-6ae3ef6dc343\n",
        "                newerVersion: None\n",
        "                fileFormat: zoom\n",
        "                pixelFormat: b\n",
        "                imageWidth: 999\n",
        "                imageHeight: 749\n",
        "                numberColorBands: 3\n",
        "                imageURL: http://localhost:80/static/meta/images/camelot-UK_2012OxfordUniversity-42\n",
        "            geoPoint:\n",
        "                id: 1\n",
        "                service: serviceinstance - tasks.add_sample_data [1]\n",
        "                name: Some geo point\n",
        "                objectId: 4e0203ee-5018-4cd2-bd7e-a8b42f208c64\n",
        "                newerVersion: None\n",
        "                description: None provided. Just some point trying to make a point in life\n",
        "                latitude: 51.7534\n",
        "                longitude: -1.2539\n",
        "                altitude: 89.2\n",
        "                apparentLatitude: 51.753416\n",
        "                apparentLongitude: -1.254033\n",
        "                apparentAltitude: 71.0\n",
        "        x: 37.0\n",
        "        y: 90.0\n",
        "        image:\n",
        "            id: 1\n",
        "            service:\n",
        "                id: 1\n",
        "                workflow: None\n",
        "                inputs: [null, null]\n",
        "                outputs: [1, 1, 1]\n",
        "                user: NAY\n",
        "                entryTime: 2014-08-07 00:18:32.650803+00:00\n",
        "                finishTime: 2014-08-07 00:18:32.698505+00:00\n",
        "                status: Success\n",
        "                serviceName: tasks.add_sample_data\n",
        "            name: Oxford Codrington Library\n",
        "            objectId: 94c936ed-1e7b-487e-a41b-6ae3ef6dc343\n",
        "            newerVersion: None\n",
        "            fileFormat: zoom\n",
        "            pixelFormat: b\n",
        "            imageWidth: 999\n",
        "            imageHeight: 749\n",
        "            numberColorBands: 3\n",
        "            imageURL: http://localhost:80/static/meta/images/camelot-UK_2012OxfordUniversity-42\n",
        "        geoPoint:\n",
        "            id: 1\n",
        "            service:\n",
        "                id: 1\n",
        "                workflow: None\n",
        "                inputs: [null, null]\n",
        "                outputs: [1, 1, 1]\n",
        "                user: NAY\n",
        "                entryTime: 2014-08-07 00:18:32.650803+00:00\n",
        "                finishTime: 2014-08-07 00:18:32.698505+00:00\n",
        "                status: Success\n",
        "                serviceName: tasks.add_sample_data\n",
        "            name: Some geo point\n",
        "            objectId: 4e0203ee-5018-4cd2-bd7e-a8b42f208c64\n",
        "            newerVersion: None\n",
        "            description: None provided. Just some point trying to make a point in life\n",
        "            latitude: 51.7534\n",
        "            longitude: -1.2539\n",
        "            altitude: 89.2\n",
        "            apparentLatitude: 51.753416\n",
        "            apparentLongitude: -1.254033\n",
        "            apparentAltitude: 71.0\n",
        "    x: 27.0\n",
        "    y: 100.0\n",
        "    image:\n",
        "        id: 1\n",
        "        service:\n",
        "            id: 1\n",
        "            workflow: None\n",
        "            inputs: [null, null]\n",
        "            outputs: [1, 1, 1]\n",
        "            user: NAY\n",
        "            entryTime: 2014-08-07 00:18:32.650803+00:00\n",
        "            finishTime: 2014-08-07 00:18:32.698505+00:00\n",
        "            status: Success\n",
        "            serviceName: tasks.add_sample_data\n",
        "        name: Oxford Codrington Library\n",
        "        objectId: 94c936ed-1e7b-487e-a41b-6ae3ef6dc343\n",
        "        newerVersion: None\n",
        "        fileFormat: zoom\n",
        "        pixelFormat: b\n",
        "        imageWidth: 999\n",
        "        imageHeight: 749\n",
        "        numberColorBands: 3\n",
        "        imageURL: http://localhost:80/static/meta/images/camelot-UK_2012OxfordUniversity-42\n",
        "    geoPoint:\n",
        "        id: 1\n",
        "        service:\n",
        "            id: 1\n",
        "            workflow: None\n",
        "            inputs: [null, null]\n",
        "            outputs: [1, 1, 1]\n",
        "            user: NAY\n",
        "            entryTime: 2014-08-07 00:18:32.650803+00:00\n",
        "            finishTime: 2014-08-07 00:18:32.698505+00:00\n",
        "            status: Success\n",
        "            serviceName: tasks.add_sample_data\n",
        "        name: Some geo point\n",
        "        objectId: 4e0203ee-5018-4cd2-bd7e-a8b42f208c64\n",
        "        newerVersion: None\n",
        "        description: None provided. Just some point trying to make a point in life\n",
        "        latitude: 51.7534\n",
        "        longitude: -1.2539\n",
        "        altitude: 89.2\n",
        "        apparentLatitude: 51.753416\n",
        "        apparentLongitude: -1.254033\n",
        "        apparentAltitude: 71.0\n",
        "x: 100.0\n",
        "y: 100.0\n",
        "image:\n",
        "    id: 1\n",
        "    service:\n",
        "        id: 1\n",
        "        workflow: None\n",
        "        inputs: [null, null]\n",
        "        outputs: [1, 1, 1]\n",
        "        user: NAY\n",
        "        entryTime: 2014-08-07 00:18:32.650803+00:00\n",
        "        finishTime: 2014-08-07 00:18:32.698505+00:00\n",
        "        status: Success\n",
        "        serviceName: tasks.add_sample_data\n",
        "    name: Oxford Codrington Library\n",
        "    objectId: 94c936ed-1e7b-487e-a41b-6ae3ef6dc343\n",
        "    newerVersion: None\n",
        "    fileFormat: zoom\n",
        "    pixelFormat: b\n",
        "    imageWidth: 999\n",
        "    imageHeight: 749\n",
        "    numberColorBands: 3\n",
        "    imageURL: http://localhost:80/static/meta/images/camelot-UK_2012OxfordUniversity-42\n",
        "geoPoint:\n",
        "    id: 1\n",
        "    service:\n",
        "        id: 1\n",
        "        workflow: None\n",
        "        inputs: [null, null]\n",
        "        outputs: [1, 1, 1]\n",
        "        user: NAY\n",
        "        entryTime: 2014-08-07 00:18:32.650803+00:00\n",
        "        finishTime: 2014-08-07 00:18:32.698505+00:00\n",
        "        status: Success\n",
        "        serviceName: tasks.add_sample_data\n",
        "    name: Some geo point\n",
        "    objectId: 4e0203ee-5018-4cd2-bd7e-a8b42f208c64\n",
        "    newerVersion: None\n",
        "    description: None provided. Just some point trying to make a point in life\n",
        "    latitude: 51.7534\n",
        "    longitude: -1.2539\n",
        "    altitude: 89.2\n",
        "    apparentLatitude: 51.753416\n",
        "    apparentLongitude: -1.254033\n",
        "    apparentAltitude: 71.0\n",
        "\n"
       ]
      }
     ],
     "prompt_number": 7
    },
    {
     "cell_type": "code",
     "collapsed": false,
     "input": [
      "meta.models.ImageTiePoint.objects.all()"
     ],
     "language": "python",
     "metadata": {},
     "outputs": [
      {
       "metadata": {},
       "output_type": "pyout",
       "prompt_number": 8,
       "text": [
        "[id: 1\n",
        "service: serviceinstance - tasks.add_sample_data [1]\n",
        "name: Some point\n",
        "objectId: 0c7c788d-a1b9-445e-bd2a-a8ff8f7aa16e\n",
        "newerVersion: imagetiepoint - Some point[56]\n",
        "x: 100.0\n",
        "y: 100.0\n",
        "image: image - Oxford Codrington Library[1]\n",
        "geoPoint: geotiepoint - Some geo point[1]\n",
        ", id: 56\n",
        "service: serviceinstance - tasks.add_sample_data [1]\n",
        "name: Some point\n",
        "objectId: 0c7c788d-a1b9-445e-bd2a-a8ff8f7aa16e\n",
        "newerVersion: imagetiepoint - Some point[57]\n",
        "x: 27.0\n",
        "y: 100.0\n",
        "image: image - Oxford Codrington Library[1]\n",
        "geoPoint: geotiepoint - Some geo point[1]\n",
        ", id: 58\n",
        "service: serviceinstance - tasks.add_sample_data [1]\n",
        "name: Some point\n",
        "objectId: 0c7c788d-a1b9-445e-bd2a-a8ff8f7aa16e\n",
        "newerVersion: None\n",
        "x: 47.0\n",
        "y: 100.0\n",
        "image: image - Oxford Codrington Library[1]\n",
        "geoPoint: geotiepoint - Some geo point[1]\n",
        ", id: 57\n",
        "service: serviceinstance - tasks.add_sample_data [1]\n",
        "name: Some point\n",
        "objectId: 0c7c788d-a1b9-445e-bd2a-a8ff8f7aa16e\n",
        "newerVersion: imagetiepoint - Some point[58]\n",
        "x: 37.0\n",
        "y: 90.0\n",
        "image: image - Oxford Codrington Library[1]\n",
        "geoPoint: geotiepoint - Some geo point[1]\n",
        "]"
       ]
      }
     ],
     "prompt_number": 8
    },
    {
     "cell_type": "code",
     "collapsed": false,
     "input": [
      "print tp1.getProvenance()"
     ],
     "language": "python",
     "metadata": {},
     "outputs": [
      {
       "output_type": "stream",
       "stream": "stdout",
       "text": [
        "Generated by tasks.add_sample_data [1]\n",
        "  Inputs: [null, null]\n",
        "  Outputs: [1, 1, 1]\n",
        "Object History (newest first)\n",
        "  Some point[58] generated by tasks.add_sample_data [1]\n",
        "  Some point[57] generated by tasks.add_sample_data [1]\n",
        "  Some point[56] generated by tasks.add_sample_data [1]\n",
        "  Some point[1] generated by tasks.add_sample_data [1]\n",
        "\n"
       ]
      }
     ],
     "prompt_number": 9
    },
    {
     "cell_type": "code",
     "collapsed": false,
     "input": [
      "for tp in meta.models.ImageTiePoint.objects.exclude(id=1):\n",
      "##    tp2 = meta.models.ImageTiePoint.objects.get(id=1);\n",
      "##    while not tp2 == None:\n",
      "##      print tp2, tp2.newerVersion_id\n",
      "##      tp2 = tp2.newerVersion;\n",
      "##    print 'deleting ', tp, tp.newerVersion_id\n",
      "    tp2 = meta.models.ImageTiePoint.objects.get(id=tp.id)\n",
      "    tp2.delete();\n",
      "#    tp.delete();\n"
     ],
     "language": "python",
     "metadata": {},
     "outputs": [],
     "prompt_number": 10
    },
    {
     "cell_type": "code",
     "collapsed": false,
     "input": [
      "t1 = time.time();\n",
      "t = 3;\n",
      "for x in xrange(1000):\n",
      "  if t==1:\n",
      "    img = meta.models.Image.objects.get(id=1);\n",
      "    img.name = \"ok %s\" % t1;\n",
      "    img.save();\n",
      "  elif t==2:\n",
      "    meta.models.Image.objects.filter(id=1).update(name=\"ok %s\" % t1)\n",
      "t2 = time.time();\n",
      "print t2-t1;"
     ],
     "language": "python",
     "metadata": {},
     "outputs": [
      {
       "output_type": "stream",
       "stream": "stdout",
       "text": [
        "0.000440835952759\n"
       ]
      }
     ],
     "prompt_number": 11
    },
    {
     "cell_type": "code",
     "collapsed": false,
     "input": [
      "meta.models.ImageTiePoint.objects.all()"
     ],
     "language": "python",
     "metadata": {},
     "outputs": [
      {
       "metadata": {},
       "output_type": "pyout",
       "prompt_number": 12,
       "text": [
        "[id: 1\n",
        "service: serviceinstance - tasks.add_sample_data [1]\n",
        "name: Some point\n",
        "objectId: 0c7c788d-a1b9-445e-bd2a-a8ff8f7aa16e\n",
        "newerVersion: None\n",
        "x: 100.0\n",
        "y: 100.0\n",
        "image: image - Oxford Codrington Library[1]\n",
        "geoPoint: geotiepoint - Some geo point[1]\n",
        "]"
       ]
      }
     ],
     "prompt_number": 12
    },
    {
     "cell_type": "code",
     "collapsed": false,
     "input": [
      "#tp2 = tp1._meta.model.objects.all()[2]\n",
      "#tp2.newerVersion_id = None;\n",
      "#tp2.save()"
     ],
     "language": "python",
     "metadata": {},
     "outputs": [],
     "prompt_number": 13
    },
    {
     "cell_type": "code",
     "collapsed": false,
     "input": [
      "print tp1.getProvenance()"
     ],
     "language": "python",
     "metadata": {},
     "outputs": [
      {
       "output_type": "stream",
       "stream": "stdout",
       "text": [
        "Generated by tasks.add_sample_data [1]\n",
        "  Inputs: [null, null]\n",
        "  Outputs: [1, 1, 1]\n",
        "Object History (newest first)\n",
        "  Some point[1] generated by tasks.add_sample_data [1]\n",
        "\n"
       ]
      }
     ],
     "prompt_number": 14
    },
    {
     "cell_type": "code",
     "collapsed": false,
     "input": [],
     "language": "python",
     "metadata": {},
     "outputs": [],
     "prompt_number": 14
    }
   ],
   "metadata": {}
  }
 ]
}