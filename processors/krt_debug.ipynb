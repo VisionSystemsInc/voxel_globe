{
 "metadata": {
  "name": "",
  "signature": "sha256:2a5f846da4fd8732dd7c012ed5b803b538c365d49d57a7a2b711c078232e254b"
 },
 "nbformat": 3,
 "nbformat_minor": 0,
 "worksheets": [
  {
   "cells": [
    {
     "cell_type": "code",
     "collapsed": false,
     "input": [
      "import numpy as np"
     ],
     "language": "python",
     "metadata": {},
     "outputs": [],
     "prompt_number": 1
    },
    {
     "cell_type": "code",
     "collapsed": false,
     "input": [
      "krt1 = '/opt/users/andy/projects/ngap2/purdue_experiments/sample1/cams_krt_geo_lvcs_transformed_lev_marq/20100427161936-04003000-00-VIS_cam.txt';\n"
     ],
     "language": "python",
     "metadata": {},
     "outputs": [],
     "prompt_number": 2
    },
    {
     "cell_type": "code",
     "collapsed": false,
     "input": [
      "with open(krt1, 'r') as fid:\n",
      "    lines = fid.readlines();\n",
      "lines.pop(7)\n",
      "lines.pop(3)\n",
      "lines = map(lambda x:map(float, x), map(lambda x:x.strip().split(' '), lines))\n",
      "k = np.array(lines[0:3])\n",
      "r = np.array(lines[3:6])\n",
      "t = np.array([lines[6]]).T\n"
     ],
     "language": "python",
     "metadata": {},
     "outputs": [],
     "prompt_number": 3
    },
    {
     "cell_type": "code",
     "collapsed": false,
     "input": [
      "print k\n",
      "print r\n",
      "print t"
     ],
     "language": "python",
     "metadata": {},
     "outputs": [
      {
       "output_type": "stream",
       "stream": "stdout",
       "text": [
        "[[  1.40460000e+04   0.00000000e+00   1.62400000e+03]\n",
        " [  0.00000000e+00   1.40460000e+04   2.43600000e+03]\n",
        " [  0.00000000e+00   0.00000000e+00   1.00000000e+00]]\n",
        "[[ 0.832218   0.549681   0.0725507]\n",
        " [ 0.394688  -0.495426  -0.773806 ]\n",
        " [-0.389403   0.67261   -0.629255 ]]\n",
        "[[  -42.6287]\n",
        " [ -119.691 ]\n",
        " [ 2746.35  ]]\n"
       ]
      }
     ],
     "prompt_number": 4
    },
    {
     "cell_type": "code",
     "collapsed": false,
     "input": [
      "cam_center = -r.T.dot(t)"
     ],
     "language": "python",
     "metadata": {},
     "outputs": [
      {
       "output_type": "stream",
       "stream": "stdout",
       "text": [
        "[[ 1152.15390191]\n",
        " [-1883.08832042]\n",
        " [ 1638.62959733]]\n"
       ]
      }
     ],
     "prompt_number": 31
    },
    {
     "cell_type": "code",
     "collapsed": false,
     "input": [
      "p = np.eye(3,4)\n",
      "p[:,3:] = -cam_center\n",
      "print p,'\\n\\n'\n",
      "#p = k.dot(np.concatenate((r, t), axis=1))\n",
      "p = (k.dot(r)).dot(p)\n",
      "print p, 'IS RIGHT!'"
     ],
     "language": "python",
     "metadata": {},
     "outputs": [
      {
       "output_type": "stream",
       "stream": "stdout",
       "text": [
        "[[  1.00000000e+00   0.00000000e+00   0.00000000e+00  -1.15215390e+03]\n",
        " [  0.00000000e+00   1.00000000e+00   0.00000000e+00   1.88308832e+03]\n",
        " [  0.00000000e+00   0.00000000e+00   1.00000000e+00  -1.63862960e+03]] \n",
        "\n",
        "\n",
        "[[  1.10569436e+04   8.81313797e+03  -2.86298780e+00   3.86130789e+06]\n",
        " [  4.59520194e+03  -5.32027564e+03  -1.24017443e+04   5.00893644e+06]\n",
        " [ -3.89403000e-01   6.72610000e-01  -6.29255000e-01   2.74635209e+03]] IS RIGHT!\n"
       ]
      }
     ],
     "prompt_number": 6
    },
    {
     "cell_type": "code",
     "collapsed": false,
     "input": [
      "p[0:3,0:3].dot(p[0:3,3:])"
     ],
     "language": "python",
     "metadata": {},
     "outputs": [
      {
       "metadata": {},
       "output_type": "pyout",
       "prompt_number": 7,
       "text": [
        "array([[  8.68387034e+10],\n",
        "       [ -8.93949257e+09],\n",
        "       [  1.86372771e+06]])"
       ]
      }
     ],
     "prompt_number": 7
    },
    {
     "cell_type": "code",
     "collapsed": false,
     "input": [
      "#Just rewording it so I understand the math\n",
      "t1 = np.eye(4)\n",
      "t2 = np.eye(4)\n",
      "t1[0:3,0:3] = r;\n",
      "t2[0:3,3:] = --r.T.dot(t)\n",
      "T2 = t1.dot(t2)\n",
      "P2 = k.dot(T2[0:3,0:4])\n",
      "print t1\n",
      "print t2\n",
      "print T2\n",
      "print P2"
     ],
     "language": "python",
     "metadata": {},
     "outputs": [
      {
       "output_type": "stream",
       "stream": "stdout",
       "text": [
        "[[ 0.832218   0.549681   0.0725507  0.       ]\n",
        " [ 0.394688  -0.495426  -0.773806   0.       ]\n",
        " [-0.389403   0.67261   -0.629255   0.       ]\n",
        " [ 0.         0.         0.         1.       ]]\n",
        "[[  1.00000000e+00   0.00000000e+00   0.00000000e+00  -1.15215390e+03]\n",
        " [  0.00000000e+00   1.00000000e+00   0.00000000e+00   1.88308832e+03]\n",
        " [  0.00000000e+00   0.00000000e+00   1.00000000e+00  -1.63862960e+03]\n",
        " [  0.00000000e+00   0.00000000e+00   0.00000000e+00   1.00000000e+00]]\n",
        "[[  8.32218000e-01   5.49681000e-01   7.25507000e-02  -4.26290692e+01]\n",
        " [  3.94688000e-01  -4.95426000e-01  -7.73806000e-01  -1.19690819e+02]\n",
        " [ -3.89403000e-01   6.72610000e-01  -6.29255000e-01   2.74635209e+03]\n",
        " [  0.00000000e+00   0.00000000e+00   0.00000000e+00   1.00000000e+00]]\n",
        "[[  1.10569436e+04   8.81313797e+03  -2.86298780e+00   3.86130789e+06]\n",
        " [  4.59520194e+03  -5.32027564e+03  -1.24017443e+04   5.00893644e+06]\n",
        " [ -3.89403000e-01   6.72610000e-01  -6.29255000e-01   2.74635209e+03]]\n"
       ]
      }
     ],
     "prompt_number": 36
    },
    {
     "cell_type": "code",
     "collapsed": false,
     "input": [
      "T2[0:3,0:3].T.dot(T2[0:3,3:])-cam_center"
     ],
     "language": "python",
     "metadata": {},
     "outputs": [
      {
       "metadata": {},
       "output_type": "pyout",
       "prompt_number": 32,
       "text": [
        "array([[ 0.00104914],\n",
        "       [-0.00111215],\n",
        "       [ 0.00148072]])"
       ]
      }
     ],
     "prompt_number": 32
    },
    {
     "cell_type": "code",
     "collapsed": false,
     "input": [
      "u = 1624\n",
      "v = 2436\n",
      "pt = np.array([[u,v,1]]).T\n",
      "pt"
     ],
     "language": "python",
     "metadata": {},
     "outputs": [
      {
       "metadata": {},
       "output_type": "pyout",
       "prompt_number": 9,
       "text": [
        "array([[1624],\n",
        "       [2436],\n",
        "       [   1]])"
       ]
      }
     ],
     "prompt_number": 9
    },
    {
     "cell_type": "code",
     "collapsed": false,
     "input": [
      "np.matrix(p).I"
     ],
     "language": "python",
     "metadata": {},
     "outputs": [
      {
       "metadata": {},
       "output_type": "pyout",
       "prompt_number": 10,
       "text": [
        "matrix([[  5.87868702e-05,   2.68007297e-05,  -1.31533575e-01],\n",
        "        [  3.98904679e-05,  -3.31486958e-05,   4.37328530e-03],\n",
        "        [  4.50727406e-06,  -5.69381184e-05,   9.75094299e-02],\n",
        "        [ -4.01521440e-10,  -1.12737434e-09,   3.66740017e-04]])"
       ]
      }
     ],
     "prompt_number": 10
    },
    {
     "cell_type": "code",
     "collapsed": false,
     "input": [
      "blah = np.linalg.pinv(p).dot(pt)\n",
      "print blah\n",
      "blah /= blah[3,0]\n",
      "print blah, 'Is also right?'\n"
     ],
     "language": "python",
     "metadata": {},
     "outputs": [
      {
       "output_type": "stream",
       "stream": "stdout",
       "text": [
        "[[ 0.02922288]\n",
        " [-0.01159482]\n",
        " [-0.03387201]\n",
        " [ 0.00036334]]\n",
        "[[ 80.42809941]\n",
        " [-31.91161102]\n",
        " [-93.22358806]\n",
        " [  1.        ]] Is also right?\n"
       ]
      }
     ],
     "prompt_number": 34
    },
    {
     "cell_type": "code",
     "collapsed": false,
     "input": [
      "print (cam_center - blah[0:3,0:1])/np.linalg.norm((cam_center - blah[0:3,0:1])), 'is right'\n"
     ],
     "language": "python",
     "metadata": {},
     "outputs": [
      {
       "output_type": "stream",
       "stream": "stdout",
       "text": [
        "[[ 0.38940278]\n",
        " [-0.67260988]\n",
        " [ 0.62925466]] is right\n"
       ]
      }
     ],
     "prompt_number": 12
    },
    {
     "cell_type": "code",
     "collapsed": false,
     "input": [
      "db1 = np.array([[-0.3894029, 0.67260998, -0.62925452, 1]]).T\n",
      "db2 = p.dot(db1)\n",
      "db2/db2[2]/2"
     ],
     "language": "python",
     "metadata": {},
     "outputs": [
      {
       "metadata": {},
       "output_type": "pyout",
       "prompt_number": 13,
       "text": [
        "array([[  7.03028181e+02],\n",
        "       [  9.12036804e+02],\n",
        "       [  5.00000000e-01]])"
       ]
      }
     ],
     "prompt_number": 13
    },
    {
     "cell_type": "code",
     "collapsed": false,
     "input": [],
     "language": "python",
     "metadata": {},
     "outputs": [],
     "prompt_number": 13
    }
   ],
   "metadata": {}
  }
 ]
}