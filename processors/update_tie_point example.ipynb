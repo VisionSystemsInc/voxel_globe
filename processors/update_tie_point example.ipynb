{
 "metadata": {
  "name": "",
  "signature": "sha256:6f0782b192afe066c8c7eea1895a311c043312b14e31b0cbcb08861b9af55677"
 },
 "nbformat": 3,
 "nbformat_minor": 0,
 "worksheets": [
  {
   "cells": [
    {
     "cell_type": "code",
     "collapsed": false,
     "input": [
      "import tasks\n",
      "import meta.models"
     ],
     "language": "python",
     "metadata": {},
     "outputs": [],
     "prompt_number": 1
    },
    {
     "cell_type": "code",
     "collapsed": false,
     "input": [
      "tp = meta.models.TiePoint.objects.get(id=1);\n",
      "tp2 = tasks.updateTiePoint.apply((1, '109', '50000'));\n",
      "#t = tasks.addTiePoint.apply_async(kwargs={'point':'POINT(29 31)', 'geoPoint_id':1, 'image_id':5, 'name':\"Hiya\"})\n",
      "print tp.id\n",
      "print tp2.id"
     ],
     "language": "python",
     "metadata": {},
     "outputs": [
      {
       "output_type": "stream",
       "stream": "stdout",
       "text": [
        "newest is Some point[1]\n",
        "1\n",
        "120\n"
       ]
      }
     ],
     "prompt_number": 2
    },
    {
     "cell_type": "code",
     "collapsed": false,
     "input": [],
     "language": "python",
     "metadata": {},
     "outputs": [],
     "prompt_number": 2
    }
   ],
   "metadata": {}
  }
 ]
}