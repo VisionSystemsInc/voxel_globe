{
 "metadata": {
  "name": "",
  "signature": "sha256:07ccbbef9a9b6a395837bd9d10ae0642cd2917c222647a06ac45236a4b8f03e6"
 },
 "nbformat": 3,
 "nbformat_minor": 0,
 "worksheets": [
  {
   "cells": [
    {
     "cell_type": "code",
     "collapsed": false,
     "input": [
      "import logging\n",
      "import os\n",
      "import sys\n",
      "import subprocess"
     ],
     "language": "python",
     "metadata": {},
     "outputs": [],
     "prompt_number": 1
    },
    {
     "cell_type": "raw",
     "metadata": {},
     "source": [
      "(r,w)= os.pipe()\n",
      "r2 = os.fdopen(r, 'rb')\n",
      "w2 = os.fdopen(w, 'wb')\n",
      "pid = subprocess.Popen('gdalinfo', stderr=w2)\n",
      "w2.close()"
     ]
    },
    {
     "cell_type": "raw",
     "metadata": {},
     "source": [
      "r2.read()"
     ]
    },
    {
     "cell_type": "raw",
     "metadata": {},
     "source": [
      "pid = subprocess.Popen('gdalinfo', stderr=subprocess.PIPE, stdout=subprocess.PIPE)\n",
      "pid.communicate()"
     ]
    },
    {
     "cell_type": "code",
     "collapsed": false,
     "input": [
      "import voxel_globe.tools.celery\n",
      "logging.getLogger().setLevel(logging.DEBUG)\n",
      "voxel_globe.tools.celery.Popen('gdalinfo', logger=logging).wait()"
     ],
     "language": "python",
     "metadata": {},
     "outputs": [
      {
       "output_type": "stream",
       "stream": "stderr",
       "text": [
        "DEBUG:root:stdout:Usage: gdalinfo [--help-general] [-mm] [-stats] [-hist] [-nogcp] [-nomd]\r\n",
        "DEBUG:root:stdout:                [-norat] [-noct] [-nofl] [-checksum] [-proj4]\r\n",
        "DEBUG:root:stdout:                [-listmdd] [-mdd domain|`all`]*\r\n",
        "DEBUG:root:stdout:                [-sd subdataset] datasetname\r\n",
        "DEBUG:root:stderr:\r\n",
        "DEBUG:root:stderr:FAILURE: No datasource specified.\r\n"
       ]
      }
     ],
     "prompt_number": 5
    },
    {
     "cell_type": "code",
     "collapsed": true,
     "input": [],
     "language": "python",
     "metadata": {},
     "outputs": [],
     "prompt_number": 19
    },
    {
     "cell_type": "code",
     "collapsed": false,
     "input": [],
     "language": "python",
     "metadata": {},
     "outputs": [],
     "prompt_number": 3
    }
   ],
   "metadata": {}
  }
 ]
}