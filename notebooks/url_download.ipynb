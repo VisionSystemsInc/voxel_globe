{
 "metadata": {
  "name": "",
  "signature": "sha256:d3685f2eab34be0ad580e25da8cd25684be273a71e9cdd410c70ed35c4b90db1"
 },
 "nbformat": 3,
 "nbformat_minor": 0,
 "worksheets": [
  {
   "cells": [
    {
     "cell_type": "code",
     "collapsed": false,
     "input": [
      "import urllib2"
     ],
     "language": "python",
     "metadata": {},
     "outputs": [],
     "prompt_number": 1
    },
    {
     "cell_type": "code",
     "collapsed": false,
     "input": [
      "auth_handler = urllib2.HTTPBasicAuthHandler()\n",
      "auth_handler.add_password(realm='Voxel Globe',\n",
      "                          uri='http://newbie-laptop',\n",
      "                          user='npr',\n",
      "                          passwd='vsi')\n",
      "opener = urllib2.build_opener(auth_handler)\n",
      "urllib2.install_opener(opener)\n",
      "u = urllib2.Request('http://newbie-laptop/')\n",
      "u2 = urllib2.urlopen(u)"
     ],
     "language": "python",
     "metadata": {},
     "outputs": [],
     "prompt_number": 2
    },
    {
     "cell_type": "code",
     "collapsed": false,
     "input": [
      "u2.read()"
     ],
     "language": "python",
     "metadata": {},
     "outputs": [
      {
       "metadata": {},
       "output_type": "pyout",
       "prompt_number": 3,
       "text": [
        "'\\r\\n<!DOCTYPE html>\\r\\n<html lang=\"en\">\\r\\n<head>\\r\\n\\t<script src=\"/static/jquery-ui/js/jquery-1.10.2.js\"></script>\\r\\n\\t<script src=\"/static/jquery-ui/js/jquery-ui-1.10.4.js\"></script>\\r\\n\\t\\r\\n    \\r\\n\\t\\r\\n\\t\\r\\n    <link rel=\"stylesheet\" href=\"/static/jquery-ui/css/ui-lightness/jquery-ui-1.10.4.css\" />\\t\\r\\n    <link rel=\"stylesheet\" href=\"/static/main/css/styles.css\" />\\r\\n    <title>Voxel Globe - Main </title>\\r\\n    <script>\\r\\n    /**\\r\\n     *  Add a global function for grabbing URL parameters\\r\\n     **/\\r\\n    function grabParams() {\\r\\n        var paramString = window.location.search;\\r\\n    var params = {};\\r\\n    if (paramString) {\\r\\n        var prmstr = paramString.substr(1);\\r\\n        var prmarr = prmstr.split(\"&\");\\r\\n\\r\\n        for (var i = 0; i < prmarr.length; i++) {\\r\\n            \\tvar tmparr = prmarr[i].split(\"=\");\\r\\n            \\tparams[tmparr[0]] = tmparr[1];\\r\\n        \\t}\\r\\n    \\t}\\r\\n    \\treturn params;\\r\\n\\t}\\r\\n    \\r\\n// Global functions defined outside of the jquery document ready function can be put here.\\r\\n\\r\\n    \\r\\n    $(document).ready(function() {\\r\\n    \\t$(\"button\").button();\\r\\n        $(\"select\").addClass(\"ui-widget\");\\r\\n        $(\"input\").addClass(\"ui-widget\");\\r\\n        \\r\\n        $(document).tooltip();\\r\\n    \\t \\r\\n\\r\\n\\t\\t     \\t \\r\\n\\t});   \\r\\n    </script>\\r\\n</head>\\r\\n\\r\\n<body>    \\r\\n\\t<div id=\"pageTitle\" class=\"banner\">\\r\\n\\t    <div style=\"display:inline-block;padding: 0px 10px;vertical-align:top;\"><img height=\"40px\" src=\"/static/world/images/VSI_Logo.png\"/></div>\\r\\n        <div style=\"display:inline-block;vertical-align:top;\"><h2>Voxel Globe - Home</h2> </div>        \\r\\n        <div id=\"debugOptions\" style=\"display:inline-block; position:absolute; top: 10px; right:200px;vertical-align:top;\">\\r\\n            \\r\\n        </div>      \\r\\n\\t\\t\\r\\n\\t\\t<div id=\"user-tools\">\\r\\n            \\r\\n                \\'Welcome\\'\\r\\n                <strong>npr</strong>.\\r\\n            \\r\\n            \\r\\n                \\r\\n                \\r\\n                \\r\\n                <a href=\"/admin/password_change/\">Change password</a> /\\r\\n                \\r\\n                <a href=\"/admin/logout/\">Log out</a>\\r\\n            \\r\\n        </div>\\r\\n\\t\\t\\r\\n        \\r\\n\\r\\n\\t</div>\\r\\n    \\r\\n    <div id=\"sidebar\">\\r\\n                \\r\\n        \\r\\n    </div>\\r\\n\\r\\n    <div id=\"content\">\\r\\n        \\r\\n\\r\\n<div class=\"main-content\">\\r\\n    <ul>\\r\\n        <li><a href=\"/apps/ingest/\">Image Ingest</a></li>\\r\\n        <li><a href=\"/apps/order/sfm/\">Order SFM Processing</a></li>\\r\\n        <li><a href=\"/apps/tiepoint/tiePointCreator/\">Tie Point Creator</a></li>\\r\\n        <li><a href=\"/apps/voxelCreator/\">Build Voxel World</a></li>\\r\\n        <li><a href=\"/apps/voxelWorldViewer/\">Voxel World Viewer</a></li>\\r\\n    </ul>\\r\\n</div>\\r\\n\\r\\n\\r\\n    </div>\\r\\n</body>\\r\\n</html>\\r\\n'"
       ]
      }
     ],
     "prompt_number": 3
    },
    {
     "cell_type": "code",
     "collapsed": false,
     "input": [],
     "language": "python",
     "metadata": {},
     "outputs": [],
     "prompt_number": 3
    }
   ],
   "metadata": {}
  }
 ]
}