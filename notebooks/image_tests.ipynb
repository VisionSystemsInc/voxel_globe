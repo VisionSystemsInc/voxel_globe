{
 "metadata": {
  "name": "",
  "signature": "sha256:c07c3843dbdf0221a7b284f73e4f75977046cf1b5cf733d16f25d87cb38a6e42"
 },
 "nbformat": 3,
 "nbformat_minor": 0,
 "worksheets": [
  {
   "cells": [
    {
     "cell_type": "code",
     "collapsed": false,
     "input": [
      "import voxel_globe.meta.models\n",
      "import django\n",
      "django.setup();"
     ],
     "language": "python",
     "metadata": {},
     "outputs": []
    },
    {
     "cell_type": "code",
     "collapsed": false,
     "input": [
      "voxel_globe.meta.models.Image.objects.all()"
     ],
     "language": "python",
     "metadata": {},
     "outputs": []
    },
    {
     "cell_type": "code",
     "collapsed": false,
     "input": [
      "voxel_globe.meta.models.ImageCollection.objects.all()"
     ],
     "language": "python",
     "metadata": {},
     "outputs": []
    },
    {
     "cell_type": "code",
     "collapsed": false,
     "input": [
      "voxel_globe.meta.models.ImageCollection.objects.all()[0]"
     ],
     "language": "python",
     "metadata": {},
     "outputs": []
    },
    {
     "cell_type": "code",
     "collapsed": false,
     "input": [
      "img = voxel_globe.meta.models.Image.objects.all()[0]"
     ],
     "language": "python",
     "metadata": {},
     "outputs": [],
     "prompt_number": 11
    },
    {
     "cell_type": "code",
     "collapsed": false,
     "input": [
      "img.pixelFormat = 'b'"
     ],
     "language": "python",
     "metadata": {},
     "outputs": [],
     "prompt_number": 21
    },
    {
     "cell_type": "code",
     "collapsed": false,
     "input": [
      "img.save()"
     ],
     "language": "python",
     "metadata": {},
     "outputs": [],
     "prompt_number": 22
    },
    {
     "cell_type": "code",
     "collapsed": false,
     "input": [
      "voxel_globe.meta.models.Image.objects.get(id=img.id)"
     ],
     "language": "python",
     "metadata": {},
     "outputs": [
      {
       "metadata": {},
       "output_type": "pyout",
       "prompt_number": 23,
       "text": [
        "id: 2820\n",
        "service: serviceinstance - voxel_globe.arducopter.tasks.ingest_data [275]\n",
        "name: Arducopter Upload mini (81) Frame 1fps_image_0109.jpg\n",
        "objectId: ddd03e0b-701e-449b-be99-e9a35a6d4a3a\n",
        "newerVersion: None\n",
        "deleted: False\n",
        "fileFormat: zoom\n",
        "pixelFormat: b\n",
        "imageWidth: 4096\n",
        "imageHeight: 2160\n",
        "numberColorBands: 3\n",
        "imageUrl: https://vsi-ri.com:4432/images/81/88/1fps_image_0109_zoomify/\n",
        "originalImageUrl: https://vsi-ri.com:4432/images/81/88/1fps_image_0109.jpg\n",
        "camera: camera - Arducopter Upload mini (81) Frame 1fps_image_0109.jpg[2005]"
       ]
      }
     ],
     "prompt_number": 23
    },
    {
     "cell_type": "code",
     "collapsed": false,
     "input": [],
     "language": "python",
     "metadata": {},
     "outputs": []
    }
   ],
   "metadata": {}
  }
 ]
}