{
 "metadata": {
  "name": "",
  "signature": "sha256:037c84a5b82c75ea00f673a7893f3a548f0ba08f0c792afbb978761d5afb8df3"
 },
 "nbformat": 3,
 "nbformat_minor": 0,
 "worksheets": [
  {
   "cells": [
    {
     "cell_type": "code",
     "collapsed": false,
     "input": [
      "import urllib2\n",
      "import ssl"
     ],
     "language": "python",
     "metadata": {},
     "outputs": []
    },
    {
     "cell_type": "code",
     "collapsed": false,
     "input": [
      "#Failes due to cert\n",
      "urllib2.urlopen('https://vsi-ri.com:4433/')"
     ],
     "language": "python",
     "metadata": {},
     "outputs": []
    },
    {
     "cell_type": "code",
     "collapsed": false,
     "input": [
      "#Bypass cert validation\n",
      "context = ssl.SSLContext(ssl.PROTOCOL_TLSv1)\n",
      "urllib2.urlopen('https://vsi-ri.com:4433/', context=context)"
     ],
     "language": "python",
     "metadata": {},
     "outputs": []
    },
    {
     "cell_type": "code",
     "collapsed": false,
     "input": [
      "_.read()"
     ],
     "language": "python",
     "metadata": {},
     "outputs": []
    },
    {
     "cell_type": "code",
     "collapsed": false,
     "input": [],
     "language": "python",
     "metadata": {},
     "outputs": []
    }
   ],
   "metadata": {}
  }
 ]
}