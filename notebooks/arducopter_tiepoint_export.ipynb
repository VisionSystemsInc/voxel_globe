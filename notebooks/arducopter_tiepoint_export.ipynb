{
 "metadata": {
  "name": "",
  "signature": "sha256:401f765d5981448db14be408a40dcdfa80eefd123c1ca834124caf01c6427898"
 },
 "nbformat": 3,
 "nbformat_minor": 0,
 "worksheets": [
  {
   "cells": [
    {
     "cell_type": "code",
     "collapsed": false,
     "input": [
      "import voxel_globe.meta.models\n",
      "import numpy as np\n",
      "import django\n",
      "django.setup()"
     ],
     "language": "python",
     "metadata": {},
     "outputs": [],
     "prompt_number": 3
    },
    {
     "cell_type": "code",
     "collapsed": false,
     "input": [
      "tps = voxel_globe.meta.models.TiePoint.objects.filter(name__startswith='NA-', newerVersion=None, deleted=False)\n",
      "cps_id = np.array(map(lambda x:x['geoPoint'], tps.values('geoPoint'))) #1d\n",
      "cp_list = np.unique(cps_id)\n",
      "frame_nums = map(lambda x:int(x.image.name[-4:]), tps)\n",
      "len(tps)"
     ],
     "language": "python",
     "metadata": {},
     "outputs": [
      {
       "metadata": {},
       "output_type": "pyout",
       "prompt_number": 4,
       "text": [
        "1217"
       ]
      }
     ],
     "prompt_number": 4
    },
    {
     "cell_type": "code",
     "collapsed": false,
     "input": [
      "print len(voxel_globe.meta.models.TiePoint.objects.filter(name__startswith='NA-', newerVersion=None))\n",
      "print len(voxel_globe.meta.models.TiePoint.objects.filter(name__startswith='NA-'))"
     ],
     "language": "python",
     "metadata": {},
     "outputs": [
      {
       "output_type": "stream",
       "stream": "stdout",
       "text": [
        "1217\n",
        "1221\n"
       ]
      }
     ],
     "prompt_number": 6
    },
    {
     "cell_type": "code",
     "collapsed": false,
     "input": [
      "xml = '''<BWM_VIDEO_SITE name=\"Arducopter_Mission2\">\n",
      "  <videoSiteDir path=\"\">\n",
      "  </videoSiteDir>\n",
      "  <videoPath path=\"Z:\\projects\\NGA_P2\\CannonRangeDistribution04072014\\Mission2_TBS_Circle-2014-09-03\\Mission2_TBS_Circle\\images\">\n",
      "  </videoPath>\n",
      "  <cameraPath path=\"Z:\\projects\\NGA_P2\\CannonRangeDistribution04072014\\cameras\\*cam.txt\">\n",
      "  </cameraPath>\n",
      "  <Objects>\n",
      "  </Objects>\n",
      "  <Correspondences>\\n'''\n",
      "correspondence_id = 0\n",
      "\n",
      "for cp_id in cp_list:\n",
      "  cp= voxel_globe.meta.models.ControlPoint.objects.get(id=cp_id, newerVersion=None);\n",
      "  x=cp.point[0];\n",
      "  y=cp.point[1];\n",
      "  z=cp.point[2];\n",
      "\n",
      "  xml += '''    <Correspondence id=\"%d\">\n",
      "      <corr_world_point X=\"%0.12g\" Y=\"%0.12g\" Z=\"%0.12g\">\n",
      "      </corr_world_point>\\n''' % (correspondence_id, x, y, z)\n",
      "\n",
      "  indexes = np.nonzero(cps_id == cp_id)[0] #first dim only\n",
      "  for index in indexes:\n",
      "    xml += '''      <CE fr=\"%d\" u=\"%0.12g\" v=\"%0.12g\">\n",
      "      </CE>\\n''' % (frame_nums[index]-1, tps[index].point[0], tps[index].point[1])\n",
      "  xml += '''    </Correspondence>\\n'''\n",
      "  correspondence_id += 1;\n",
      "xml += '''  </Correspondences>\n",
      "</BWM_VIDEO_SITE>\\n'''\n"
     ],
     "language": "python",
     "metadata": {},
     "outputs": []
    },
    {
     "cell_type": "code",
     "collapsed": false,
     "input": [
      "import os\n",
      "with open(os.path.join(os.environ['VIP_DATABASE_DIR'], 'arducopter_tie_points.xml'), 'w') as fid:\n",
      "    fid.write(xml);"
     ],
     "language": "python",
     "metadata": {},
     "outputs": [],
     "prompt_number": 5
    },
    {
     "cell_type": "code",
     "collapsed": false,
     "input": [],
     "language": "python",
     "metadata": {},
     "outputs": []
    }
   ],
   "metadata": {}
  }
 ]
}