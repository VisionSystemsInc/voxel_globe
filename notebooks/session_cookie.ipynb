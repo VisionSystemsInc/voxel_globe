{
 "metadata": {
  "name": "",
  "signature": "sha256:fc97fa7dfc90bfcd0f232cd4a220b2855faedaa6ff097c66394db69037b00aa6"
 },
 "nbformat": 3,
 "nbformat_minor": 0,
 "worksheets": [
  {
   "cells": [
    {
     "cell_type": "code",
     "collapsed": false,
     "input": [
      "import django\n",
      "django.setup();\n",
      "\n",
      "from django.contrib.sessions.models import Session\n",
      "from django.contrib.sessions.backends.db import SessionStore"
     ],
     "language": "python",
     "metadata": {},
     "outputs": [],
     "prompt_number": 18
    },
    {
     "cell_type": "code",
     "collapsed": false,
     "input": [
      "for s in Session.objects.all():\n",
      "  ss = SessionStore(s.pk)\n",
      "  print ss.session_key\n",
      "  for k in ss.keys():\n",
      "    print '%s: %s' % (k, ss[k])"
     ],
     "language": "python",
     "metadata": {},
     "outputs": [
      {
       "output_type": "stream",
       "stream": "stdout",
       "text": [
        "pxu1nqyz77b2lq2sarnnvby9jx9zdifg\n",
        "ottkvf7ubec5bbl2pqnr7umidcuze807\n",
        "elgpo8qd46yekjqnbgskoi2nsiqnhmlp\n",
        "_auth_user_hash: a0af1b949ae6f98b24889983d84b695b2f50232f\n",
        "_auth_user_id: 1\n",
        "_auth_user_backend: django.contrib.auth.backends.ModelBackend\n"
       ]
      }
     ],
     "prompt_number": 23
    },
    {
     "cell_type": "code",
     "collapsed": false,
     "input": [
      "'_auth_user_id' in s.get_decoded()"
     ],
     "language": "python",
     "metadata": {},
     "outputs": [
      {
       "metadata": {},
       "output_type": "pyout",
       "prompt_number": 32,
       "text": [
        "True"
       ]
      }
     ],
     "prompt_number": 32
    },
    {
     "cell_type": "code",
     "collapsed": false,
     "input": [
      "import django.contrib.auth \n",
      "django.contrib.auth.SESSION_KEY"
     ],
     "language": "python",
     "metadata": {},
     "outputs": [
      {
       "metadata": {},
       "output_type": "pyout",
       "prompt_number": 22,
       "text": [
        "'_auth_user_id'"
       ]
      }
     ],
     "prompt_number": 22
    },
    {
     "cell_type": "code",
     "collapsed": false,
     "input": [
      "from django.utils.importlib import import_module\n",
      "from django.conf import settings\n",
      "from django.contrib.auth import get_user\n",
      "from django.contrib.auth.models import AnonymousUser\n",
      "from django.contrib.auth import SESSION_KEY, BACKEND_SESSION_KEY, load_backend"
     ],
     "language": "python",
     "metadata": {},
     "outputs": [],
     "prompt_number": 24
    },
    {
     "cell_type": "code",
     "collapsed": false,
     "input": [
      "session = engine.SessionStore('ottkvf7ubec5bbl2pqnr7umidcuze808')\n",
      "\n",
      "try:\n",
      "    user_id = session[SESSION_KEY]\n",
      "    backend_path = session[BACKEND_SESSION_KEY]\n",
      "    backend = load_backend(backend_path)\n",
      "    user = backend.get_user(user_id) or AnonymousUser()\n",
      "except KeyError:\n",
      "    user = AnonymousUser()\n",
      "\n",
      "if user.is_authenticated():\n",
      "    print \"User\"\n",
      "else:\n",
      "    print \"Guest\""
     ],
     "language": "python",
     "metadata": {},
     "outputs": [
      {
       "output_type": "stream",
       "stream": "stdout",
       "text": [
        "Guest\n"
       ]
      }
     ],
     "prompt_number": 28
    },
    {
     "cell_type": "code",
     "collapsed": false,
     "input": [
      "user_id"
     ],
     "language": "python",
     "metadata": {},
     "outputs": [
      {
       "metadata": {},
       "output_type": "pyout",
       "prompt_number": 30,
       "text": [
        "1"
       ]
      }
     ],
     "prompt_number": 30
    },
    {
     "cell_type": "code",
     "collapsed": false,
     "input": [
      "from django.conf import settings\n",
      "settings.SECRET_KEY"
     ],
     "language": "python",
     "metadata": {},
     "outputs": [
      {
       "metadata": {},
       "output_type": "pyout",
       "prompt_number": 3,
       "text": [
        "'20hiyp8-=0+oan+sa(r$xz#j83jr5*13*(j_(a)9q234cynf+&'"
       ]
      }
     ],
     "prompt_number": 3
    },
    {
     "cell_type": "code",
     "collapsed": false,
     "input": [
      "import voxel_globe.tools.wget"
     ],
     "language": "python",
     "metadata": {},
     "outputs": [],
     "prompt_number": 2
    },
    {
     "cell_type": "code",
     "collapsed": false,
     "input": [
      "reload(voxel_globe.tools.wget)\n",
      "import time\n",
      "t1 = time.time()\n",
      "voxel_globe.tools.wget.download('http://10.11.26.104/images/1fps_image_0001.jpg', 'nul', secret=True);\n",
      "print time.time()-t1"
     ],
     "language": "python",
     "metadata": {},
     "outputs": [
      {
       "output_type": "stream",
       "stream": "stdout",
       "text": [
        "1.52700018883\n"
       ]
      }
     ],
     "prompt_number": 3
    },
    {
     "cell_type": "code",
     "collapsed": false,
     "input": [
      "import os\n",
      "os.getcwd()"
     ],
     "language": "python",
     "metadata": {},
     "outputs": [
      {
       "metadata": {},
       "output_type": "pyout",
       "prompt_number": 67,
       "text": [
        "'D:\\\\vip\\\\notebooks'"
       ]
      }
     ],
     "prompt_number": 67
    },
    {
     "cell_type": "code",
     "collapsed": false,
     "input": [
      "import Cookie\n",
      "c = Cookie.SimpleCookie({'abd':'test', 'def':settings.SECRET_KEY+'blah:;foo'})\n",
      "s = []\n",
      "for m in c:\n",
      "  s.append('%s=%s' % (m, c[m].coded_value))\n",
      "c2 = '; '.join(s)\n",
      "print c2"
     ],
     "language": "python",
     "metadata": {},
     "outputs": [
      {
       "output_type": "stream",
       "stream": "stdout",
       "text": [
        "abd=test; def=\"20hiyp8-=0+oan+sa(r$xz#j83jr5*13*(j_(a)9q234cynf+&blah:\\073foo\"\n"
       ]
      }
     ],
     "prompt_number": 58
    },
    {
     "cell_type": "code",
     "collapsed": false,
     "input": [
      "str(c)"
     ],
     "language": "python",
     "metadata": {},
     "outputs": [
      {
       "metadata": {},
       "output_type": "pyout",
       "prompt_number": 55,
       "text": [
        "'Set-Cookie: abd=test\\r\\nSet-Cookie: def=\"20hiyp8-=0+oan+sa(r$xz#j83jr5*13*(j_(a)9q234cynf+&blah:\\\\073foo\"'"
       ]
      }
     ],
     "prompt_number": 55
    },
    {
     "cell_type": "code",
     "collapsed": false,
     "input": [
      "str(Cookie.SimpleCookie(c))"
     ],
     "language": "python",
     "metadata": {},
     "outputs": [
      {
       "metadata": {},
       "output_type": "pyout",
       "prompt_number": 59,
       "text": [
        "'Set-Cookie: abd=\"Set-Cookie: abd=test\"\\r\\nSet-Cookie: def=\"Set-Cookie: def=\\\\\"20hiyp8-=0+oan+sa(r$xz#j83jr5*13*(j_(a)9q234cynf+&blah:\\\\\\\\073foo\\\\\"\"'"
       ]
      }
     ],
     "prompt_number": 59
    },
    {
     "cell_type": "code",
     "collapsed": false,
     "input": [],
     "language": "python",
     "metadata": {},
     "outputs": []
    }
   ],
   "metadata": {}
  }
 ]
}