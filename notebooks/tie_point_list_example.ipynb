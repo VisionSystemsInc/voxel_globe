{
 "metadata": {
  "name": "",
  "signature": "sha256:672b9add35e0c7ba6439f0faf51d4b978970cd5fd8d2c03044a40b903a184fce"
 },
 "nbformat": 3,
 "nbformat_minor": 0,
 "worksheets": [
  {
   "cells": [
    {
     "cell_type": "code",
     "collapsed": false,
     "input": [
      "import voxel_globe.meta.models\n",
      "from django.core import serializers\n",
      "import django\n",
      "django.setup()"
     ],
     "language": "python",
     "metadata": {},
     "outputs": [],
     "prompt_number": 7
    },
    {
     "cell_type": "code",
     "collapsed": false,
     "input": [
      "tiePoints = voxel_globe.meta.models.TiePoint.objects.all()\n",
      "print len(tiePoints)\n",
      "tiePoints[0]"
     ],
     "language": "python",
     "metadata": {},
     "outputs": [
      {
       "output_type": "stream",
       "stream": "stdout",
       "text": [
        "2\n"
       ]
      },
      {
       "metadata": {},
       "output_type": "pyout",
       "prompt_number": 12,
       "text": [
        "id: 1239\n",
        "service: serviceinstance - add_purdue_data.add_sample_tie_point [2]\n",
        "name: NA-08 Frame:032\n",
        "objectId: 354945e4-9c2a-47d9-870e-7ec0fa95ba48\n",
        "newerVersion: None\n",
        "deleted: False\n",
        "point: POINT (1127.0000000000000000 89.0000000000000000)\n",
        "image: image - Arducopter Mission 2 Frame:0032[32]\n",
        "geoPoint: controlpoint - NA-08[4]"
       ]
      }
     ],
     "prompt_number": 12
    },
    {
     "cell_type": "code",
     "collapsed": false,
     "input": [
      "blah = voxel_globe.meta.models.TiePoint.objects.filter(image_id=tiePoints[0].image_id)\n",
      "serializers.serialize('geojson', blah, fields=('name', 'point', 'geoPoint'))"
     ],
     "language": "python",
     "metadata": {},
     "outputs": [
      {
       "metadata": {},
       "output_type": "pyout",
       "prompt_number": 14,
       "text": [
        "u'[{\"fields\": {\"geoPoint\": 4, \"name\": \"NA-08 Frame:032\", \"point\": {\"type\": \"Point\", \"coordinates\": [1127.0, 89.0]}}, \"model\": \"meta.tiepoint\", \"pk\": 1}, {\"fields\": {\"geoPoint\": 4, \"name\": \"NA-08 Frame:032\", \"point\": {\"type\": \"Point\", \"coordinates\": [1127.0, 89.0]}}, \"model\": \"meta.tiepoint\", \"pk\": 1239}]'"
       ]
      }
     ],
     "prompt_number": 14
    },
    {
     "cell_type": "code",
     "collapsed": false,
     "input": [],
     "language": "python",
     "metadata": {},
     "outputs": []
    }
   ],
   "metadata": {}
  }
 ]
}