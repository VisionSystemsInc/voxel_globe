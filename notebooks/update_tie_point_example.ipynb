{
 "metadata": {
  "name": "",
  "signature": "sha256:942a47ac03f6b8333d5e7f65b6f6ec0982f37bc1aac15e9c1ff79ead87b5ebb1"
 },
 "nbformat": 3,
 "nbformat_minor": 0,
 "worksheets": [
  {
   "cells": [
    {
     "cell_type": "code",
     "collapsed": false,
     "input": [
      "import vip.tiepoint_app.tasks\n",
      "import voxel_globe.meta.models\n",
      "import django; django.setup(); del django"
     ],
     "language": "python",
     "metadata": {},
     "outputs": [],
     "prompt_number": 13
    },
    {
     "cell_type": "code",
     "collapsed": false,
     "input": [
      "tp = voxel_globe.meta.models.TiePoint.objects.get(id=1);\n",
      "tp2 = vip.tiepoint_app.tasks.updateTiePoint.apply((1, '109', '50000'));\n",
      "#t = tasks.addTiePoint.apply_async(kwargs={'point':'POINT(29 31)', 'geoPoint_id':1, 'image_id':5, 'name':\"Hiya\"})\n",
      "print tp.id\n",
      "print tp2.id"
     ],
     "language": "python",
     "metadata": {},
     "outputs": [
      {
       "output_type": "stream",
       "stream": "stdout",
       "text": [
        "1\n",
        "19\n"
       ]
      }
     ],
     "prompt_number": 14
    },
    {
     "cell_type": "code",
     "collapsed": false,
     "input": [
      "voxel_globe.meta.models.TiePoint.objects.get(id=tp2.id)"
     ],
     "language": "python",
     "metadata": {},
     "outputs": []
    }
   ],
   "metadata": {}
  }
 ]
}