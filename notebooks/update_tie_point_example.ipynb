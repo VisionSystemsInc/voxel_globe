{
 "metadata": {
  "name": "",
  "signature": "sha256:94f47312e47479e8a633147f39076b2a74f35f630b2dd3d6fbac1e5cdb375f02"
 },
 "nbformat": 3,
 "nbformat_minor": 0,
 "worksheets": [
  {
   "cells": [
    {
     "cell_type": "code",
     "collapsed": false,
     "input": [
      "import voxel_globe.tiepoint.tasks\n",
      "import voxel_globe.meta.models\n",
      "import django; django.setup(); del django"
     ],
     "language": "python",
     "metadata": {},
     "outputs": [],
     "prompt_number": 13
    },
    {
     "cell_type": "code",
     "collapsed": false,
     "input": [
      "tp = voxel_globe.meta.models.TiePoint.objects.get(id=1);\n",
      "tp2 = voxel_globe.tiepoint.tasks.updateTiePoint.apply((1, '109', '50000'));\n",
      "#t = tasks.addTiePoint.apply_async(kwargs={'point':'POINT(29 31)', 'geoPoint_id':1, 'image_id':5, 'name':\"Hiya\"})\n",
      "print tp.id\n",
      "print tp2.id"
     ],
     "language": "python",
     "metadata": {},
     "outputs": [
      {
       "output_type": "stream",
       "stream": "stdout",
       "text": [
        "1\n",
        "19\n"
       ]
      }
     ],
     "prompt_number": 14
    },
    {
     "cell_type": "code",
     "collapsed": false,
     "input": [
      "voxel_globe.meta.models.TiePoint.objects.get(id=tp2.id)"
     ],
     "language": "python",
     "metadata": {},
     "outputs": []
    }
   ],
   "metadata": {}
  }
 ]
}