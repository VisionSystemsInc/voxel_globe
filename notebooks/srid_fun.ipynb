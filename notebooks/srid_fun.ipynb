{
 "metadata": {
  "name": "",
  "signature": "sha256:0a8259c735cd53030de2d95ec9e8abb08dfc1f2f4ab21a4d5c30c876e3598544"
 },
 "nbformat": 3,
 "nbformat_minor": 0,
 "worksheets": [
  {
   "cells": [
    {
     "cell_type": "raw",
     "metadata": {},
     "source": [
      "import voxel_globe.meta.models\n",
      "import django\n",
      "django.setup()"
     ]
    },
    {
     "cell_type": "raw",
     "metadata": {},
     "source": [
      "gcs = voxel_globe.meta.models.GeoreferenceCoordinateSystem.objects\n",
      "objectId = gcs.get(id=1).objectId;\n",
      "hist = gcs.filter(objectId=objectId)"
     ]
    },
    {
     "cell_type": "raw",
     "metadata": {},
     "source": [
      "h = hist[1]\n",
      "h_id = h.id\n",
      "setattr(h, '__update_save', False)\n",
      "h.location='SRID=4326;POINT(-95 37 300)'\n",
      "h.location='SRID=3084;POINT(-95 37 300)'\n",
      "h.location='SRID=7428;POINT(-95 37 300)'\n",
      "h.location='SRID=7428;POINT(37 -95 300)'\n",
      "h.save()\n",
      "print h.location.srid, h.location"
     ]
    },
    {
     "cell_type": "raw",
     "metadata": {},
     "source": [
      "h2 = gcs.get(id=h_id)\n",
      "print h2.location.srid, h2.location"
     ]
    },
    {
     "cell_type": "raw",
     "metadata": {},
     "source": [
      "import django.contrib.gis.geos\n",
      "print django.contrib.gis.geos.GEOSGeometry('POINT(1 2 3)', srid=4).srid\n",
      "print django.contrib.gis.geos.GEOSGeometry('SRID=4300;POINT(1 2 3)').srid"
     ]
    },
    {
     "cell_type": "code",
     "collapsed": false,
     "input": [
      "import django\n",
      "django.setup()"
     ],
     "language": "python",
     "metadata": {},
     "outputs": []
    },
    {
     "cell_type": "code",
     "collapsed": false,
     "input": [
      "import voxel_globe.meta.models\n",
      "gcs = voxel_globe.meta.models.GeoreferenceCoordinateSystem.objects"
     ],
     "language": "python",
     "metadata": {},
     "outputs": []
    },
    {
     "cell_type": "code",
     "collapsed": false,
     "input": [
      "a = gcs.all()[0]\n",
      "originalLocataion = str(a.location)"
     ],
     "language": "python",
     "metadata": {},
     "outputs": []
    },
    {
     "cell_type": "code",
     "collapsed": false,
     "input": [
      "a.location = 'SRID=7428;POINT(0 0 0)' #7428, 4322\n",
      "#a.location = 'POINT(0 0 0)'\n",
      "a.save()\n",
      "print repr(gcs.get(id=a.id))\n",
      "a.location = originalLocataion\n",
      "a.save()\n",
      "print repr(gcs.get(id=a.id))"
     ],
     "language": "python",
     "metadata": {},
     "outputs": []
    },
    {
     "cell_type": "code",
     "collapsed": false,
     "input": [],
     "language": "python",
     "metadata": {},
     "outputs": []
    }
   ],
   "metadata": {}
  }
 ]
}