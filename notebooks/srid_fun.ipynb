{
 "metadata": {
  "name": "",
  "signature": "sha256:2270f6ead0fb472984ee4e45db8c4bafba030b58e0686201f9e5aedf658d63b3"
 },
 "nbformat": 3,
 "nbformat_minor": 0,
 "worksheets": [
  {
   "cells": [
    {
     "cell_type": "code",
     "collapsed": false,
     "input": [
      "import voxel_globe.meta.models\n",
      "import django\n",
      "django.setup()"
     ],
     "language": "python",
     "metadata": {},
     "outputs": [],
     "prompt_number": 1
    },
    {
     "cell_type": "code",
     "collapsed": false,
     "input": [
      "gcs = voxel_globe.meta.models.GeoreferenceCoordinateSystem.objects\n",
      "objectId = gcs.get(id=1).objectId;\n",
      "hist = gcs.filter(objectId=objectId)"
     ],
     "language": "python",
     "metadata": {},
     "outputs": [],
     "prompt_number": 2
    },
    {
     "cell_type": "code",
     "collapsed": false,
     "input": [
      "h = hist[1]\n",
      "h_id = h.id\n",
      "setattr(h, '__update_save', False)\n",
      "h.location='SRID=4326;POINT(-95 37 300)'\n",
      "h.location='SRID=3084;POINT(-95 37 300)'\n",
      "h.location='SRID=7428;POINT(-95 37 300)'\n",
      "h.save()\n",
      "print h.location.srid, h.location"
     ],
     "language": "python",
     "metadata": {},
     "outputs": [
      {
       "output_type": "stream",
       "stream": "stdout",
       "text": [
        "7428 POINT Z (-95.0000000000000000 37.0000000000000000 300.0000000000000000)\n"
       ]
      }
     ],
     "prompt_number": 3
    },
    {
     "cell_type": "code",
     "collapsed": false,
     "input": [
      "h2 = gcs.get(id=h_id)\n",
      "print h2.location.srid, h2.location"
     ],
     "language": "python",
     "metadata": {},
     "outputs": [
      {
       "output_type": "stream",
       "stream": "stdout",
       "text": [
        "4326 POINT Z (-95.0000000000000000 37.0000000000000000 269.3550987243652300)\n"
       ]
      }
     ],
     "prompt_number": 4
    },
    {
     "cell_type": "code",
     "collapsed": false,
     "input": [],
     "language": "python",
     "metadata": {},
     "outputs": [],
     "prompt_number": 4
    },
    {
     "cell_type": "code",
     "collapsed": false,
     "input": [
      "import django.contrib.gis.geos\n",
      "print django.contrib.gis.geos.GEOSGeometry('POINT(1 2 3)', srid=4).srid\n",
      "print django.contrib.gis.geos.GEOSGeometry('SRID=4300;POINT(1 2 3)').srid"
     ],
     "language": "python",
     "metadata": {},
     "outputs": [
      {
       "output_type": "stream",
       "stream": "stdout",
       "text": [
        "4\n",
        "4300\n"
       ]
      }
     ],
     "prompt_number": 5
    },
    {
     "cell_type": "code",
     "collapsed": false,
     "input": [],
     "language": "python",
     "metadata": {},
     "outputs": []
    }
   ],
   "metadata": {}
  }
 ]
}