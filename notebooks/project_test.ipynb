{
 "metadata": {
  "name": "",
  "signature": "sha256:684b51ad2d4235cd212bfbfc32c95386c8426ce1bf494f5541df9376f824b585"
 },
 "nbformat": 3,
 "nbformat_minor": 0,
 "worksheets": [
  {
   "cells": [
    {
     "cell_type": "code",
     "collapsed": false,
     "input": [
      "import vip.tools.enu as enu\n",
      "import numpy as np"
     ],
     "language": "python",
     "metadata": {},
     "outputs": [],
     "prompt_number": 1
    },
    {
     "cell_type": "code",
     "collapsed": false,
     "input": [
      "T = np.eye(4)\n",
      "K = np.eye(3); K[0,0] = 10000; K[1,1]= 10000;\n",
      "xs = [1,1,2]\n",
      "ys = [2,3,2]\n",
      "ds = [100, 100, 100]\n",
      "llh_xyz = [-112, 33, 1000]"
     ],
     "language": "python",
     "metadata": {},
     "outputs": [],
     "prompt_number": 2
    },
    {
     "cell_type": "code",
     "collapsed": false,
     "input": [
      "R = T[0:3, 0:3];\n",
      "t = T[0:3, 3:]; #Extract 3x1, which is why the : is necessary\n",
      "cam_center = -R.dot(t).flatten();\n",
      "P = K.dot(np.concatenate((R,t), axis=1));\n",
      "Pi = np.matrix(P).I;\n",
      "ray = np.array(Pi).dot([list(xs),list(ys),[1]*len(xs)]);\n",
      "ray = ray[0:3]; #cut off 4th row\n"
     ],
     "language": "python",
     "metadata": {},
     "outputs": [],
     "prompt_number": 3
    },
    {
     "cell_type": "code",
     "collapsed": false,
     "input": [
      "for c in range(ray.shape[1]):\n",
      "    ray[:,c] /= np.linalg.norm(ray[:,c]) / ds[c];"
     ],
     "language": "python",
     "metadata": {},
     "outputs": [],
     "prompt_number": 4
    },
    {
     "cell_type": "code",
     "collapsed": false,
     "input": [
      "for c in range(ray.shape[1]):\n",
      "    t = (-llh_xyz[2]+ds[c] - cam_center[2])/ray[2,c]; #project to sea level\n",
      "    ray[:,c] = ray[:,c] * t+cam_center;\n",
      "    "
     ],
     "language": "python",
     "metadata": {},
     "outputs": [],
     "prompt_number": 5
    },
    {
     "cell_type": "code",
     "collapsed": false,
     "input": [
      "(ray[0,:]**2 + ray[1,:]**2 + ray[2,:]**2)**0.5"
     ],
     "language": "python",
     "metadata": {},
     "outputs": [
      {
       "metadata": {},
       "output_type": "pyout",
       "prompt_number": 6,
       "text": [
        "array([ 900.0000225,  900.000045 ,  900.000036 ])"
       ]
      }
     ],
     "prompt_number": 6
    },
    {
     "cell_type": "code",
     "collapsed": false,
     "input": [
      "ray"
     ],
     "language": "python",
     "metadata": {},
     "outputs": [
      {
       "metadata": {},
       "output_type": "pyout",
       "prompt_number": 7,
       "text": [
        "array([[ -9.00000000e-02,  -9.00000000e-02,  -1.80000000e-01],\n",
        "       [ -1.80000000e-01,  -2.70000000e-01,  -1.80000000e-01],\n",
        "       [ -9.00000000e+02,  -9.00000000e+02,  -9.00000000e+02]])"
       ]
      }
     ],
     "prompt_number": 7
    },
    {
     "cell_type": "code",
     "collapsed": false,
     "input": [
      "ray[2,:]+900"
     ],
     "language": "python",
     "metadata": {},
     "outputs": [
      {
       "metadata": {},
       "output_type": "pyout",
       "prompt_number": 8,
       "text": [
        "array([ 0.,  0.,  0.])"
       ]
      }
     ],
     "prompt_number": 8
    },
    {
     "cell_type": "code",
     "collapsed": false,
     "input": [
      "reload(enu)\n",
      "ans = enu.enu2llh(llh_xyz[1], llh_xyz[0], llh_xyz[2], ray[0,:], ray[1,:], ray[2,:])\n",
      "print ans"
     ],
     "language": "python",
     "metadata": {},
     "outputs": [
      {
       "output_type": "stream",
       "stream": "stdout",
       "text": [
        "{'lat': array([ 32.99999836,  32.99999755,  32.99999836]), 'h': array([ 100.4689958 ,  100.46899577,  100.4689958 ]), 'lon': array([-112.00000096, -112.00000096, -112.00000193])}\n"
       ]
      }
     ],
     "prompt_number": 9
    },
    {
     "cell_type": "code",
     "collapsed": false,
     "input": [
      "print enu.llh2enu(llh_xyz[1], llh_xyz[0], llh_xyz[2], ans['lat'], ans['lon'], ans['h'])"
     ],
     "language": "python",
     "metadata": {},
     "outputs": [
      {
       "output_type": "stream",
       "stream": "stdout",
       "text": [
        "(array([-0.09000001, -0.09000001, -0.18000001]), array([-0.18143694, -0.27143695, -0.18143695]), array([-899.53100421, -899.53100424, -899.53100421]))\n"
       ]
      }
     ],
     "prompt_number": 10
    },
    {
     "cell_type": "code",
     "collapsed": false,
     "input": [
      "import json\n",
      "class NumpyAwareJSONEncoder(json.JSONEncoder):\n",
      "    def default(self, obj):\n",
      "        if isinstance(obj, np.ndarray) and obj.ndim == 1:\n",
      "            return obj.tolist()\n",
      "        return json.JSONEncoder.default(self, obj)\n",
      "\n",
      "json.dumps(ans, cls=NumpyAwareJSONEncoder)"
     ],
     "language": "python",
     "metadata": {},
     "outputs": [
      {
       "metadata": {},
       "output_type": "pyout",
       "prompt_number": 11,
       "text": [
        "'{\"lat\": [32.999998364050626, 32.99999755255408, 32.99999836405061], \"h\": [100.46899579749493, 100.46899576849172, 100.46899579890314], \"lon\": [-112.00000096303364, -112.00000096303363, -112.00000192606727]}'"
       ]
      }
     ],
     "prompt_number": 11
    },
    {
     "cell_type": "code",
     "collapsed": false,
     "input": [
      "np.concatenate(([1], [2]))"
     ],
     "language": "python",
     "metadata": {},
     "outputs": [
      {
       "metadata": {},
       "output_type": "pyout",
       "prompt_number": 12,
       "text": [
        "array([1, 2])"
       ]
      }
     ],
     "prompt_number": 12
    },
    {
     "cell_type": "code",
     "collapsed": false,
     "input": [],
     "language": "python",
     "metadata": {},
     "outputs": []
    }
   ],
   "metadata": {}
  }
 ]
}