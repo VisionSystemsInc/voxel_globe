{
 "metadata": {
  "name": "",
  "signature": "sha256:819341db873e85cfdd25cfe73d040e419bdfc2ac0c4099e2b8d3ded6b4ad2501"
 },
 "nbformat": 3,
 "nbformat_minor": 0,
 "worksheets": [
  {
   "cells": [
    {
     "cell_type": "code",
     "collapsed": false,
     "input": [
      "import pyopencl as cl\n",
      "import numpy as np"
     ],
     "language": "python",
     "metadata": {},
     "outputs": [],
     "prompt_number": 1
    },
    {
     "cell_type": "code",
     "collapsed": false,
     "input": [
      "cl.__file__"
     ],
     "language": "python",
     "metadata": {},
     "outputs": [
      {
       "metadata": {},
       "output_type": "pyout",
       "prompt_number": 2,
       "text": [
        "'D:\\\\vip\\\\external\\\\bin_Windows_NT_AMD64\\\\python\\\\lib\\\\site-packages\\\\pyopencl-2014.1-py2.7-win-amd64.egg\\\\pyopencl\\\\__init__.pyc'"
       ]
      }
     ],
     "prompt_number": 2
    },
    {
     "cell_type": "code",
     "collapsed": false,
     "input": [
      "cl.get_platforms()"
     ],
     "language": "python",
     "metadata": {},
     "outputs": [
      {
       "metadata": {},
       "output_type": "pyout",
       "prompt_number": 3,
       "text": [
        "[<pyopencl.Platform 'Intel(R) OpenCL' at 0x369450>,\n",
        " <pyopencl.Platform 'NVIDIA CUDA' at 0xbbdbbe0>]"
       ]
      }
     ],
     "prompt_number": 3
    },
    {
     "cell_type": "code",
     "collapsed": false,
     "input": [
      "cl.get_platforms()[0].get_devices()"
     ],
     "language": "python",
     "metadata": {},
     "outputs": [
      {
       "metadata": {},
       "output_type": "pyout",
       "prompt_number": 4,
       "text": [
        "[<pyopencl.Device 'Intel(R) Core(TM) i7-4810MQ CPU @ 2.80GHz' on 'Intel(R) OpenCL' at 0xb4cdab0>,\n",
        " <pyopencl.Device 'Intel(R) HD Graphics 4600' on 'Intel(R) OpenCL' at 0x378cf0>]"
       ]
      }
     ],
     "prompt_number": 4
    },
    {
     "cell_type": "code",
     "collapsed": false,
     "input": [
      "x = 102*10\n",
      "a_np = np.arange(0, 16)*np.ones((x, 1), dtype=np.double)\n",
      "b_np = np.arange(0, 16)*np.ones((x, 1), dtype=np.double)"
     ],
     "language": "python",
     "metadata": {},
     "outputs": [],
     "prompt_number": 14
    },
    {
     "cell_type": "code",
     "collapsed": false,
     "input": [
      "#ctx = cl.create_some_context()\n",
      "#ctx = cl.Context(devices=cl.get_platforms()[1].get_devices()) #NGPU\n",
      "ctx = cl.Context(devices=[cl.get_platforms()[0].get_devices()[0]]) #CPU\n",
      "#ctx = cl.Context(devices=[cl.get_platforms()[0].get_devices()[1]]) #IGPU\n",
      "\n",
      "queue = cl.CommandQueue(ctx)\n",
      "\n",
      "mf = cl.mem_flags\n",
      "a_g = cl.Buffer(ctx, mf.READ_ONLY | mf.COPY_HOST_PTR, hostbuf=a_np)\n",
      "b_g = cl.Buffer(ctx, mf.READ_ONLY | mf.COPY_HOST_PTR, hostbuf=b_np)"
     ],
     "language": "python",
     "metadata": {},
     "outputs": [],
     "prompt_number": 15
    },
    {
     "cell_type": "code",
     "collapsed": false,
     "input": [
      "prg = cl.Program(ctx, \"\"\"\n",
      "__kernel void sum(__global const double *a_g, __global const double *b_g, __global double *res_g) {\n",
      "  int i;\n",
      "  int gid = get_global_id(0);\n",
      "  res_g[gid] = sin(a_g[gid] + b_g[gid]+0.01);\n",
      "  //res_g[gid] = get_work_dim();\n",
      "}\n",
      "\"\"\").build()"
     ],
     "language": "python",
     "metadata": {},
     "outputs": [],
     "prompt_number": 33
    },
    {
     "cell_type": "code",
     "collapsed": false,
     "input": [
      "#res_np = np.empty((a_np.shape[0], 4), dtype=np.double)\n",
      "res_np = np.empty_like(a_np)\n",
      "\n",
      "res_g = cl.Buffer(ctx, mf.WRITE_ONLY, a_np.nbytes)\n",
      "ret = prg.sum(queue, (a_np.size,), None, a_g, b_g, res_g)\n",
      "\n",
      "cl.enqueue_copy(queue, res_np, res_g)"
     ],
     "language": "python",
     "metadata": {},
     "outputs": [
      {
       "metadata": {},
       "output_type": "pyout",
       "prompt_number": 34,
       "text": [
        "<pyopencl._cl.NannyEvent at 0xa4b1c78>"
       ]
      }
     ],
     "prompt_number": 34
    },
    {
     "cell_type": "code",
     "collapsed": false,
     "input": [
      "np.nonzero(res_np != res_np[0,:])"
     ],
     "language": "python",
     "metadata": {},
     "outputs": [
      {
       "metadata": {},
       "output_type": "pyout",
       "prompt_number": 38,
       "text": [
        "(array([], dtype=int64), array([], dtype=int64))"
       ]
      }
     ],
     "prompt_number": 38
    },
    {
     "cell_type": "code",
     "collapsed": false,
     "input": [
      "boxm2OclRenderExpectedImageProcess"
     ],
     "language": "python",
     "metadata": {},
     "outputs": [],
     "prompt_number": 9
    },
    {
     "cell_type": "code",
     "collapsed": false,
     "input": [
      "%matplotlib inline\n",
      "import pylab"
     ],
     "language": "python",
     "metadata": {},
     "outputs": [],
     "prompt_number": 10
    },
    {
     "cell_type": "code",
     "collapsed": false,
     "input": [
      "pylab.plot(res_np[:, 1])"
     ],
     "language": "python",
     "metadata": {},
     "outputs": [
      {
       "metadata": {},
       "output_type": "pyout",
       "prompt_number": 11,
       "text": [
        "[<matplotlib.lines.Line2D at 0xa1a6898>]"
       ]
      },
      {
       "metadata": {},
       "output_type": "display_data",
       "png": "[encoded data removed]",
       "text": [
        "<matplotlib.figure.Figure at 0xa0db4e0>"
       ]
      }
     ],
     "prompt_number": 11
    },
    {
     "cell_type": "code",
     "collapsed": false,
     "input": [
      "import numpy as np\n",
      "import pyopencl as cl\n",
      "\n",
      "a_np = np.random.rand(50000).astype(np.float32)\n",
      "b_np = np.random.rand(50000).astype(np.float32)\n",
      "\n",
      "ctx = cl.Context(devices=[cl.get_platforms()[0].get_devices()[0]]) #CPU\n",
      "queue = cl.CommandQueue(ctx)\n",
      "\n",
      "mf = cl.mem_flags\n",
      "a_g = cl.Buffer(ctx, mf.READ_ONLY | mf.COPY_HOST_PTR, hostbuf=a_np)\n",
      "b_g = cl.Buffer(ctx, mf.READ_ONLY | mf.COPY_HOST_PTR, hostbuf=b_np)\n",
      "\n",
      "prg = cl.Program(ctx, \"\"\"\n",
      "__kernel void sum(__global const float *a_g, __global const float *b_g, __global float *res_g) {\n",
      "  int gid = get_global_id(0);\n",
      "  res_g[gid] = a_g[gid] + b_g[gid];\n",
      "}\n",
      "\"\"\").build()\n",
      "\n",
      "res_g = cl.Buffer(ctx, mf.WRITE_ONLY, a_np.nbytes)\n",
      "prg.sum(queue, a_np.shape, None, a_g, b_g, res_g)\n",
      "\n",
      "res_np = np.empty_like(a_np)\n",
      "cl.enqueue_copy(queue, res_np, res_g)\n",
      "\n",
      "# Check on CPU with Numpy:\n",
      "print(res_np - (a_np + b_np))\n",
      "print(np.linalg.norm(res_np - (a_np + b_np)))"
     ],
     "language": "python",
     "metadata": {},
     "outputs": [
      {
       "output_type": "stream",
       "stream": "stdout",
       "text": [
        "[ 0.  0.  0. ...,  0.  0.  0.]\n",
        "0.0\n"
       ]
      }
     ],
     "prompt_number": 12
    },
    {
     "cell_type": "code",
     "collapsed": false,
     "input": [],
     "language": "python",
     "metadata": {},
     "outputs": [],
     "prompt_number": 12
    }
   ],
   "metadata": {}
  }
 ]
}