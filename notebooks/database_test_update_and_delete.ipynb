{
 "metadata": {
  "name": "",
  "signature": "sha256:f93c180de54fd767eb0229747fe9fc39bfab3fecc49e2db5701ced376bab95c6"
 },
 "nbformat": 3,
 "nbformat_minor": 0,
 "worksheets": [
  {
   "cells": [
    {
     "cell_type": "code",
     "collapsed": false,
     "input": [
      "import voxel_globe.meta.models\n",
      "import time\n",
      "import django;\n",
      "django.setup()"
     ],
     "language": "python",
     "metadata": {},
     "outputs": []
    },
    {
     "cell_type": "code",
     "collapsed": false,
     "input": [
      "voxel_globe.meta.models.Image.objects.all()[0:1]"
     ],
     "language": "python",
     "metadata": {
      "slideshow": {
       "slide_type": "-"
      }
     },
     "outputs": []
    },
    {
     "cell_type": "code",
     "collapsed": false,
     "input": [
      "voxel_globe.meta.models.ImageCollection.objects.all()[0:1]"
     ],
     "language": "python",
     "metadata": {},
     "outputs": []
    },
    {
     "cell_type": "code",
     "collapsed": false,
     "input": [
      "print voxel_globe.meta.models.ImageCollection.objects.all()[0].__repr__(3)"
     ],
     "language": "python",
     "metadata": {},
     "outputs": []
    },
    {
     "cell_type": "code",
     "collapsed": false,
     "input": [
      "tp1 = voxel_globe.meta.models.TiePoint.objects.get(id=1);\n",
      "tp1.update(point='POINT(27 12)');\n",
      "print \"It's \", hasattr(tp1, '__update_save')\n",
      "tp1.update(point='POINT(36 37)', _auto_save=False);\n",
      "print \"It's \", hasattr(tp1, '__update_save')\n",
      "tp1.geoPoint=None;\n",
      "tp1.save()\n",
      "tp1 = voxel_globe.meta.models.TiePoint.objects.get(id=1);\n",
      "tp1.update(point='POINT(47 48)');\n",
      "print \"It's \", hasattr(tp1, '__update_save')\n"
     ],
     "language": "python",
     "metadata": {},
     "outputs": []
    },
    {
     "cell_type": "code",
     "collapsed": false,
     "input": [
      "tp1._findNewest()"
     ],
     "language": "python",
     "metadata": {},
     "outputs": []
    },
    {
     "cell_type": "code",
     "collapsed": false,
     "input": [
      "print voxel_globe.meta.models.TiePoint.objects.get(id=1).__repr__(4)"
     ],
     "language": "python",
     "metadata": {},
     "outputs": []
    },
    {
     "cell_type": "code",
     "collapsed": false,
     "input": [
      "voxel_globe.meta.models.TiePoint.objects.all()[0:1]"
     ],
     "language": "python",
     "metadata": {},
     "outputs": []
    },
    {
     "cell_type": "code",
     "collapsed": false,
     "input": [
      "print tp1.getProvenance()"
     ],
     "language": "python",
     "metadata": {},
     "outputs": []
    },
    {
     "cell_type": "code",
     "collapsed": false,
     "input": [
      "for tp in voxel_globe.meta.models.TiePoint.objects.exclude(id=1):\n",
      "##    tp2 = meta.models.ImageTiePoint.objects.get(id=1);\n",
      "##    while not tp2 == None:\n",
      "##      print tp2, tp2.newerVersion_id\n",
      "##      tp2 = tp2.newerVersion;\n",
      "##    print 'deleting ', tp, tp.newerVersion_id\n",
      "    tp2 = voxel_globe.meta.models.TiePoint.objects.get(id=tp.id)\n",
      "    tp2.delete();\n",
      "#    tp.delete();\n"
     ],
     "language": "python",
     "metadata": {},
     "outputs": []
    },
    {
     "cell_type": "code",
     "collapsed": false,
     "input": [
      "t1 = time.time();\n",
      "t = 3;\n",
      "for x in xrange(1000):\n",
      "  if t==1:\n",
      "    img = voxel_globe.meta.models.Image.objects.get(id=1);\n",
      "    img.name = \"ok %s\" % t1;\n",
      "    img.save();\n",
      "  elif t==2:\n",
      "    meta.models.Image.objects.filter(id=1).update(name=\"ok %s\" % t1)\n",
      "t2 = time.time();\n",
      "print t2-t1;"
     ],
     "language": "python",
     "metadata": {},
     "outputs": []
    },
    {
     "cell_type": "code",
     "collapsed": false,
     "input": [
      "len(voxel_globe.meta.models.TiePoint.objects.all())"
     ],
     "language": "python",
     "metadata": {},
     "outputs": []
    },
    {
     "cell_type": "code",
     "collapsed": false,
     "input": [
      "#tp2 = tp1._meta.model.objects.all()[2]\n",
      "#tp2.newerVersion_id = None;\n",
      "#tp2.save()"
     ],
     "language": "python",
     "metadata": {},
     "outputs": []
    },
    {
     "cell_type": "code",
     "collapsed": false,
     "input": [
      "print tp1.getProvenance()"
     ],
     "language": "python",
     "metadata": {},
     "outputs": []
    },
    {
     "cell_type": "code",
     "collapsed": false,
     "input": [],
     "language": "python",
     "metadata": {},
     "outputs": []
    }
   ],
   "metadata": {}
  }
 ]
}