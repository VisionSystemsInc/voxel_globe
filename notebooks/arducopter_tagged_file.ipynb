{
 "metadata": {
  "name": "",
  "signature": "sha256:0b7b328b572b38d9ce8c0df673054afbf776c0c72ecb747745d66047186bbba0"
 },
 "nbformat": 3,
 "nbformat_minor": 0,
 "worksheets": [
  {
   "cells": [
    {
     "cell_type": "code",
     "collapsed": false,
     "input": [
      "import voxel_globe.arducopter.arducopter as arducopter\n",
      "import numpy as np"
     ],
     "language": "python",
     "metadata": {},
     "outputs": [],
     "prompt_number": 1
    },
    {
     "cell_type": "code",
     "collapsed": false,
     "input": [
      "fl = 2500\n",
      "w = 4096\n",
      "h = 2160"
     ],
     "language": "python",
     "metadata": {},
     "outputs": [],
     "prompt_number": 2
    },
    {
     "cell_type": "code",
     "collapsed": false,
     "input": [
      "data = arducopter.loadAdjTaggedMetadata(r'd:\\visualsfm\\arducopter\\2014-03-20 13-22-44_adj_tagged_images.txt');"
     ],
     "language": "python",
     "metadata": {},
     "outputs": [],
     "prompt_number": 3
    },
    {
     "cell_type": "code",
     "collapsed": false,
     "input": [
      "with open(r'd:\\vip\\images\\cannon_cameras_gps.txt', 'w') as fid:\n",
      "  for d in data:\n",
      "    print >>fid,\"'%s', %s, %s, [%f, %f, %d, %d]\" % (d.filename, d.llh_xyz, np.eye(4).tolist(), fl, fl, w/2, h/2)"
     ],
     "language": "python",
     "metadata": {},
     "outputs": [],
     "prompt_number": 5
    },
    {
     "cell_type": "code",
     "collapsed": false,
     "input": [],
     "language": "python",
     "metadata": {},
     "outputs": []
    },
    {
     "cell_type": "code",
     "collapsed": false,
     "input": [],
     "language": "python",
     "metadata": {},
     "outputs": []
    }
   ],
   "metadata": {}
  }
 ]
}