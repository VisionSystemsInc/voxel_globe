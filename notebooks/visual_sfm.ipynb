{
 "metadata": {
  "name": "",
  "signature": "sha256:8b7756615f624be61213c11b76b8698f6a310b79fa0a0b6170368689c6b72db7"
 },
 "nbformat": 3,
 "nbformat_minor": 0,
 "worksheets": [
  {
   "cells": [
    {
     "cell_type": "code",
     "collapsed": false,
     "input": [
      "import voxel_globe.visualsfm.tools as visualsfm\n",
      "from glob import glob\n",
      "import voxel_globe.arducopter.arducopter as arducopter\n",
      "import os\n",
      "import numpy"
     ],
     "language": "python",
     "metadata": {},
     "outputs": [],
     "prompt_number": 1
    },
    {
     "cell_type": "code",
     "collapsed": false,
     "input": [
      "import voxel_globe.meta.models\n",
      "import voxel_globe.meta.tools\n",
      "import django; django.setup()"
     ],
     "language": "python",
     "metadata": {},
     "outputs": [],
     "prompt_number": 2
    },
    {
     "cell_type": "code",
     "collapsed": false,
     "input": [
      "imgDir = r'd:\\visualsfm\\arducopter'\n",
      "outputCameraFile = os.path.join(imgDir, 'cannon_cameras_3.txt');\n",
      "origin = {'lat':37.648858, 'lon':-92.215197, 'h':300}\n",
      "imgs = glob(os.path.join(imgDir, '1fps*.jpg'))\n",
      "#imgs = imgs[::10]\n",
      "imgs.sort()\n",
      "imgs = imgs[101:151]"
     ],
     "language": "python",
     "metadata": {},
     "outputs": [],
     "prompt_number": 3
    },
    {
     "cell_type": "code",
     "collapsed": false,
     "input": [
      "visualsfm.generateMatchPoints(imgs, r'd:\\visualsfm\\arducopter\\match.nvm')"
     ],
     "language": "python",
     "metadata": {},
     "outputs": [],
     "prompt_number": 5
    },
    {
     "cell_type": "code",
     "collapsed": false,
     "input": [
      "data = arducopter.loadAdjTaggedMetadata(r'd:\\visualsfm\\arducopter\\2014-03-20 13-22-44_adj_tagged_images.txt');"
     ],
     "language": "python",
     "metadata": {},
     "outputs": [],
     "prompt_number": 6
    },
    {
     "cell_type": "code",
     "collapsed": false,
     "input": [
      "data = data[101:151]"
     ],
     "language": "python",
     "metadata": {},
     "outputs": [],
     "prompt_number": 7
    },
    {
     "cell_type": "code",
     "collapsed": false,
     "input": [
      "data[0]"
     ],
     "language": "python",
     "metadata": {},
     "outputs": [
      {
       "metadata": {},
       "output_type": "pyout",
       "prompt_number": 8,
       "text": [
        "1fps_image_0102.jpg@[-92.21546, 37.648544, 396.71]@[122.15, 7.85, 3.84]"
       ]
      }
     ],
     "prompt_number": 8
    },
    {
     "cell_type": "raw",
     "metadata": {},
     "source": [
      "img = voxel_globe.meta.models.Image.objects.get(originalImageUrl__endswith=data[3].filename)\n",
      "cam=img.camera\n",
      "voxel_globe.meta.tools.getHistory(1, True)[cam.objectId]"
     ]
    },
    {
     "cell_type": "raw",
     "metadata": {},
     "source": [
      "t = voxel_globe.meta.models.ServiceInstance.objects.get(id=3).finishTime\n",
      "sis = list(voxel_globe.meta.models.ServiceInstance.objects.filter(finishTime__lt=t).order_by('finishTime').values_list('id', flat=True))\n",
      "sis.append(3)\n",
      "\n",
      "voxel_globe.meta.tools.getHistory(2,True)[cam.objectId]"
     ]
    },
    {
     "cell_type": "raw",
     "metadata": {},
     "source": [
      "voxel_globe.meta.models.Camera.objects.filter(objectId=cam.objectId)"
     ]
    },
    {
     "cell_type": "raw",
     "metadata": {},
     "source": [
      "[k,t,o] = voxel_globe.meta.tools.getKto(img, history=voxel_globe.meta.tools.getHistory(1, True))\n",
      "o,t[0:3,3]"
     ]
    },
    {
     "cell_type": "raw",
     "metadata": {},
     "source": [
      "[k,t,o] = voxel_globe.meta.tools.getKto(img, history=voxel_globe.meta.tools.getHistory(3, True))\n",
      "o,t[0:3,3]"
     ]
    },
    {
     "cell_type": "code",
     "collapsed": false,
     "input": [
      "#visualsfm.writeGpsFile(data, r'd:\\visualsfm\\arducopter\\mission2.gps')\n",
      "#visualsfm.writeGcpFileEcef(data, r'd:\\visualsfm\\arducopter\\match.nvm.gcp')\n",
      "visualsfm.writeGcpFileEnu(data, r'd:\\visualsfm\\arducopter\\match.nvm.gcp', lat_origin=origin['lat'], lon_origin=origin['lon'], h_origin=origin['h'])"
     ],
     "language": "python",
     "metadata": {},
     "outputs": [],
     "prompt_number": 11
    },
    {
     "cell_type": "code",
     "collapsed": false,
     "input": [
      "visualsfm.runSparse(r'd:\\visualsfm\\arducopter\\match.nvm', r'd:\\visualsfm\\arducopter\\sparse.nvm', gcp=True, shared=True)"
     ],
     "language": "python",
     "metadata": {},
     "outputs": [],
     "prompt_number": 20
    },
    {
     "cell_type": "code",
     "collapsed": false,
     "input": [
      "cams = visualsfm.readNvm(r'd:\\visualsfm\\arducopter\\sparse.nvm')\n",
      "cams.sort(key=lambda x:x.name)"
     ],
     "language": "python",
     "metadata": {},
     "outputs": [],
     "prompt_number": 21
    },
    {
     "cell_type": "code",
     "collapsed": false,
     "input": [
      "x = 0;\n",
      "cams[x]"
     ],
     "language": "python",
     "metadata": {},
     "outputs": [
      {
       "metadata": {},
       "output_type": "pyout",
       "prompt_number": 22,
       "text": [
        "Filename: 1fps_image_0102.jpg\n",
        "FocalLength: 2501.634033\n",
        "R: [ 0.13610703  0.47897614 -0.82043709  0.28096214]\n",
        "T: [-23.35003205 -34.90154914  96.35791347]\n",
        "rd: [ 0.00576807  0.        ]"
       ]
      }
     ],
     "prompt_number": 22
    },
    {
     "cell_type": "code",
     "collapsed": false,
     "input": [
      "from PIL import Image\n",
      "img = Image.open(imgs[x])\n",
      "(width,height) = img.size;\n",
      "img.close();\n",
      "(k,r,t) = cams[x].krt(width, height)\n",
      "(k,r,t)"
     ],
     "language": "python",
     "metadata": {},
     "outputs": [
      {
       "metadata": {},
       "output_type": "pyout",
       "prompt_number": 23,
       "text": [
        "(array([[  2.50163403e+03,   0.00000000e+00,   2.04800000e+03],\n",
        "        [  0.00000000e+00,   2.50163403e+03,   1.08000000e+03],\n",
        "        [  0.00000000e+00,   0.00000000e+00,   1.00000000e+00]]),\n",
        " array([[-0.50411348, -0.86242141,  0.04581382],\n",
        "        [-0.70945773,  0.38328427, -0.59140756],\n",
        "        [ 0.49248283, -0.33063949, -0.8050703 ]]),\n",
        " array([[-46.28543352],\n",
        "        [ 53.79815254],\n",
        "        [ 77.53455387]]))"
       ]
      }
     ],
     "prompt_number": 23
    },
    {
     "cell_type": "code",
     "collapsed": false,
     "input": [
      "-r.transpose().dot(t)"
     ],
     "language": "python",
     "metadata": {},
     "outputs": [
      {
       "metadata": {},
       "output_type": "pyout",
       "prompt_number": 24,
       "text": [
        "array([[-23.35003205],\n",
        "       [-34.90154914],\n",
        "       [ 96.35791347]])"
       ]
      }
     ],
     "prompt_number": 24
    },
    {
     "cell_type": "code",
     "collapsed": false,
     "input": [
      "import voxel_globe.tools.enu as enu\n",
      "enu.enu2llh()"
     ],
     "language": "python",
     "metadata": {},
     "outputs": [],
     "prompt_number": 2
    },
    {
     "cell_type": "raw",
     "metadata": {},
     "source": [
      "#sanity check that r matrix is valid\n",
      "import numpy as np\n",
      "print np.linalg.norm(r), np.linalg.det(r)\n",
      "print r.transpose() - np.linalg.inv(r)\n",
      "print np.linalg.cond(r)"
     ]
    },
    {
     "cell_type": "code",
     "collapsed": false,
     "input": [
      "cams[x].to_text_file_format(origin, cams[x].name, width, height)"
     ],
     "language": "python",
     "metadata": {},
     "outputs": [
      {
       "metadata": {},
       "output_type": "pyout",
       "prompt_number": 13,
       "text": [
        "\"'1fps_image_0162.jpg', [-92.215197, 37.648858, 300], [[-0.23050236349781172, 0.9686383239036715, 0.092781775618968, 60.21023283888846], [0.7610395884188548, 0.2388717940455215, -0.603124374294999, 25.019167658463495], [-0.6063723322193904, -0.0684109894283062, -0.7922326244508348, 110.69041236495207], [0.0, 0.0, 0.0, 1.0]], [2485.1540527299999, 2485.1540527299999, 2048.0, 1080.0]\""
       ]
      }
     ],
     "prompt_number": 13
    },
    {
     "cell_type": "code",
     "collapsed": false,
     "input": [
      "with open(outputCameraFile, 'w') as fid:\n",
      "  for cam in cams:\n",
      "    print >>fid,cam.to_text_file_format(origin, cam.name, width, height)"
     ],
     "language": "python",
     "metadata": {},
     "outputs": [],
     "prompt_number": 14
    },
    {
     "cell_type": "raw",
     "metadata": {},
     "source": [
      "import numpy as np\n",
      "r_krt=np.array([[-0.892711, 0.447562, 0.0524946],[0.381813, 0.813105, -0.439406],[-0.239345, -0.37222, -0.896753]])\n",
      "t_world = cams[0].translation_xyz.copy()\n",
      "t_world.shape=(3,1)\n",
      "t_world"
     ]
    },
    {
     "cell_type": "code",
     "collapsed": false,
     "input": [
      "cams[0].name"
     ],
     "language": "python",
     "metadata": {},
     "outputs": [
      {
       "metadata": {},
       "output_type": "pyout",
       "prompt_number": 15,
       "text": [
        "'1fps_image_0162.jpg'"
       ]
      }
     ],
     "prompt_number": 15
    },
    {
     "cell_type": "code",
     "collapsed": false,
     "input": [
      "camDir = r'D:\\visualsfm\\arducopter\\cams_krt_geo';\n",
      "krts = numpy.zeros((7,3,len(cams)));\n",
      "for i in range(len(cams)):\n",
      "    filebase = os.path.splitext(cams[i].name)[0]\n",
      "    camera_filename = os.path.join(camDir, filebase+'_cam.txt')\n",
      "    with open(camera_filename, 'r') as fid:\n",
      "        krt = fid.readlines();\n",
      "    krt.pop(7);\n",
      "    krt.pop(3);\n",
      "    krt = map(lambda x: x.split(' '), krt)\n",
      "    krt = map(lambda x: map(float, x), krt)\n",
      "    krts[:,:,i] = krt\n",
      "    "
     ],
     "language": "python",
     "metadata": {},
     "outputs": [],
     "prompt_number": 16
    },
    {
     "cell_type": "code",
     "collapsed": false,
     "input": [
      "%pylab inline"
     ],
     "language": "python",
     "metadata": {},
     "outputs": [
      {
       "output_type": "stream",
       "stream": "stdout",
       "text": [
        "Populating the interactive namespace from numpy and matplotlib\n"
       ]
      }
     ],
     "prompt_number": 17
    },
    {
     "cell_type": "code",
     "collapsed": false,
     "input": [
      "vxl_translations = numpy.zeros((3,1,len(cams)))\n",
      "for x in range(len(cams)):\n",
      "    r = krts[3:6,:,x];\n",
      "    t = krts[6:,:,x].transpose();\n",
      "    vxl_translations[:,:,x] = -r.transpose().dot(t)\n",
      "d=1\n",
      "vxl_d = vxl_translations[d,0,:];\n",
      "sfm_d = map(lambda x:x.translation_xyz[d], cams)\n",
      "#import pylab\n",
      "pylab.plot(zip(vxl_d, sfm_d))\n",
      "#pylab.show()"
     ],
     "language": "python",
     "metadata": {},
     "outputs": [
      {
       "metadata": {},
       "output_type": "pyout",
       "prompt_number": 18,
       "text": [
        "[<matplotlib.lines.Line2D at 0xbe55390>,\n",
        " <matplotlib.lines.Line2D at 0xbe555c0>]"
       ]
      },
      {
       "metadata": {},
       "output_type": "display_data",
       "png": "[encoded data removed]",
       "text": [
        "<matplotlib.figure.Figure at 0x3185898>"
       ]
      }
     ],
     "prompt_number": 18
    },
    {
     "cell_type": "code",
     "collapsed": false,
     "input": [
      "pylab.plot(vxl_d-sfm_d)\n",
      "#pylab.show()"
     ],
     "language": "python",
     "metadata": {},
     "outputs": [
      {
       "metadata": {},
       "output_type": "pyout",
       "prompt_number": 19,
       "text": [
        "[<matplotlib.lines.Line2D at 0xc0f05f8>]"
       ]
      },
      {
       "metadata": {},
       "output_type": "display_data",
       "png": "[encoded data removed]",
       "text": [
        "<matplotlib.figure.Figure at 0xbcdecf8>"
       ]
      }
     ],
     "prompt_number": 19
    },
    {
     "cell_type": "code",
     "collapsed": false,
     "input": [
      "print vxl_d.max()\n",
      "print max(sfm_d)"
     ],
     "language": "python",
     "metadata": {},
     "outputs": [
      {
       "output_type": "stream",
       "stream": "stdout",
       "text": [
        "-58.3434333374\n",
        "-56.7258718529\n"
       ]
      }
     ],
     "prompt_number": 20
    },
    {
     "cell_type": "code",
     "collapsed": false,
     "input": [],
     "language": "python",
     "metadata": {},
     "outputs": [],
     "prompt_number": 20
    },
    {
     "cell_type": "code",
     "collapsed": false,
     "input": [],
     "language": "python",
     "metadata": {},
     "outputs": []
    }
   ],
   "metadata": {}
  }
 ]
}