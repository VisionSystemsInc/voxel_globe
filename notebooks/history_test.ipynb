{
 "metadata": {
  "name": "",
  "signature": "sha256:94911ee5973f8a8beadcde09a7f1d61501c1ebe462169222dc0e4ddf12b4f338"
 },
 "nbformat": 3,
 "nbformat_minor": 0,
 "worksheets": [
  {
   "cells": [
    {
     "cell_type": "code",
     "collapsed": false,
     "input": [
      "import voxel_globe.meta.models\n",
      "import voxel_globe.meta.tools\n",
      "import django\n",
      "django.setup()"
     ],
     "language": "python",
     "metadata": {},
     "outputs": []
    },
    {
     "cell_type": "code",
     "collapsed": false,
     "input": [
      "img1 = voxel_globe.meta.models.Image.objects.get(id=1)\n",
      "\n",
      "cam1 = img1.camera\n",
      "\n",
      "cs1 = cam1.coordinateSystem\n",
      "\n",
      "ct1 = cs1.coordinatetransform_to_set.all()[0]"
     ],
     "language": "python",
     "metadata": {},
     "outputs": []
    },
    {
     "cell_type": "code",
     "collapsed": false,
     "input": [
      "ct1"
     ],
     "language": "python",
     "metadata": {},
     "outputs": []
    },
    {
     "cell_type": "code",
     "collapsed": false,
     "input": [
      "blah_sub = voxel_globe.meta.models.CartesianTransform.objects.filter(objectId=ct1.objectId)\n",
      "blah_super = voxel_globe.meta.models.CoordinateTransform.objects.filter(objectId=ct1.objectId)"
     ],
     "language": "python",
     "metadata": {},
     "outputs": []
    },
    {
     "cell_type": "code",
     "collapsed": false,
     "input": [
      "len(blah_sub)"
     ],
     "language": "python",
     "metadata": {},
     "outputs": []
    },
    {
     "cell_type": "code",
     "collapsed": false,
     "input": [
      "blah_sub[1].newerVersion"
     ],
     "language": "python",
     "metadata": {},
     "outputs": []
    },
    {
     "cell_type": "code",
     "collapsed": false,
     "input": [
      "blah_sub[1].olderVersion.get()"
     ],
     "language": "python",
     "metadata": {},
     "outputs": []
    },
    {
     "cell_type": "raw",
     "metadata": {},
     "source": [
      "voxel_globe.meta.models.ServiceInstance.objects.all()"
     ]
    },
    {
     "cell_type": "code",
     "collapsed": false,
     "input": [
      "blah_super[1].history()"
     ],
     "language": "python",
     "metadata": {},
     "outputs": []
    },
    {
     "cell_type": "code",
     "collapsed": false,
     "input": [
      "hist  = voxel_globe.meta.tools.getHistory(4)"
     ],
     "language": "python",
     "metadata": {},
     "outputs": []
    },
    {
     "cell_type": "code",
     "collapsed": false,
     "input": [
      "blah_super[1].history(hist)"
     ],
     "language": "python",
     "metadata": {},
     "outputs": []
    },
    {
     "cell_type": "code",
     "collapsed": false,
     "input": [
      "hist['7ac5d479-a8c2-41c3-9c60-e970e88d7bca']"
     ],
     "language": "python",
     "metadata": {},
     "outputs": []
    },
    {
     "cell_type": "code",
     "collapsed": false,
     "input": [],
     "language": "python",
     "metadata": {},
     "outputs": []
    }
   ],
   "metadata": {}
  }
 ]
}