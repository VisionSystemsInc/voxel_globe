{
 "metadata": {
  "name": "",
  "signature": "sha256:f4f6a8ee9ba78425999530fc7d0abe67aa901d6b26407410871b04450fdfe3df"
 },
 "nbformat": 3,
 "nbformat_minor": 0,
 "worksheets": [
  {
   "cells": [
    {
     "cell_type": "code",
     "collapsed": false,
     "input": [
      "import voxel_globe.meta.models\n",
      "import django\n",
      "django.setup()"
     ],
     "language": "python",
     "metadata": {},
     "outputs": [],
     "prompt_number": 3
    },
    {
     "cell_type": "code",
     "collapsed": false,
     "input": [
      " img1 = voxel_globe.meta.models.Image.objects.all()[1]\n",
      "\n",
      " cam1 = img1.camera\n",
      "\n",
      " cs1 = cam1.coordinateSystem\n",
      "\n",
      " ct1 = cs1.coordinatetransform_to_set.all()[0]"
     ],
     "language": "python",
     "metadata": {},
     "outputs": [],
     "prompt_number": 4
    },
    {
     "cell_type": "code",
     "collapsed": false,
     "input": [
      "ct1"
     ],
     "language": "python",
     "metadata": {},
     "outputs": [
      {
       "metadata": {},
       "output_type": "pyout",
       "prompt_number": 5,
       "text": [
        "id: 521\n",
        "service: serviceinstance - tasks.add_arducopter_images [1]\n",
        "name: 1fps_image_0002 1_0\n",
        "objectId: c51f57b3-5fdf-4f3f-92a5-3e372d6f815e\n",
        "newerVersion: None\n",
        "deleted: False\n",
        "coordinateSystem_from: coordinatesystem - 1fps_image_0002 0[1041]\n",
        "coordinateSystem_to: coordinatesystem - 1fps_image_0002 1[1042]\n",
        "transformType: "
       ]
      }
     ],
     "prompt_number": 5
    },
    {
     "cell_type": "code",
     "collapsed": false,
     "input": [
      "blah_sub = voxel_globe.meta.models.CartesianTransform.objects.filter(objectId=ct1.objectId)\n",
      "blah_super = voxel_globe.meta.models.CoordinateTransform.objects.filter(objectId=ct1.objectId)"
     ],
     "language": "python",
     "metadata": {},
     "outputs": [],
     "prompt_number": 7
    },
    {
     "cell_type": "code",
     "collapsed": false,
     "input": [
      "blah_sub"
     ],
     "language": "python",
     "metadata": {},
     "outputs": [
      {
       "metadata": {},
       "output_type": "pyout",
       "prompt_number": 8,
       "text": [
        "[id: 2\n",
        "service: serviceinstance - tasks.add_arducopter_images [1]\n",
        "name: 1fps_image_0002 1_0\n",
        "objectId: c51f57b3-5fdf-4f3f-92a5-3e372d6f815e\n",
        "newerVersion: coordinatetransform - 1fps_image_0002 1_0[521]\n",
        "deleted: False\n",
        "coordinateSystem_from: coordinatesystem - 1fps_image_0002 0[3]\n",
        "coordinateSystem_to: coordinatesystem - 1fps_image_0002 1[4]\n",
        "transformType: \n",
        "coordinatetransform_ptr: coordinatetransform - 1fps_image_0002 1_0[2]\n",
        "rodriguezX: POINT Z (-0.1779770000000000 -0.9837210000000000 0.0248403000000000)\n",
        "rodriguezY: POINT Z (-0.7917530000000000 0.1281650000000000 -0.5972440000000000)\n",
        "rodriguezZ: POINT Z (0.5843380000000000 -0.1259630000000000 -0.8016750000000000)\n",
        "translation: POINT Z (-65.2104999999999960 -26.1228000000000020 30.5885000000000000)\n",
        ", id: 521\n",
        "service: serviceinstance - tasks.add_arducopter_images [1]\n",
        "name: 1fps_image_0002 1_0\n",
        "objectId: c51f57b3-5fdf-4f3f-92a5-3e372d6f815e\n",
        "newerVersion: None\n",
        "deleted: False\n",
        "coordinateSystem_from: coordinatesystem - 1fps_image_0002 0[1041]\n",
        "coordinateSystem_to: coordinatesystem - 1fps_image_0002 1[1042]\n",
        "transformType: \n",
        "coordinatetransform_ptr: coordinatetransform - 1fps_image_0002 1_0[521]\n",
        "rodriguezX: POINT Z (-0.1445282700209450 -0.9894182088459244 0.0127744733306470)\n",
        "rodriguezY: POINT Z (-0.7977446960910278 0.1088723728510501 -0.5930853279996189)\n",
        "rodriguezZ: POINT Z (0.5854186356987505 -0.0959083647754697 -0.8050382640239586)\n",
        "translation: POINT Z (-65.7021136954093660 -7.5776449568979771 56.5753945344166600)\n",
        "]"
       ]
      }
     ],
     "prompt_number": 8
    },
    {
     "cell_type": "code",
     "collapsed": false,
     "input": [
      "blah_super"
     ],
     "language": "python",
     "metadata": {},
     "outputs": [
      {
       "metadata": {},
       "output_type": "pyout",
       "prompt_number": 9,
       "text": [
        "[id: 2\n",
        "service: serviceinstance - tasks.add_arducopter_images [1]\n",
        "name: 1fps_image_0002 1_0\n",
        "objectId: c51f57b3-5fdf-4f3f-92a5-3e372d6f815e\n",
        "newerVersion: coordinatetransform - 1fps_image_0002 1_0[521]\n",
        "deleted: False\n",
        "coordinateSystem_from: coordinatesystem - 1fps_image_0002 0[3]\n",
        "coordinateSystem_to: coordinatesystem - 1fps_image_0002 1[4]\n",
        "transformType: \n",
        ", id: 521\n",
        "service: serviceinstance - tasks.add_arducopter_images [1]\n",
        "name: 1fps_image_0002 1_0\n",
        "objectId: c51f57b3-5fdf-4f3f-92a5-3e372d6f815e\n",
        "newerVersion: None\n",
        "deleted: False\n",
        "coordinateSystem_from: coordinatesystem - 1fps_image_0002 0[1041]\n",
        "coordinateSystem_to: coordinatesystem - 1fps_image_0002 1[1042]\n",
        "transformType: \n",
        "]"
       ]
      }
     ],
     "prompt_number": 9
    },
    {
     "cell_type": "code",
     "collapsed": false,
     "input": [
      "blah_sub[1].history_set.all()"
     ],
     "language": "python",
     "metadata": {},
     "outputs": [
      {
       "metadata": {},
       "output_type": "pyout",
       "prompt_number": 10,
       "text": [
        "[id: 2\n",
        "service: serviceinstance - tasks.add_arducopter_images [1]\n",
        "name: 1fps_image_0002 1_0\n",
        "objectId: c51f57b3-5fdf-4f3f-92a5-3e372d6f815e\n",
        "newerVersion: cartesiantransform - 1fps_image_0002 1_0[521]\n",
        "deleted: False\n",
        "coordinateSystem_from: coordinatesystem - 1fps_image_0002 0[3]\n",
        "coordinateSystem_to: coordinatesystem - 1fps_image_0002 1[4]\n",
        "transformType: \n",
        "]"
       ]
      }
     ],
     "prompt_number": 10
    },
    {
     "cell_type": "code",
     "collapsed": false,
     "input": [
      "blah_super[1].history(0)"
     ],
     "language": "python",
     "metadata": {},
     "outputs": [
      {
       "metadata": {},
       "output_type": "pyout",
       "prompt_number": 11,
       "text": [
        "id: 521\n",
        "service: serviceinstance - tasks.add_arducopter_images [1]\n",
        "name: 1fps_image_0002 1_0\n",
        "objectId: c51f57b3-5fdf-4f3f-92a5-3e372d6f815e\n",
        "newerVersion: None\n",
        "deleted: False\n",
        "coordinateSystem_from: coordinatesystem - 1fps_image_0002 0[1041]\n",
        "coordinateSystem_to: coordinatesystem - 1fps_image_0002 1[1042]\n",
        "transformType: \n",
        "coordinatetransform_ptr: coordinatetransform - 1fps_image_0002 1_0[521]\n",
        "rodriguezX: POINT Z (-0.1445282700209450 -0.9894182088459244 0.0127744733306470)\n",
        "rodriguezY: POINT Z (-0.7977446960910278 0.1088723728510501 -0.5930853279996189)\n",
        "rodriguezZ: POINT Z (0.5854186356987505 -0.0959083647754697 -0.8050382640239586)\n",
        "translation: POINT Z (-65.7021136954093660 -7.5776449568979771 56.5753945344166600)"
       ]
      }
     ],
     "prompt_number": 11
    },
    {
     "cell_type": "code",
     "collapsed": false,
     "input": [
      "blah_sub[1].history(0)"
     ],
     "language": "python",
     "metadata": {},
     "outputs": [
      {
       "metadata": {},
       "output_type": "pyout",
       "prompt_number": 12,
       "text": [
        "id: 521\n",
        "service: serviceinstance - tasks.add_arducopter_images [1]\n",
        "name: 1fps_image_0002 1_0\n",
        "objectId: c51f57b3-5fdf-4f3f-92a5-3e372d6f815e\n",
        "newerVersion: None\n",
        "deleted: False\n",
        "coordinateSystem_from: coordinatesystem - 1fps_image_0002 0[1041]\n",
        "coordinateSystem_to: coordinatesystem - 1fps_image_0002 1[1042]\n",
        "transformType: \n",
        "coordinatetransform_ptr: coordinatetransform - 1fps_image_0002 1_0[521]\n",
        "rodriguezX: POINT Z (-0.1445282700209450 -0.9894182088459244 0.0127744733306470)\n",
        "rodriguezY: POINT Z (-0.7977446960910278 0.1088723728510501 -0.5930853279996189)\n",
        "rodriguezZ: POINT Z (0.5854186356987505 -0.0959083647754697 -0.8050382640239586)\n",
        "translation: POINT Z (-65.7021136954093660 -7.5776449568979771 56.5753945344166600)"
       ]
      }
     ],
     "prompt_number": 12
    },
    {
     "cell_type": "code",
     "collapsed": false,
     "input": [],
     "language": "python",
     "metadata": {},
     "outputs": []
    }
   ],
   "metadata": {}
  }
 ]
}