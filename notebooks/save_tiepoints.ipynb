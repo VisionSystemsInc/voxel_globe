{
 "metadata": {
  "name": "",
  "signature": "sha256:506aea71205361e9e51070f4070db2d0b9bce13f32832c921922793822a77986"
 },
 "nbformat": 3,
 "nbformat_minor": 0,
 "worksheets": [
  {
   "cells": [
    {
     "cell_type": "code",
     "collapsed": false,
     "input": [
      "import django; django.setup(); del django\n",
      "import voxel_globe.meta.models\n",
      "from os import environ as env\n",
      "from os.path import join as path_join"
     ],
     "language": "python",
     "metadata": {},
     "outputs": [],
     "prompt_number": 2
    },
    {
     "cell_type": "code",
     "collapsed": false,
     "input": [
      "newestTiePoints = voxel_globe.meta.models.TiePoint.objects.filter(newerVersion=None)"
     ],
     "language": "python",
     "metadata": {},
     "outputs": [],
     "prompt_number": 3
    },
    {
     "cell_type": "code",
     "collapsed": false,
     "input": [
      "newestTiePoints[0]"
     ],
     "language": "python",
     "metadata": {},
     "outputs": [
      {
       "metadata": {},
       "output_type": "pyout",
       "prompt_number": 4,
       "text": [
        "id: 1\n",
        "service: serviceinstance - add_purdue_data.add_sample_tie_point [2]\n",
        "name: NA-08 Frame:032\n",
        "objectId: 354945e4-9c2a-47d9-870e-7ec0fa95ba48\n",
        "newerVersion: None\n",
        "deleted: False\n",
        "point: POINT (1127.0000000000000000 89.0000000000000000)\n",
        "image: image - Arducopter Mission 2 Frame:0032[32]\n",
        "geoPoint: controlpoint - NA-08[4]"
       ]
      }
     ],
     "prompt_number": 4
    },
    {
     "cell_type": "code",
     "collapsed": false,
     "input": [
      "with open(path_join(env['VIP_DATABASE_DIR'], 'latest_tiepoints.txt'), 'w') as fid:\n",
      "  for tp in newestTiePoints:\n",
      "    print >>fid, '%s\\x00%s\\x00%s\\x00%s' % (tp.image.name, tp.geoPoint.name, tp.point[0], tp.point[1])"
     ],
     "language": "python",
     "metadata": {},
     "outputs": [],
     "prompt_number": 5
    },
    {
     "cell_type": "code",
     "collapsed": false,
     "input": [
      "with open(path_join(env['VIP_DATABASE_DIR'], 'latest_tiepoints.txt'), 'r') as fid:\n",
      "  lines = fid.readlines();\n",
      "lines = map(lambda x: x.split('\\x00'), lines)\n"
     ],
     "language": "python",
     "metadata": {},
     "outputs": [],
     "prompt_number": 6
    },
    {
     "cell_type": "code",
     "collapsed": false,
     "input": [
      "lines[0]"
     ],
     "language": "python",
     "metadata": {},
     "outputs": [
      {
       "metadata": {},
       "output_type": "pyout",
       "prompt_number": 7,
       "text": [
        "['Arducopter Mission 2 Frame:0032', 'NA-08', '1127.0', '89.0\\n']"
       ]
      }
     ],
     "prompt_number": 7
    },
    {
     "cell_type": "code",
     "collapsed": false,
     "input": [
      "for tp in lines:\n",
      "  img = voxel_globe.meta.models.Image.objects.get(name=tp[0], newerVersion=None)\n",
      "  cp = voxel_globe.meta.models.ControlPoint.objects.get(name=tp[1], newerVersion=None)\n",
      "  TP = voxel_globe.meta.models.TiePoint.objects.get(geoPoint=cp, image=img, newerVersion=None)\n",
      "  print 'POINT(%s %s)' % (tp[2], tp[3].strip())  \n",
      "  TP.point = 'POINT(%s %s)' % (tp[2], tp[3].strip())\n",
      "  TP.update()\n",
      "\n"
     ],
     "language": "python",
     "metadata": {},
     "outputs": [
      {
       "output_type": "stream",
       "stream": "stdout",
       "text": [
        "POINT(1127.0 89.0)\n"
       ]
      }
     ],
     "prompt_number": 9
    },
    {
     "cell_type": "code",
     "collapsed": false,
     "input": [
      "TP.point"
     ],
     "language": "python",
     "metadata": {},
     "outputs": [
      {
       "metadata": {},
       "output_type": "pyout",
       "prompt_number": 10,
       "text": [
        "<Point object at 0x526d510L>"
       ]
      }
     ],
     "prompt_number": 10
    },
    {
     "cell_type": "code",
     "collapsed": false,
     "input": [],
     "language": "python",
     "metadata": {},
     "outputs": []
    }
   ],
   "metadata": {}
  }
 ]
}