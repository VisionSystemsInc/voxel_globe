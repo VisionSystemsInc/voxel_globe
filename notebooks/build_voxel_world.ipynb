{
 "metadata": {
  "name": "",
  "signature": "sha256:61111df747bdd0ce5891dd272acb8bbab5290f3526404ad65024a9528d215f1b"
 },
 "nbformat": 3,
 "nbformat_minor": 0,
 "worksheets": [
  {
   "cells": [
    {
     "cell_type": "code",
     "collapsed": false,
     "input": [
      "import django\n",
      "django.setup()\n",
      "import voxel_globe.build_voxel_world.tasks as tasks\n",
      "import voxel_globe.common_tasks\n",
      "import voxel_globe.meta.models as models"
     ],
     "language": "python",
     "metadata": {},
     "outputs": [],
     "prompt_number": 1
    },
    {
     "cell_type": "code",
     "collapsed": false,
     "input": [
      "'''t = tasks.runBuildVoxelModel.apply(args=(57, 78, {\"lat1\": 37.647978, \"lat2\": 37.648663, \n",
      "                                                   \"lon1\": -92.215533, \"lon2\": -92.214523, \n",
      "                                                   \"vox\": 1/8.0, \n",
      "                                                   \"alt2\": 340, \"alt1\": 300}, \n",
      "                             True, None))'''"
     ],
     "language": "python",
     "metadata": {},
     "outputs": [
      {
       "metadata": {},
       "output_type": "pyout",
       "prompt_number": 2,
       "text": [
        "'t = tasks.runBuildVoxelModel.apply(args=(57, 78, {\"lat1\": 37.647978, \"lat2\": 37.648663, \\n                                                   \"lon1\": -92.215533, \"lon2\": -92.214523, \\n                                                   \"vox\": 1/8.0, \\n                                                   \"alt2\": 340, \"alt1\": 300}, \\n                             True, None))'"
       ]
      }
     ],
     "prompt_number": 2
    },
    {
     "cell_type": "code",
     "collapsed": false,
     "input": [
      "import boxm2_scene_adaptor\n",
      "scene = boxm2_scene_adaptor.boxm2_scene_adaptor(r'd:\\vip\\tmp\\scene.xml', 'gpu1')\n",
      "tasks.renderFlyThrough(scene,\n",
      "                       r'd:\\vip\\tmp', 512,  512)"
     ],
     "language": "python",
     "metadata": {},
     "outputs": [],
     "prompt_number": 3
    },
    {
     "cell_type": "raw",
     "metadata": {},
     "source": [
      "import boxm2_register\n",
      "import boxm2_scene_adaptor\n",
      "\n",
      "import vil_adaptor\n",
      "import math\n",
      "\n",
      "import numpy as np\n",
      "\n",
      "def write_to_file2(K,R,T,filename):\n",
      "  f = open(filename,'w');\n",
      "  print >>f, \"%f %f %f\\n%f %f %f\\n%f %f %f\\n\" % (K[0,0], K[0,1], K[0,2], K[1,0], K[1,1], K[1,2], K[2,0], K[2,1], K[2,2]);\n",
      "  print >>f, \"%f %f %f\\n%f %f %f\\n%f %f %f\\n\" % (R[0,0], R[0,1], R[0,2], R[1,0], R[1,1], R[1,2], R[2,0], R[2,1], R[2,2]);\n",
      "  #print T;\n",
      "  print >>f, \"%f %f %f\" % (T[0], T[1], T[2]);\n",
      "  f.close();\n",
      "\n",
      "\n",
      "# parameters\n",
      "ni = 1024\n",
      "nj = 1024\n",
      "\n",
      "scene = boxm2_scene_adaptor.boxm2_scene_adaptor(\"D:/vip/tmp/scene.xml\",  \"gpu1\");\n",
      "\n",
      "k = np.array([[1468.6,0,640],[0,1468.6,360],[0,0,1]])\n",
      "r = np.array([[0,1,0],[math.sqrt(2)/2, 0, -math.sqrt(2)/2],[-math.sqrt(2)/2, 0, -math.sqrt(2)/2]])\n",
      "t = np.array([-450, -282.843, 853.553])\n",
      "\n",
      "write_to_file2(k, r, t, 'd:/vip/tmp/blah.krt');\n",
      "\n",
      "#pcam = boxm2_scene_adaptor.load_perspective_camera('d:/vip/tmp/blah.krt');\n",
      "pcam = boxm2_scene_adaptor.load_perspective_camera('d:/vip/tmp/frame_00001.krt');\n",
      "\n",
      "#cam = vpgl_adaptor.persp2gen(pcam, ni, nj);\n",
      "#(img, vis_img) = scene.render_vis(cam, ni, nj);\n",
      "img = scene.render(pcam, ni, nj);\n",
      "vil_adaptor.save_image(img,'d:/vip/tmp/blah.tif');\n",
      "#vil_adaptor.save_image(vis_img,'d:/vip/tmp/blah2.tif');\n",
      "\n",
      "\n"
     ]
    },
    {
     "cell_type": "code",
     "collapsed": false,
     "input": [],
     "language": "python",
     "metadata": {},
     "outputs": [],
     "prompt_number": 3
    },
    {
     "cell_type": "code",
     "collapsed": false,
     "input": [],
     "language": "python",
     "metadata": {},
     "outputs": [],
     "prompt_number": 3
    }
   ],
   "metadata": {}
  }
 ]
}