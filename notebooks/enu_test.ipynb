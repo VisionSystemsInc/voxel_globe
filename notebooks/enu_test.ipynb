{
 "metadata": {
  "name": "",
  "signature": "sha256:4b00b608a3e0a75bf3600e54208d30a6a8f0100f78a70c70fcda5514daa2af7f"
 },
 "nbformat": 3,
 "nbformat_minor": 0,
 "worksheets": [
  {
   "cells": [
    {
     "cell_type": "code",
     "collapsed": false,
     "input": [
      "import vip.tools.enu as enu\n",
      "import numpy as np"
     ],
     "language": "python",
     "metadata": {},
     "outputs": [],
     "prompt_number": 1
    },
    {
     "cell_type": "code",
     "collapsed": false,
     "input": [
      "llh1 = [40,-84,0]\n",
      "offset = np.array([0,0,1000])\n",
      "xyz1 = enu.llh2xyz(*llh1)\n",
      "print xyz1"
     ],
     "language": "python",
     "metadata": {},
     "outputs": [
      {
       "output_type": "stream",
       "stream": "stdout",
       "text": [
        "(511427.20665356732, -4865904.8359070495, 4077985.5722003756)\n"
       ]
      }
     ],
     "prompt_number": 2
    },
    {
     "cell_type": "code",
     "collapsed": false,
     "input": [
      "xyz2 =offset+xyz1\n",
      "print xyz2"
     ],
     "language": "python",
     "metadata": {},
     "outputs": [
      {
       "output_type": "stream",
       "stream": "stdout",
       "text": [
        "[  511427.20665357 -4865904.83590705  4078985.57220038]\n"
       ]
      }
     ],
     "prompt_number": 3
    },
    {
     "cell_type": "code",
     "collapsed": false,
     "input": [
      "llh2 = enu.xyz2llh(*xyz2)\n",
      "print llh2"
     ],
     "language": "python",
     "metadata": {},
     "outputs": [
      {
       "output_type": "stream",
       "stream": "stdout",
       "text": [
        "(40.006898424808391, -84.0, 643.59808226989719)\n"
       ]
      }
     ],
     "prompt_number": 4
    },
    {
     "cell_type": "code",
     "collapsed": false,
     "input": [],
     "language": "python",
     "metadata": {},
     "outputs": []
    }
   ],
   "metadata": {}
  }
 ]
}