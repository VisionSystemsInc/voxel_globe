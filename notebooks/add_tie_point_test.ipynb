{
 "metadata": {
  "name": "",
  "signature": "sha256:24c8cf5b95ddefe40c3713be599bb34550a287deb965136bd3ed377bd2a73f16"
 },
 "nbformat": 3,
 "nbformat_minor": 0,
 "worksheets": [
  {
   "cells": [
    {
     "cell_type": "code",
     "collapsed": false,
     "input": [
      "''' Test program to load in a xml file from the vxl correspondance gui '''\n",
      "#import vip.tiepoint_app.tasks as tiepoint_tasks\n",
      "import vip.angelfire.tmp as af_tasks\n",
      "import os\n",
      "from os import environ as env\n",
      "import vip.tools.xml_dict"
     ],
     "language": "python",
     "metadata": {},
     "outputs": []
    },
    {
     "cell_type": "code",
     "collapsed": false,
     "input": [
      "import django; django.setup();\n",
      "\n",
      "x = vip.tools.xml_dict.load_xml(os.path.join(env['VIP_IMAGE_SERVER_ROOT'], 'Purdue_Sample9_all_meta.xml'))\n",
      "x['Correspondences']['Correspondence'][0]['CE'].find_at(fr__is='0')\n",
      "t=af_tasks.add_sample_tie_point.apply(args=(os.path.join(env['VIP_IMAGE_SERVER_ROOT'], 'Purdue_Sample9_all_meta.xml'),\n",
      "                                         os.path.join(env['VIP_IMAGE_SERVER_ROOT'], 'survey_pts_in_lvcs_selected.txt'),\n",
      "                                         0, \n",
      "                                         range(10)));\n",
      "if t.failed():\n",
      "    print t.traceback;\n",
      "    raise t.result;\n",
      "else:\n",
      "     print t.result   "
     ],
     "language": "python",
     "metadata": {},
     "outputs": []
    },
    {
     "cell_type": "code",
     "collapsed": false,
     "input": [],
     "language": "python",
     "metadata": {},
     "outputs": []
    }
   ],
   "metadata": {}
  }
 ]
}