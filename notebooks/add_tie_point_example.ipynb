{
 "metadata": {
  "name": "",
  "signature": "sha256:539956af0e330d4cd243a4c636894e1da0ca78e17daa45c069e3559e100cacb6"
 },
 "nbformat": 3,
 "nbformat_minor": 0,
 "worksheets": [
  {
   "cells": [
    {
     "cell_type": "code",
     "collapsed": false,
     "input": [
      "import voxel_globe.tiepoint.tasks as tasks\n",
      "from django.contrib.gis.geos import *"
     ],
     "language": "python",
     "metadata": {},
     "outputs": []
    },
    {
     "cell_type": "code",
     "collapsed": false,
     "input": [
      "Point(1,2).geojson"
     ],
     "language": "python",
     "metadata": {},
     "outputs": []
    },
    {
     "cell_type": "code",
     "collapsed": false,
     "input": [
      "t = tasks.addTiePoint.apply_async(kwargs={'point':'POINT(29 31)', 'geoPoint_id':1, 'image_id':5, 'name':\"Hiya\"})\n",
      "t.wait()\n",
      "print t.status, t.result"
     ],
     "language": "python",
     "metadata": {},
     "outputs": []
    },
    {
     "cell_type": "code",
     "collapsed": false,
     "input": [
      "''' This won't work until I properly embed celery into Django. Hopefully... \n",
      "    It has something to do with the same object being in memory twice, so they aren't instances\n",
      "    of each other, but I hope when I integrat django, there be only one copy in shared memory, \n",
      "    and inheritance will be restored.'''\n",
      "\n",
      "#import meta.models\n",
      "##reload(meta.models)\n",
      "#blah = meta.models.TiePoint.taskAddSync(kwargs={'point':'POINT(29 31)', 'geoPoint_id':1, 'image_id':5, 'name':\"Hiya\"})\n",
      "#blah.wait()\n",
      "#blah.result\n",
      "None"
     ],
     "language": "python",
     "metadata": {},
     "outputs": []
    },
    {
     "cell_type": "code",
     "collapsed": false,
     "input": [
      "import django;\n",
      "django.setup();\n",
      "import voxel_globe.meta.models\n",
      "tps = voxel_globe.meta.models.TiePoint.objects.filter(name='Hiya')\n",
      "print tps"
     ],
     "language": "python",
     "metadata": {},
     "outputs": []
    },
    {
     "cell_type": "code",
     "collapsed": false,
     "input": [],
     "language": "python",
     "metadata": {},
     "outputs": []
    }
   ],
   "metadata": {}
  }
 ]
}