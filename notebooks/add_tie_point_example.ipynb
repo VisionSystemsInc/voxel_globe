{
 "metadata": {
  "name": "",
  "signature": "sha256:111a6693883575fda64f0f5837dd4c503a38745a616b736257c75728540bba0b"
 },
 "nbformat": 3,
 "nbformat_minor": 0,
 "worksheets": [
  {
   "cells": [
    {
     "cell_type": "code",
     "collapsed": false,
     "input": [
      "import voxel_globe.tiepoint.tasks as tasks\n",
      "from django.contrib.gis.geos import *"
     ],
     "language": "python",
     "metadata": {},
     "outputs": [],
     "prompt_number": 1
    },
    {
     "cell_type": "code",
     "collapsed": false,
     "input": [
      "Point(1,2).geojson"
     ],
     "language": "python",
     "metadata": {},
     "outputs": [
      {
       "metadata": {},
       "output_type": "pyout",
       "prompt_number": 2,
       "text": [
        "u'{ \"type\": \"Point\", \"coordinates\": [ 1.0, 2.0 ] }'"
       ]
      }
     ],
     "prompt_number": 2
    },
    {
     "cell_type": "code",
     "collapsed": false,
     "input": [
      "t = tasks.addTiePoint.apply_async(kwargs={'point':'POINT(29 31)', 'geoPoint_id':1, 'image_id':5, 'name':\"Hiya\"})\n",
      "t.wait()\n",
      "print t.status, t.result"
     ],
     "language": "python",
     "metadata": {},
     "outputs": []
    },
    {
     "cell_type": "code",
     "collapsed": false,
     "input": [
      "''' This won't work until I properly embed celery into Django. Hopefully... \n",
      "    It has something to do with the same object being in memory twice, so they aren't instances\n",
      "    of each other, but I hope when I integrat django, there be only one copy in shared memory, \n",
      "    and inheritance will be restored.'''\n",
      "\n",
      "#import meta.models\n",
      "##reload(meta.models)\n",
      "#blah = meta.models.TiePoint.taskAddSync(kwargs={'point':'POINT(29 31)', 'geoPoint_id':1, 'image_id':5, 'name':\"Hiya\"})\n",
      "#blah.wait()\n",
      "#blah.result\n",
      "None"
     ],
     "language": "python",
     "metadata": {},
     "outputs": [],
     "prompt_number": 5
    },
    {
     "cell_type": "code",
     "collapsed": false,
     "input": [
      "import django;\n",
      "django.setup();\n",
      "import voxel_globe.meta.models\n",
      "tps = voxel_globe.meta.models.TiePoint.objects.filter(name='Hiya')\n",
      "print tps"
     ],
     "language": "python",
     "metadata": {},
     "outputs": [
      {
       "output_type": "stream",
       "stream": "stdout",
       "text": [
        "[id: 1218\n",
        "service: serviceinstance - vip.tiepoint_app.tasks.addTiePoint [3]\n",
        "name: Hiya\n",
        "objectId: 54592b7d-08da-4ac9-aa48-f2609df45c29\n",
        "newerVersion: None\n",
        "deleted: False\n",
        "point: POINT (29.0000000000000000 31.0000000000000000)\n",
        "image: image - Arducopter Mission 2 Frame:0005[5]\n",
        "geoPoint: controlpoint - NA-03[1]\n",
        ", id: 1219\n",
        "service: serviceinstance - vip.tiepoint_app.tasks.addTiePoint [4]\n",
        "name: Hiya\n",
        "objectId: 358a976b-1a6e-44a5-a75b-361d04c77906\n",
        "newerVersion: None\n",
        "deleted: False\n",
        "point: POINT (29.0000000000000000 31.0000000000000000)\n",
        "image: image - Arducopter Mission 2 Frame:0005[5]\n",
        "geoPoint: controlpoint - NA-03[1]\n",
        ", id: 1224\n",
        "service: serviceinstance - vip.tiepoint_app.tasks.addTiePoint [11]\n",
        "name: Hiya\n",
        "objectId: 1f9b9d1a-7055-44cc-8b66-ae1018feaf3a\n",
        "newerVersion: None\n",
        "deleted: False\n",
        "point: POINT (29.0000000000000000 31.0000000000000000)\n",
        "image: image - Arducopter Mission 2 Frame:0005[5]\n",
        "geoPoint: controlpoint - NA-03[1]\n",
        ", id: 1225\n",
        "service: serviceinstance - vip.tiepoint_app.tasks.addTiePoint [12]\n",
        "name: Hiya\n",
        "objectId: 4e89f6cf-2303-4c4e-b082-f3a0191bb5a7\n",
        "newerVersion: None\n",
        "deleted: False\n",
        "point: POINT (29.0000000000000000 31.0000000000000000)\n",
        "image: image - Arducopter Mission 2 Frame:0005[5]\n",
        "geoPoint: controlpoint - NA-03[1]\n",
        ", id: 1226\n",
        "service: serviceinstance - vip.tiepoint_app.tasks.addTiePoint [13]\n",
        "name: Hiya\n",
        "objectId: 8a2d7b4c-2df2-4abe-9703-ed5ef1461334\n",
        "newerVersion: None\n",
        "deleted: False\n",
        "point: POINT (29.0000000000000000 31.0000000000000000)\n",
        "image: image - Arducopter Mission 2 Frame:0005[5]\n",
        "geoPoint: controlpoint - NA-03[1]\n",
        ", id: 1227\n",
        "service: serviceinstance - vip.tiepoint_app.tasks.addTiePoint [14]\n",
        "name: Hiya\n",
        "objectId: 23b3c93d-6365-414b-af89-4817cbf00144\n",
        "newerVersion: None\n",
        "deleted: False\n",
        "point: POINT (29.0000000000000000 31.0000000000000000)\n",
        "image: image - Arducopter Mission 2 Frame:0005[5]\n",
        "geoPoint: controlpoint - NA-03[1]\n",
        ", id: 1228\n",
        "service: serviceinstance - vip.tiepoint_app.tasks.addTiePoint [15]\n",
        "name: Hiya\n",
        "objectId: 18af957f-5d32-4c9e-85a2-0bdca0607b2b\n",
        "newerVersion: None\n",
        "deleted: False\n",
        "point: POINT (29.0000000000000000 31.0000000000000000)\n",
        "image: image - Arducopter Mission 2 Frame:0005[5]\n",
        "geoPoint: controlpoint - NA-03[1]\n",
        "]\n"
       ]
      }
     ],
     "prompt_number": 6
    },
    {
     "cell_type": "code",
     "collapsed": false,
     "input": [],
     "language": "python",
     "metadata": {},
     "outputs": []
    }
   ],
   "metadata": {}
  }
 ]
}