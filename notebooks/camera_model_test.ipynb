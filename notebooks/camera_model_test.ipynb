{
 "metadata": {
  "name": "",
  "signature": "sha256:705a83167109354951f1c4e7c77d03fe528e7f56a51fac0a96525d4009ff2a7e"
 },
 "nbformat": 3,
 "nbformat_minor": 0,
 "worksheets": [
  {
   "cells": [
    {
     "cell_type": "code",
     "collapsed": false,
     "input": [
      "import voxel_globe.meta.models\n",
      "import django\n",
      "django.setup()"
     ],
     "language": "python",
     "metadata": {},
     "outputs": [],
     "prompt_number": 4
    },
    {
     "cell_type": "code",
     "collapsed": false,
     "input": [
      "cs1 = voxel_globe.meta.models.CoordinateSystem.objects.get(id=244)"
     ],
     "language": "python",
     "metadata": {},
     "outputs": [],
     "prompt_number": 5
    },
    {
     "cell_type": "code",
     "collapsed": false,
     "input": [
      "cs1"
     ],
     "language": "python",
     "metadata": {},
     "outputs": [
      {
       "metadata": {},
       "output_type": "pyout",
       "prompt_number": 6,
       "text": [
        "id: 244\n",
        "service: serviceinstance - tasks.add_arducopter_images [1]\n",
        "name: 1fps_image_0122 1\n",
        "objectId: dd303925-da60-4f02-812f-103071fea6a7\n",
        "newerVersion: coordinatesystem - 1fps_image_0122 1[1282]\n",
        "deleted: False"
       ]
      }
     ],
     "prompt_number": 6
    },
    {
     "cell_type": "code",
     "collapsed": false,
     "input": [
      "cs1.coordinatetransform_to_set.all()"
     ],
     "language": "python",
     "metadata": {},
     "outputs": [
      {
       "metadata": {},
       "output_type": "pyout",
       "prompt_number": 7,
       "text": [
        "[id: 122\n",
        "service: serviceinstance - tasks.add_arducopter_images [1]\n",
        "name: 1fps_image_0122 1_0\n",
        "objectId: 5631d9bb-7c27-4024-ad65-439af33ee627\n",
        "newerVersion: coordinatetransform - 1fps_image_0122 1_0[641]\n",
        "deleted: False\n",
        "coordinateSystem_from: coordinatesystem - 1fps_image_0122 0[243]\n",
        "coordinateSystem_to: coordinatesystem - 1fps_image_0122 1[244]\n",
        "transformType: \n",
        "]"
       ]
      }
     ],
     "prompt_number": 7
    },
    {
     "cell_type": "code",
     "collapsed": false,
     "input": [],
     "language": "python",
     "metadata": {},
     "outputs": []
    }
   ],
   "metadata": {}
  }
 ]
}