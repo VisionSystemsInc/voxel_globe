{
 "metadata": {
  "name": "",
  "signature": "sha256:78b30d380912cbdf4c1d623f6c80e325183a37ce9d400f3ee7afbc131aafecf1"
 },
 "nbformat": 3,
 "nbformat_minor": 0,
 "worksheets": [
  {
   "cells": [
    {
     "cell_type": "code",
     "collapsed": false,
     "input": [
      "from boxm2_scene_adaptor import boxm2_scene_adaptor\n",
      "import boxm2_adaptor\n",
      "from glob import glob\n",
      "import numpy as np\n",
      "from pylab import *"
     ],
     "language": "python",
     "metadata": {},
     "outputs": [],
     "prompt_number": 1
    },
    {
     "cell_type": "code",
     "collapsed": false,
     "input": [
      "sceneFile = r'D:\\vip\\tmp\\tmp2pmlbo\\scene.xml'\n",
      "#sceneFile = r'D:\\vip\\tmp\\model\\uscene.xml'\n",
      "#sceneFile = None\n",
      "cameraFiles = glob(r'D:\\vip\\tmp\\tmp2pmlbo\\*.krt')\n",
      "#cameraFiles = glob(r'D:\\vip\\tmp\\cams_krt_geo\\*.txt')\n",
      "cameraFiles.sort()"
     ],
     "language": "python",
     "metadata": {},
     "outputs": [],
     "prompt_number": 2
    },
    {
     "cell_type": "code",
     "collapsed": false,
     "input": [
      "def readCamera(krtFile):\n",
      "  with open(krtFile, 'r') as fid:\n",
      "    data = np.loadtxt(fid);\n",
      "  \n",
      "    k = data[0:3, :];\n",
      "    r = data[3:6, :];\n",
      "    t = data[6, :];\n",
      "    \n",
      "    return k,r,t"
     ],
     "language": "python",
     "metadata": {},
     "outputs": [],
     "prompt_number": 3
    },
    {
     "cell_type": "code",
     "collapsed": false,
     "input": [
      "cameras = []\n",
      "for cameraFile in cameraFiles:\n",
      "  k,r,t = readCamera(cameraFile)\n",
      "  cameras.append({'k':k, 'r':r, 't':t})"
     ],
     "language": "python",
     "metadata": {},
     "outputs": [],
     "prompt_number": 4
    },
    {
     "cell_type": "code",
     "collapsed": false,
     "input": [
      "for camera in cameras:\n",
      "  camera['cameraCenter'] = -camera['r'].T.dot(camera['t'])\n",
      "  camera['direction'] = camera['r'].T.dot([0,0,1])"
     ],
     "language": "python",
     "metadata": {},
     "outputs": [],
     "prompt_number": 5
    },
    {
     "cell_type": "code",
     "collapsed": false,
     "input": [
      "cameras[0]['r']"
     ],
     "language": "python",
     "metadata": {},
     "outputs": [
      {
       "metadata": {},
       "output_type": "pyout",
       "prompt_number": 6,
       "text": [
        "array([[-0.00325294, -0.99974605,  0.02229927],\n",
        "       [-0.78685165, -0.01120281, -0.6170405 ],\n",
        "       [ 0.61713362, -0.01955342, -0.78661538]])"
       ]
      }
     ],
     "prompt_number": 6
    },
    {
     "cell_type": "code",
     "collapsed": false,
     "input": [
      "if sceneFile is None:\n",
      "  scene = None\n",
      "else:\n",
      "  scene = boxm2_scene_adaptor(sceneFile,  \"gpu1\");"
     ],
     "language": "python",
     "metadata": {},
     "outputs": [],
     "prompt_number": 7
    },
    {
     "cell_type": "code",
     "collapsed": false,
     "input": [
      "if scene is not None:\n",
      "  bbox = {}\n",
      "  ((bbox['x_min'], bbox['y_min'], bbox['z_min']), (bbox['x_max'], bbox['y_max'], bbox['z_max'])) = scene.bbox"
     ],
     "language": "python",
     "metadata": {},
     "outputs": [],
     "prompt_number": 8
    },
    {
     "cell_type": "code",
     "collapsed": false,
     "input": [
      "from itertools import combinations\n",
      "def drawCube(x_min, x_max, y_min, y_max, z_min, z_max):\n",
      "  hold('on')\n",
      "  for combo in combinations('xyz', 2):\n",
      "    other = tuple(set('xyz') - set(combo))[0]\n",
      "    exec('%c0 = [%c_min, %c_min]' % ((combo[0],)*3))\n",
      "    exec('%c1 = [%c_max, %c_max]' % ((combo[0],)*3))\n",
      "    exec('%c2 = %c0' % ((combo[0],)*2))\n",
      "    exec('%c3 = %c1' % ((combo[0],)*2))\n",
      "    exec('%c0 = [%c_min, %c_min]' % ((combo[1],)*3))\n",
      "    exec('%c2 = [%c_max, %c_max]' % ((combo[1],)*3))\n",
      "    exec('%c1 = %c0' % ((combo[1],)*2))\n",
      "    exec('%c3 = %c2' % ((combo[1],)*2))\n",
      "    exec('%c0 = [%c_min, %c_max]' % ((other,)*3))\n",
      "    exec('%c1 = %c0' % ((other,)*2))\n",
      "    exec('%c2 = %c0' % ((other,)*2))\n",
      "    exec('%c3 = %c0' % ((other,)*2))\n",
      "    for x in range(4):\n",
      "      eval(\"plot(x%d,y%d,z%d, 'b')\" % ((x,)*3))\n",
      "  hold('off')  "
     ],
     "language": "python",
     "metadata": {},
     "outputs": [],
     "prompt_number": 9
    },
    {
     "cell_type": "code",
     "collapsed": false,
     "input": [
      "%matplotlib wx\n",
      "from mpl_toolkits.mplot3d.axes3d import Axes3D\n",
      "fig = plt.figure()\n",
      "clf()\n",
      "ax = fig.add_subplot(1, 1, 1, projection='3d')\n",
      "\n",
      "if scene is not None:\n",
      "  drawCube(**bbox)"
     ],
     "language": "python",
     "metadata": {},
     "outputs": [],
     "prompt_number": 10
    },
    {
     "cell_type": "code",
     "collapsed": false,
     "input": [
      "cameraCenters = np.array(map(lambda x:x['cameraCenter'], cameras))\n",
      "\n",
      "hold('on')\n",
      "plot(cameraCenters[:,0], cameraCenters[:,1], cameraCenters[:,2], 'or')\n",
      "\n",
      "for camera in cameras:\n",
      "  if scene is not None:\n",
      "    l = (bbox['z_min'] - camera['cameraCenter'])/camera['direction'][2]\n",
      "  else:\n",
      "    l = 100\n",
      "  line = np.array([camera['cameraCenter'], camera['cameraCenter'] + camera['direction']*l])\n",
      "  plot(line[:,0], line[:,1], line[:,2], 'k')\n",
      "hold('off')"
     ],
     "language": "python",
     "metadata": {},
     "outputs": [],
     "prompt_number": 11
    },
    {
     "cell_type": "code",
     "collapsed": false,
     "input": [
      "line\n",
      "\n"
     ],
     "language": "python",
     "metadata": {},
     "outputs": [
      {
       "metadata": {},
       "output_type": "pyout",
       "prompt_number": 12,
       "text": [
        "array([[-56.98235832,  -1.50038691, -13.11391683],\n",
        "       [-55.42221063, -24.34763087, -62.20907593]])"
       ]
      }
     ],
     "prompt_number": 12
    },
    {
     "cell_type": "code",
     "collapsed": false,
     "input": [
      "cameras[-1]"
     ],
     "language": "python",
     "metadata": {},
     "outputs": [
      {
       "metadata": {},
       "output_type": "pyout",
       "prompt_number": 13,
       "text": [
        "{'cameraCenter': array([-56.98235832,  -1.50038691, -13.11391683]),\n",
        " 'direction': array([ 0.26906352, -0.33923536, -0.90140124]),\n",
        " 'k': array([[  2.47658301e+03,   0.00000000e+00,   2.04800000e+03],\n",
        "        [  0.00000000e+00,   2.47658301e+03,   1.08000000e+03],\n",
        "        [  0.00000000e+00,   0.00000000e+00,   1.00000000e+00]]),\n",
        " 'r': array([[-0.76556499, -0.64321582,  0.01355216],\n",
        "        [-0.58439291,  0.68643483, -0.43277263],\n",
        "        [ 0.26906352, -0.33923536, -0.90140124]]),\n",
        " 't': array([-44.41104897, -37.9455126 ,   3.00198902])}"
       ]
      }
     ],
     "prompt_number": 13
    },
    {
     "cell_type": "code",
     "collapsed": false,
     "input": [
      "set('xyz') - set(('x', 'y'))"
     ],
     "language": "python",
     "metadata": {},
     "outputs": [
      {
       "metadata": {},
       "output_type": "pyout",
       "prompt_number": 14,
       "text": [
        "{'z'}"
       ]
      }
     ],
     "prompt_number": 14
    },
    {
     "cell_type": "code",
     "collapsed": false,
     "input": [],
     "language": "python",
     "metadata": {},
     "outputs": [],
     "prompt_number": 14
    }
   ],
   "metadata": {}
  }
 ]
}