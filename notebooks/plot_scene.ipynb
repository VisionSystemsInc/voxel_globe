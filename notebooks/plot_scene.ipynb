{
 "metadata": {
  "name": "",
  "signature": "sha256:ffaced6c8696224be10baba9cc79d4357219077176c65c010e068807510ec48e"
 },
 "nbformat": 3,
 "nbformat_minor": 0,
 "worksheets": [
  {
   "cells": [
    {
     "cell_type": "code",
     "collapsed": false,
     "input": [
      "from boxm2_scene_adaptor import boxm2_scene_adaptor\n",
      "import boxm2_adaptor\n",
      "from glob import glob\n",
      "import numpy as np\n",
      "from pylab import *"
     ],
     "language": "python",
     "metadata": {},
     "outputs": [],
     "prompt_number": 1
    },
    {
     "cell_type": "code",
     "collapsed": false,
     "input": [
      "import os\n",
      "sceneFiles = glob(os.path.join(os.environ['VIP_TEMP_DIR'],'*', 'scene.xml'))\n",
      "sceneFile = max(sceneFiles, key=os.path.getctime)\n",
      "sceneDir = os.path.split(sceneFile)[0]\n",
      "sceneDir"
     ],
     "language": "python",
     "metadata": {},
     "outputs": [
      {
       "metadata": {},
       "output_type": "pyout",
       "prompt_number": 2,
       "text": [
        "'/opt/users/andy/projects/ngap2/vip/tmp/tmp8HRHrC'"
       ]
      }
     ],
     "prompt_number": 2
    },
    {
     "cell_type": "code",
     "collapsed": false,
     "input": [
      "#sceneFile = r'D:\\vip\\tmp\\tmp2pmlbo\\scene.xml'\n",
      "#sceneFile = r'D:\\vip\\tmp\\model\\uscene.xml'\n",
      "#sceneFile = None\n",
      "cameraFiles = glob(os.path.join(sceneDir, '*.krt'))\n",
      "#cameraFiles = glob(r'D:\\vip\\tmp\\cams_krt_geo\\*.txt')\n",
      "cameraFiles.sort()"
     ],
     "language": "python",
     "metadata": {},
     "outputs": [],
     "prompt_number": 3
    },
    {
     "cell_type": "code",
     "collapsed": false,
     "input": [
      "def readCamera(krtFile):\n",
      "  with open(krtFile, 'r') as fid:\n",
      "    data = np.loadtxt(fid);\n",
      "  \n",
      "    k = data[0:3, :];\n",
      "    r = data[3:6, :];\n",
      "    t = data[6, :];\n",
      "    \n",
      "    return k,r,t"
     ],
     "language": "python",
     "metadata": {},
     "outputs": [],
     "prompt_number": 4
    },
    {
     "cell_type": "code",
     "collapsed": false,
     "input": [
      "cameras = []\n",
      "for cameraFile in cameraFiles:\n",
      "  k,r,t = readCamera(cameraFile)\n",
      "  cameras.append({'k':k, 'r':r, 't':t})"
     ],
     "language": "python",
     "metadata": {},
     "outputs": [],
     "prompt_number": 5
    },
    {
     "cell_type": "code",
     "collapsed": false,
     "input": [
      "for camera in cameras:\n",
      "  camera['cameraCenter'] = -camera['r'].T.dot(camera['t'])\n",
      "  camera['direction'] = camera['r'].T.dot([0,0,1])"
     ],
     "language": "python",
     "metadata": {},
     "outputs": [],
     "prompt_number": 6
    },
    {
     "cell_type": "code",
     "collapsed": false,
     "input": [
      "cameras[0]['r']"
     ],
     "language": "python",
     "metadata": {},
     "outputs": [
      {
       "metadata": {},
       "output_type": "pyout",
       "prompt_number": 7,
       "text": [
        "array([[-0.87737853,  0.46633629,  0.11285999],\n",
        "       [ 0.46981296,  0.88275282,  0.00482123],\n",
        "       [-0.09737916,  0.05725313, -0.9935992 ]])"
       ]
      }
     ],
     "prompt_number": 7
    },
    {
     "cell_type": "code",
     "collapsed": false,
     "input": [
      "if sceneFile is None:\n",
      "  scene = None\n",
      "else:\n",
      "  scene = boxm2_scene_adaptor(sceneFile,  \"gpu1\");"
     ],
     "language": "python",
     "metadata": {},
     "outputs": [],
     "prompt_number": 8
    },
    {
     "cell_type": "code",
     "collapsed": false,
     "input": [
      "if scene is not None:\n",
      "  bbox = {}\n",
      "  ((bbox['x_min'], bbox['y_min'], bbox['z_min']), (bbox['x_max'], bbox['y_max'], bbox['z_max'])) = scene.bbox"
     ],
     "language": "python",
     "metadata": {},
     "outputs": [],
     "prompt_number": 9
    },
    {
     "cell_type": "code",
     "collapsed": false,
     "input": [
      "from itertools import combinations\n",
      "def drawCube(x_min, x_max, y_min, y_max, z_min, z_max):\n",
      "  hold('on')\n",
      "  for combo in combinations('xyz', 2):\n",
      "    other = tuple(set('xyz') - set(combo))[0]\n",
      "    exec('%c0 = [%c_min, %c_min]' % ((combo[0],)*3))\n",
      "    exec('%c1 = [%c_max, %c_max]' % ((combo[0],)*3))\n",
      "    exec('%c2 = %c0' % ((combo[0],)*2))\n",
      "    exec('%c3 = %c1' % ((combo[0],)*2))\n",
      "    exec('%c0 = [%c_min, %c_min]' % ((combo[1],)*3))\n",
      "    exec('%c2 = [%c_max, %c_max]' % ((combo[1],)*3))\n",
      "    exec('%c1 = %c0' % ((combo[1],)*2))\n",
      "    exec('%c3 = %c2' % ((combo[1],)*2))\n",
      "    exec('%c0 = [%c_min, %c_max]' % ((other,)*3))\n",
      "    exec('%c1 = %c0' % ((other,)*2))\n",
      "    exec('%c2 = %c0' % ((other,)*2))\n",
      "    exec('%c3 = %c0' % ((other,)*2))\n",
      "    for x in range(4):\n",
      "      eval(\"plot(x%d,y%d,z%d, 'b')\" % ((x,)*3))\n",
      "  hold('off')  "
     ],
     "language": "python",
     "metadata": {},
     "outputs": [],
     "prompt_number": 10
    },
    {
     "cell_type": "code",
     "collapsed": false,
     "input": [
      "%matplotlib wx\n",
      "from mpl_toolkits.mplot3d.axes3d import Axes3D\n",
      "fig = plt.figure()\n",
      "clf()\n",
      "ax = fig.add_subplot(1, 1, 1, projection='3d')\n",
      "\n",
      "if scene is not None:\n",
      "  drawCube(**bbox)"
     ],
     "language": "python",
     "metadata": {},
     "outputs": [],
     "prompt_number": 11
    },
    {
     "cell_type": "code",
     "collapsed": false,
     "input": [
      "cameraCenters = np.array(map(lambda x:x['cameraCenter'], cameras))\n",
      "\n",
      "hold('on')\n",
      "plot(cameraCenters[:,0], cameraCenters[:,1], cameraCenters[:,2], 'or')\n",
      "\n",
      "for camera in cameras:\n",
      "  if scene is not None:\n",
      "    l = (bbox['z_min'] - camera['cameraCenter'])/camera['direction'][2]\n",
      "  else:\n",
      "    l = 100\n",
      "  line = np.array([camera['cameraCenter'], camera['cameraCenter'] + camera['direction']*l])\n",
      "  plot(line[:,0], line[:,1], line[:,2], 'k')\n",
      "hold('off')"
     ],
     "language": "python",
     "metadata": {},
     "outputs": [],
     "prompt_number": 12
    },
    {
     "cell_type": "code",
     "collapsed": false,
     "input": [
      "line\n",
      "\n"
     ],
     "language": "python",
     "metadata": {},
     "outputs": [
      {
       "metadata": {},
       "output_type": "pyout",
       "prompt_number": 13,
       "text": [
        "array([[ 112.54958147,  248.0766631 ,  -35.12517209],\n",
        "       [ 102.65616321,  268.3118273 , -285.4552002 ]])"
       ]
      }
     ],
     "prompt_number": 13
    },
    {
     "cell_type": "code",
     "collapsed": false,
     "input": [
      "cameras[-1]"
     ],
     "language": "python",
     "metadata": {},
     "outputs": [
      {
       "metadata": {},
       "output_type": "pyout",
       "prompt_number": 14,
       "text": [
        "{'cameraCenter': array([ 112.54958147,  248.0766631 ,  -35.12517209]),\n",
        " 'direction': array([-0.02483202,  0.03788788, -0.99897341]),\n",
        " 'k': array([[  2.73434790e+03,   0.00000000e+00,   2.00000000e+03],\n",
        "        [  0.00000000e+00,   2.73434790e+03,   1.50000000e+03],\n",
        "        [  0.00000000e+00,   0.00000000e+00,   1.00000000e+00]]),\n",
        " 'r': array([[ 0.92064686, -0.38857935, -0.03762259],\n",
        "        [-0.38960588, -0.92063598, -0.02523215],\n",
        "        [-0.02483202,  0.03788788, -0.99897341]]),\n",
        " 't': array([  -8.54245053,  271.35199557,  -41.6933786 ])}"
       ]
      }
     ],
     "prompt_number": 14
    },
    {
     "cell_type": "code",
     "collapsed": false,
     "input": [
      "set('xyz') - set(('x', 'y'))"
     ],
     "language": "python",
     "metadata": {},
     "outputs": [
      {
       "metadata": {},
       "output_type": "pyout",
       "prompt_number": 15,
       "text": [
        "{'z'}"
       ]
      }
     ],
     "prompt_number": 15
    },
    {
     "cell_type": "code",
     "collapsed": false,
     "input": [],
     "language": "python",
     "metadata": {},
     "outputs": [],
     "prompt_number": 15
    }
   ],
   "metadata": {}
  }
 ]
}